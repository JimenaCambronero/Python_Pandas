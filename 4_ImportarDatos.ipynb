{
 "cells": [
  {
   "cell_type": "markdown",
   "metadata": {},
   "source": [
    "# Importar Datos"
   ]
  },
  {
   "cell_type": "markdown",
   "metadata": {},
   "source": [
    "3 formas de Importar Datos\n",
    "\n",
    "**CSV**\n",
    "\n",
    "**EXCEL**\n",
    "\n",
    "**PORTAPAPELES**\n",
    "\n",
    "A partir de ahí vendran otros archivos como pickle, pero si entendes la dinámica de estos 3 el resto será más sencillo."
   ]
  },
  {
   "cell_type": "markdown",
   "metadata": {},
   "source": [
    "## Como importar un CSV"
   ]
  },
  {
   "cell_type": "markdown",
   "metadata": {},
   "source": [
    "## Importar un csv"
   ]
  },
  {
   "cell_type": "code",
   "execution_count": 4,
   "metadata": {},
   "outputs": [
    {
     "data": {
      "text/html": [
       "<div>\n",
       "<style scoped>\n",
       "    .dataframe tbody tr th:only-of-type {\n",
       "        vertical-align: middle;\n",
       "    }\n",
       "\n",
       "    .dataframe tbody tr th {\n",
       "        vertical-align: top;\n",
       "    }\n",
       "\n",
       "    .dataframe thead th {\n",
       "        text-align: right;\n",
       "    }\n",
       "</style>\n",
       "<table border=\"1\" class=\"dataframe\">\n",
       "  <thead>\n",
       "    <tr style=\"text-align: right;\">\n",
       "      <th></th>\n",
       "      <th>Nombre Cliente</th>\n",
       "      <th>Tipo Producto</th>\n",
       "      <th>Precio (€/kg)</th>\n",
       "      <th>Cantidad Vendida (kg)</th>\n",
       "      <th>Fecha Venta</th>\n",
       "      <th>Provincia Cliente</th>\n",
       "    </tr>\n",
       "    <tr>\n",
       "      <th>id</th>\n",
       "      <th></th>\n",
       "      <th></th>\n",
       "      <th></th>\n",
       "      <th></th>\n",
       "      <th></th>\n",
       "      <th></th>\n",
       "    </tr>\n",
       "  </thead>\n",
       "  <tbody>\n",
       "    <tr>\n",
       "      <th>389932</th>\n",
       "      <td>Mas y Mas</td>\n",
       "      <td>Almendras</td>\n",
       "      <td>4.54</td>\n",
       "      <td>1212</td>\n",
       "      <td>29/3/23</td>\n",
       "      <td>Cádiz</td>\n",
       "    </tr>\n",
       "    <tr>\n",
       "      <th>389933</th>\n",
       "      <td>Mercadona</td>\n",
       "      <td>Nueces</td>\n",
       "      <td>5.84</td>\n",
       "      <td>591</td>\n",
       "      <td>5/12/23</td>\n",
       "      <td>Sevilla</td>\n",
       "    </tr>\n",
       "    <tr>\n",
       "      <th>389934</th>\n",
       "      <td>Alcampo</td>\n",
       "      <td>Cacahuetes</td>\n",
       "      <td>2.69</td>\n",
       "      <td>2831</td>\n",
       "      <td>26/7/23</td>\n",
       "      <td>Madrid</td>\n",
       "    </tr>\n",
       "    <tr>\n",
       "      <th>389935</th>\n",
       "      <td>Mas y Mas</td>\n",
       "      <td>Pistachos</td>\n",
       "      <td>6.70</td>\n",
       "      <td>516</td>\n",
       "      <td>7/10/23</td>\n",
       "      <td>Alicante</td>\n",
       "    </tr>\n",
       "    <tr>\n",
       "      <th>389936</th>\n",
       "      <td>Lidl</td>\n",
       "      <td>Nueces</td>\n",
       "      <td>6.14</td>\n",
       "      <td>1283</td>\n",
       "      <td>12/5/23</td>\n",
       "      <td>Barcelona</td>\n",
       "    </tr>\n",
       "    <tr>\n",
       "      <th>...</th>\n",
       "      <td>...</td>\n",
       "      <td>...</td>\n",
       "      <td>...</td>\n",
       "      <td>...</td>\n",
       "      <td>...</td>\n",
       "      <td>...</td>\n",
       "    </tr>\n",
       "    <tr>\n",
       "      <th>390227</th>\n",
       "      <td>Caprabo</td>\n",
       "      <td>Nueces</td>\n",
       "      <td>9.75</td>\n",
       "      <td>2367</td>\n",
       "      <td>15/9/23</td>\n",
       "      <td>Sevilla</td>\n",
       "    </tr>\n",
       "    <tr>\n",
       "      <th>390228</th>\n",
       "      <td>Alcampo</td>\n",
       "      <td>Pistachos</td>\n",
       "      <td>3.82</td>\n",
       "      <td>1951</td>\n",
       "      <td>19/9/23</td>\n",
       "      <td>Madrid</td>\n",
       "    </tr>\n",
       "    <tr>\n",
       "      <th>390229</th>\n",
       "      <td>Mas y Mas</td>\n",
       "      <td>Pistachos</td>\n",
       "      <td>5.22</td>\n",
       "      <td>2811</td>\n",
       "      <td>4/5/23</td>\n",
       "      <td>Valencia</td>\n",
       "    </tr>\n",
       "    <tr>\n",
       "      <th>390230</th>\n",
       "      <td>Mas y Mas</td>\n",
       "      <td>Cacahuetes</td>\n",
       "      <td>8.07</td>\n",
       "      <td>473</td>\n",
       "      <td>18/1/23</td>\n",
       "      <td>Madrid</td>\n",
       "    </tr>\n",
       "    <tr>\n",
       "      <th>390231</th>\n",
       "      <td>Aldi</td>\n",
       "      <td>Nueces</td>\n",
       "      <td>5.80</td>\n",
       "      <td>1081</td>\n",
       "      <td>23/3/23</td>\n",
       "      <td>Sevilla</td>\n",
       "    </tr>\n",
       "  </tbody>\n",
       "</table>\n",
       "<p>300 rows × 6 columns</p>\n",
       "</div>"
      ],
      "text/plain": [
       "       Nombre Cliente Tipo Producto  Precio (€/kg)  Cantidad Vendida (kg)  \\\n",
       "id                                                                          \n",
       "389932      Mas y Mas     Almendras           4.54                   1212   \n",
       "389933      Mercadona        Nueces           5.84                    591   \n",
       "389934        Alcampo    Cacahuetes           2.69                   2831   \n",
       "389935      Mas y Mas     Pistachos           6.70                    516   \n",
       "389936           Lidl        Nueces           6.14                   1283   \n",
       "...               ...           ...            ...                    ...   \n",
       "390227        Caprabo        Nueces           9.75                   2367   \n",
       "390228        Alcampo     Pistachos           3.82                   1951   \n",
       "390229      Mas y Mas     Pistachos           5.22                   2811   \n",
       "390230      Mas y Mas    Cacahuetes           8.07                    473   \n",
       "390231           Aldi        Nueces           5.80                   1081   \n",
       "\n",
       "       Fecha Venta Provincia Cliente  \n",
       "id                                    \n",
       "389932     29/3/23             Cádiz  \n",
       "389933     5/12/23           Sevilla  \n",
       "389934     26/7/23            Madrid  \n",
       "389935     7/10/23          Alicante  \n",
       "389936     12/5/23         Barcelona  \n",
       "...            ...               ...  \n",
       "390227     15/9/23           Sevilla  \n",
       "390228     19/9/23            Madrid  \n",
       "390229      4/5/23          Valencia  \n",
       "390230     18/1/23            Madrid  \n",
       "390231     23/3/23           Sevilla  \n",
       "\n",
       "[300 rows x 6 columns]"
      ]
     },
     "execution_count": 4,
     "metadata": {},
     "output_type": "execute_result"
    }
   ],
   "source": [
    "import pandas as pd \n",
    "df = pd.read_csv('/Users/jimenacambronero/Desktop/Proyectos para Portfolio/PythonPracticas/Datos/Frutos_Secos.csv', delimiter=';', index_col='id' )\n",
    "\n",
    "df"
   ]
  },
  {
   "cell_type": "code",
   "execution_count": 5,
   "metadata": {},
   "outputs": [
    {
     "name": "stdout",
     "output_type": "stream",
     "text": [
      "<class 'pandas.core.frame.DataFrame'>\n",
      "Int64Index: 300 entries, 389932 to 390231\n",
      "Data columns (total 6 columns):\n",
      " #   Column                 Non-Null Count  Dtype  \n",
      "---  ------                 --------------  -----  \n",
      " 0   Nombre Cliente         300 non-null    object \n",
      " 1   Tipo Producto          300 non-null    object \n",
      " 2   Precio (€/kg)          300 non-null    float64\n",
      " 3   Cantidad Vendida (kg)  300 non-null    int64  \n",
      " 4   Fecha Venta            300 non-null    object \n",
      " 5   Provincia Cliente      300 non-null    object \n",
      "dtypes: float64(1), int64(1), object(4)\n",
      "memory usage: 16.4+ KB\n"
     ]
    }
   ],
   "source": [
    "#Información general\n",
    "df.info()"
   ]
  },
  {
   "cell_type": "code",
   "execution_count": 8,
   "metadata": {},
   "outputs": [
    {
     "data": {
      "text/html": [
       "<div>\n",
       "<style scoped>\n",
       "    .dataframe tbody tr th:only-of-type {\n",
       "        vertical-align: middle;\n",
       "    }\n",
       "\n",
       "    .dataframe tbody tr th {\n",
       "        vertical-align: top;\n",
       "    }\n",
       "\n",
       "    .dataframe thead th {\n",
       "        text-align: right;\n",
       "    }\n",
       "</style>\n",
       "<table border=\"1\" class=\"dataframe\">\n",
       "  <thead>\n",
       "    <tr style=\"text-align: right;\">\n",
       "      <th></th>\n",
       "      <th>Nombre Cliente</th>\n",
       "      <th>Tipo Producto</th>\n",
       "      <th>Precio (€/kg)</th>\n",
       "      <th>Cantidad Vendida (kg)</th>\n",
       "      <th>Fecha Venta</th>\n",
       "      <th>Provincia Cliente</th>\n",
       "    </tr>\n",
       "    <tr>\n",
       "      <th>id</th>\n",
       "      <th></th>\n",
       "      <th></th>\n",
       "      <th></th>\n",
       "      <th></th>\n",
       "      <th></th>\n",
       "      <th></th>\n",
       "    </tr>\n",
       "  </thead>\n",
       "  <tbody>\n",
       "    <tr>\n",
       "      <th>389932</th>\n",
       "      <td>Mas y Mas</td>\n",
       "      <td>Almendras</td>\n",
       "      <td>4.54</td>\n",
       "      <td>1212</td>\n",
       "      <td>2023-03-29</td>\n",
       "      <td>Cádiz</td>\n",
       "    </tr>\n",
       "    <tr>\n",
       "      <th>389933</th>\n",
       "      <td>Mercadona</td>\n",
       "      <td>Nueces</td>\n",
       "      <td>5.84</td>\n",
       "      <td>591</td>\n",
       "      <td>2023-05-12</td>\n",
       "      <td>Sevilla</td>\n",
       "    </tr>\n",
       "    <tr>\n",
       "      <th>389934</th>\n",
       "      <td>Alcampo</td>\n",
       "      <td>Cacahuetes</td>\n",
       "      <td>2.69</td>\n",
       "      <td>2831</td>\n",
       "      <td>2023-07-26</td>\n",
       "      <td>Madrid</td>\n",
       "    </tr>\n",
       "    <tr>\n",
       "      <th>389935</th>\n",
       "      <td>Mas y Mas</td>\n",
       "      <td>Pistachos</td>\n",
       "      <td>6.70</td>\n",
       "      <td>516</td>\n",
       "      <td>2023-07-10</td>\n",
       "      <td>Alicante</td>\n",
       "    </tr>\n",
       "    <tr>\n",
       "      <th>389936</th>\n",
       "      <td>Lidl</td>\n",
       "      <td>Nueces</td>\n",
       "      <td>6.14</td>\n",
       "      <td>1283</td>\n",
       "      <td>2023-12-05</td>\n",
       "      <td>Barcelona</td>\n",
       "    </tr>\n",
       "  </tbody>\n",
       "</table>\n",
       "</div>"
      ],
      "text/plain": [
       "       Nombre Cliente Tipo Producto  Precio (€/kg)  Cantidad Vendida (kg)  \\\n",
       "id                                                                          \n",
       "389932      Mas y Mas     Almendras           4.54                   1212   \n",
       "389933      Mercadona        Nueces           5.84                    591   \n",
       "389934        Alcampo    Cacahuetes           2.69                   2831   \n",
       "389935      Mas y Mas     Pistachos           6.70                    516   \n",
       "389936           Lidl        Nueces           6.14                   1283   \n",
       "\n",
       "       Fecha Venta Provincia Cliente  \n",
       "id                                    \n",
       "389932  2023-03-29             Cádiz  \n",
       "389933  2023-05-12           Sevilla  \n",
       "389934  2023-07-26            Madrid  \n",
       "389935  2023-07-10          Alicante  \n",
       "389936  2023-12-05         Barcelona  "
      ]
     },
     "execution_count": 8,
     "metadata": {},
     "output_type": "execute_result"
    }
   ],
   "source": [
    "# Lee el archivo csv con la columna 'Fecha Venta' como fechas parseadas\n",
    "df = pd.read_csv ('/Users/jimenacambronero/Desktop/Proyectos para Portfolio/PythonPracticas/Datos/Frutos_Secos.csv', delimiter=';', index_col='id', parse_dates=['Fecha Venta'])\n",
    "\n",
    "# Muestra las primeras filas del dataFrame para verificar que la fecha se haya parseado correctamente\n",
    "df.head()"
   ]
  },
  {
   "cell_type": "code",
   "execution_count": 9,
   "metadata": {},
   "outputs": [
    {
     "name": "stdout",
     "output_type": "stream",
     "text": [
      "<class 'pandas.core.frame.DataFrame'>\n",
      "Int64Index: 300 entries, 389932 to 390231\n",
      "Data columns (total 6 columns):\n",
      " #   Column                 Non-Null Count  Dtype         \n",
      "---  ------                 --------------  -----         \n",
      " 0   Nombre Cliente         300 non-null    object        \n",
      " 1   Tipo Producto          300 non-null    object        \n",
      " 2   Precio (€/kg)          300 non-null    float64       \n",
      " 3   Cantidad Vendida (kg)  300 non-null    int64         \n",
      " 4   Fecha Venta            300 non-null    datetime64[ns]\n",
      " 5   Provincia Cliente      300 non-null    object        \n",
      "dtypes: datetime64[ns](1), float64(1), int64(1), object(3)\n",
      "memory usage: 16.4+ KB\n"
     ]
    }
   ],
   "source": [
    "#Información general. Vemos que la columna fecha de venta ahora es del tipo datetime64\n",
    "df.info()"
   ]
  },
  {
   "cell_type": "markdown",
   "metadata": {},
   "source": [
    "## Importar desde un Excel"
   ]
  },
  {
   "cell_type": "code",
   "execution_count": 11,
   "metadata": {},
   "outputs": [],
   "source": [
    "# Parseamos la fecha al momento de la carga\n",
    "df_excel = pd.read_excel('/Users/jimenacambronero/Desktop/Proyectos para Portfolio/PythonPracticas/Datos/Frutos_Secos.xlsx', index_col='id', parse_dates=['Fecha Venta'])"
   ]
  },
  {
   "cell_type": "code",
   "execution_count": 12,
   "metadata": {},
   "outputs": [
    {
     "name": "stdout",
     "output_type": "stream",
     "text": [
      "<class 'pandas.core.frame.DataFrame'>\n",
      "Int64Index: 300 entries, 389932 to 390231\n",
      "Data columns (total 6 columns):\n",
      " #   Column                 Non-Null Count  Dtype         \n",
      "---  ------                 --------------  -----         \n",
      " 0   Nombre Cliente         300 non-null    object        \n",
      " 1   Tipo Producto          300 non-null    object        \n",
      " 2   Precio (€/kg)          300 non-null    float64       \n",
      " 3   Cantidad Vendida (kg)  300 non-null    int64         \n",
      " 4   Fecha Venta            300 non-null    datetime64[ns]\n",
      " 5   Provincia Cliente      300 non-null    object        \n",
      "dtypes: datetime64[ns](1), float64(1), int64(1), object(3)\n",
      "memory usage: 16.4+ KB\n"
     ]
    }
   ],
   "source": [
    "df_excel.info()"
   ]
  },
  {
   "cell_type": "code",
   "execution_count": 13,
   "metadata": {},
   "outputs": [
    {
     "data": {
      "text/html": [
       "<div>\n",
       "<style scoped>\n",
       "    .dataframe tbody tr th:only-of-type {\n",
       "        vertical-align: middle;\n",
       "    }\n",
       "\n",
       "    .dataframe tbody tr th {\n",
       "        vertical-align: top;\n",
       "    }\n",
       "\n",
       "    .dataframe thead th {\n",
       "        text-align: right;\n",
       "    }\n",
       "</style>\n",
       "<table border=\"1\" class=\"dataframe\">\n",
       "  <thead>\n",
       "    <tr style=\"text-align: right;\">\n",
       "      <th></th>\n",
       "      <th>Nombre Cliente</th>\n",
       "      <th>Tipo Producto</th>\n",
       "      <th>Precio (€/kg)</th>\n",
       "      <th>Cantidad Vendida (kg)</th>\n",
       "      <th>Fecha Venta</th>\n",
       "      <th>Provincia Cliente</th>\n",
       "    </tr>\n",
       "    <tr>\n",
       "      <th>id</th>\n",
       "      <th></th>\n",
       "      <th></th>\n",
       "      <th></th>\n",
       "      <th></th>\n",
       "      <th></th>\n",
       "      <th></th>\n",
       "    </tr>\n",
       "  </thead>\n",
       "  <tbody>\n",
       "    <tr>\n",
       "      <th>389932</th>\n",
       "      <td>Mas y Mas</td>\n",
       "      <td>Almendras</td>\n",
       "      <td>4.54</td>\n",
       "      <td>1212</td>\n",
       "      <td>2023-03-29</td>\n",
       "      <td>Cádiz</td>\n",
       "    </tr>\n",
       "    <tr>\n",
       "      <th>389933</th>\n",
       "      <td>Mercadona</td>\n",
       "      <td>Nueces</td>\n",
       "      <td>5.84</td>\n",
       "      <td>591</td>\n",
       "      <td>2023-05-12</td>\n",
       "      <td>Sevilla</td>\n",
       "    </tr>\n",
       "    <tr>\n",
       "      <th>389934</th>\n",
       "      <td>Alcampo</td>\n",
       "      <td>Cacahuetes</td>\n",
       "      <td>2.69</td>\n",
       "      <td>2831</td>\n",
       "      <td>2023-07-26</td>\n",
       "      <td>Madrid</td>\n",
       "    </tr>\n",
       "    <tr>\n",
       "      <th>389935</th>\n",
       "      <td>Mas y Mas</td>\n",
       "      <td>Pistachos</td>\n",
       "      <td>6.70</td>\n",
       "      <td>516</td>\n",
       "      <td>2023-07-10</td>\n",
       "      <td>Alicante</td>\n",
       "    </tr>\n",
       "    <tr>\n",
       "      <th>389936</th>\n",
       "      <td>Lidl</td>\n",
       "      <td>Nueces</td>\n",
       "      <td>6.14</td>\n",
       "      <td>1283</td>\n",
       "      <td>2023-12-05</td>\n",
       "      <td>Barcelona</td>\n",
       "    </tr>\n",
       "  </tbody>\n",
       "</table>\n",
       "</div>"
      ],
      "text/plain": [
       "       Nombre Cliente Tipo Producto  Precio (€/kg)  Cantidad Vendida (kg)  \\\n",
       "id                                                                          \n",
       "389932      Mas y Mas     Almendras           4.54                   1212   \n",
       "389933      Mercadona        Nueces           5.84                    591   \n",
       "389934        Alcampo    Cacahuetes           2.69                   2831   \n",
       "389935      Mas y Mas     Pistachos           6.70                    516   \n",
       "389936           Lidl        Nueces           6.14                   1283   \n",
       "\n",
       "       Fecha Venta Provincia Cliente  \n",
       "id                                    \n",
       "389932  2023-03-29             Cádiz  \n",
       "389933  2023-05-12           Sevilla  \n",
       "389934  2023-07-26            Madrid  \n",
       "389935  2023-07-10          Alicante  \n",
       "389936  2023-12-05         Barcelona  "
      ]
     },
     "execution_count": 13,
     "metadata": {},
     "output_type": "execute_result"
    }
   ],
   "source": [
    "df_excel.head()"
   ]
  },
  {
   "cell_type": "markdown",
   "metadata": {},
   "source": [
    "## Importar desde el Portapapeles"
   ]
  },
  {
   "cell_type": "code",
   "execution_count": 14,
   "metadata": {},
   "outputs": [
    {
     "data": {
      "text/html": [
       "<div>\n",
       "<style scoped>\n",
       "    .dataframe tbody tr th:only-of-type {\n",
       "        vertical-align: middle;\n",
       "    }\n",
       "\n",
       "    .dataframe tbody tr th {\n",
       "        vertical-align: top;\n",
       "    }\n",
       "\n",
       "    .dataframe thead th {\n",
       "        text-align: right;\n",
       "    }\n",
       "</style>\n",
       "<table border=\"1\" class=\"dataframe\">\n",
       "  <thead>\n",
       "    <tr style=\"text-align: right;\">\n",
       "      <th></th>\n",
       "      <th>0</th>\n",
       "      <th>1</th>\n",
       "      <th>2</th>\n",
       "      <th>3</th>\n",
       "      <th>4</th>\n",
       "    </tr>\n",
       "  </thead>\n",
       "  <tbody>\n",
       "    <tr>\n",
       "      <th>0</th>\n",
       "      <td>('/Users/jimenacambronero/Desktop/Proyectos</td>\n",
       "      <td>para</td>\n",
       "      <td>Portfolio/PythonPracticas/Datos/Frutos_Secos.c...</td>\n",
       "      <td>delimiter=';',</td>\n",
       "      <td>index_col='id'</td>\n",
       "    </tr>\n",
       "  </tbody>\n",
       "</table>\n",
       "</div>"
      ],
      "text/plain": [
       "                                             0     1  \\\n",
       "0  ('/Users/jimenacambronero/Desktop/Proyectos  para   \n",
       "\n",
       "                                                   2               3  \\\n",
       "0  Portfolio/PythonPracticas/Datos/Frutos_Secos.c...  delimiter=';',   \n",
       "\n",
       "                4  \n",
       "0  index_col='id'  "
      ]
     },
     "execution_count": 14,
     "metadata": {},
     "output_type": "execute_result"
    }
   ],
   "source": [
    "df_portapapeles = pd.read_clipboard(header=None)\n",
    "df_portapapeles.head(2)"
   ]
  },
  {
   "cell_type": "markdown",
   "metadata": {},
   "source": [
    "# Bases de datos relacionales -SQL Alchemy-"
   ]
  },
  {
   "cell_type": "markdown",
   "metadata": {},
   "source": [
    "SQLAlchemy es una biblioteca de Python que proporciona una forma flexible y de alto rendimiento para trabajar con bases de datos relacionales. Se utiliza comúnmente como un Object Relational Mapper (ORM), que es una técnica que facilita la interacción con bases de datos utilizando objetos y consultas en lugar de escribir directamente en SQL."
   ]
  },
  {
   "cell_type": "code",
   "execution_count": 1,
   "metadata": {},
   "outputs": [],
   "source": [
    "import sqlalchemy as sa"
   ]
  },
  {
   "cell_type": "code",
   "execution_count": 26,
   "metadata": {},
   "outputs": [],
   "source": [
    "# Crear la conexion a la base de datos\n",
    "conexion= sa.create_engine('sqlite:////Users/jimenacambronero/Desktop/Proyectos para Portfolio/PythonPracticas/Datos/pruebassqlalchemy.db')"
   ]
  },
  {
   "cell_type": "code",
   "execution_count": 35,
   "metadata": {},
   "outputs": [],
   "source": [
    "# Hacer la query para cargar los datos\n",
    "df_sql= pd.read_sql('SELECT * FROM Registros_Ventas',conexion)"
   ]
  },
  {
   "cell_type": "code",
   "execution_count": 36,
   "metadata": {},
   "outputs": [
    {
     "data": {
      "text/html": [
       "<div>\n",
       "<style scoped>\n",
       "    .dataframe tbody tr th:only-of-type {\n",
       "        vertical-align: middle;\n",
       "    }\n",
       "\n",
       "    .dataframe tbody tr th {\n",
       "        vertical-align: top;\n",
       "    }\n",
       "\n",
       "    .dataframe thead th {\n",
       "        text-align: right;\n",
       "    }\n",
       "</style>\n",
       "<table border=\"1\" class=\"dataframe\">\n",
       "  <thead>\n",
       "    <tr style=\"text-align: right;\">\n",
       "      <th></th>\n",
       "      <th>Nombre Cliente</th>\n",
       "      <th>Tipo Producto</th>\n",
       "      <th>Precio (€/kg)</th>\n",
       "      <th>Cantidad Vendida (kg)</th>\n",
       "      <th>Fecha Venta</th>\n",
       "      <th>Provincia Cliente</th>\n",
       "    </tr>\n",
       "  </thead>\n",
       "  <tbody>\n",
       "    <tr>\n",
       "      <th>0</th>\n",
       "      <td>Mas y Mas</td>\n",
       "      <td>Almendras</td>\n",
       "      <td>4.54</td>\n",
       "      <td>1212</td>\n",
       "      <td>2023-03-29</td>\n",
       "      <td>Cádiz</td>\n",
       "    </tr>\n",
       "    <tr>\n",
       "      <th>1</th>\n",
       "      <td>Mercadona</td>\n",
       "      <td>Nueces</td>\n",
       "      <td>5.84</td>\n",
       "      <td>591</td>\n",
       "      <td>2023-12-05</td>\n",
       "      <td>Sevilla</td>\n",
       "    </tr>\n",
       "    <tr>\n",
       "      <th>2</th>\n",
       "      <td>Alcampo</td>\n",
       "      <td>Cacahuetes</td>\n",
       "      <td>2.69</td>\n",
       "      <td>2831</td>\n",
       "      <td>2023-07-26</td>\n",
       "      <td>Madrid</td>\n",
       "    </tr>\n",
       "    <tr>\n",
       "      <th>3</th>\n",
       "      <td>Mas y Mas</td>\n",
       "      <td>Pistachos</td>\n",
       "      <td>6.70</td>\n",
       "      <td>516</td>\n",
       "      <td>2023-10-07</td>\n",
       "      <td>Alicante</td>\n",
       "    </tr>\n",
       "    <tr>\n",
       "      <th>4</th>\n",
       "      <td>Lidl</td>\n",
       "      <td>Nueces</td>\n",
       "      <td>6.14</td>\n",
       "      <td>1283</td>\n",
       "      <td>2023-05-12</td>\n",
       "      <td>Barcelona</td>\n",
       "    </tr>\n",
       "  </tbody>\n",
       "</table>\n",
       "</div>"
      ],
      "text/plain": [
       "  Nombre Cliente Tipo Producto  Precio (€/kg)  Cantidad Vendida (kg)  \\\n",
       "0      Mas y Mas     Almendras           4.54                   1212   \n",
       "1      Mercadona        Nueces           5.84                    591   \n",
       "2        Alcampo    Cacahuetes           2.69                   2831   \n",
       "3      Mas y Mas     Pistachos           6.70                    516   \n",
       "4           Lidl        Nueces           6.14                   1283   \n",
       "\n",
       "  Fecha Venta Provincia Cliente  \n",
       "0  2023-03-29             Cádiz  \n",
       "1  2023-12-05           Sevilla  \n",
       "2  2023-07-26            Madrid  \n",
       "3  2023-10-07          Alicante  \n",
       "4  2023-05-12         Barcelona  "
      ]
     },
     "execution_count": 36,
     "metadata": {},
     "output_type": "execute_result"
    }
   ],
   "source": [
    "# Trabajar normalmente como un dataframe de Pandas\n",
    "df_sql.head()"
   ]
  },
  {
   "cell_type": "markdown",
   "metadata": {},
   "source": [
    "# Guardar Datos"
   ]
  },
  {
   "cell_type": "markdown",
   "metadata": {},
   "source": [
    "CSV\n",
    "\n",
    "    df.to_csv('Prueba.csv')\n",
    "\n",
    "EXCEL\n",
    "\n",
    "    df.to_excel('Prueba.xlsx')"
   ]
  },
  {
   "cell_type": "markdown",
   "metadata": {},
   "source": [
    "# Situaciones Frecuentes"
   ]
  },
  {
   "cell_type": "markdown",
   "metadata": {},
   "source": [
    "## Separadores No Estandar\n",
    "\n",
    "A menudo, cuando trabajas con archivos, la información está organizada en columnas y las columnas están separadas por caracteres especiales como comas, punto y coma o tabulaciones.\n",
    "\n",
    "Pero a veces, en lugar de comas o punto y coma, pueden usar cualquier otro carácter para separar las columnas. Entonces, lo primero que debes hacer es descubrir qué carácter están usando para separar las columnas, para que podamos leer el archivo correctamente. Esto se hace utilizando el parámetro \"sep\".\n",
    "\n",
    "La mayoría de las veces, esta información sobre el carácter separador se encuentra en la documentación del archivo o en las instrucciones proporcionadas."
   ]
  },
  {
   "cell_type": "code",
   "execution_count": 37,
   "metadata": {},
   "outputs": [
    {
     "data": {
      "text/html": [
       "<div>\n",
       "<style scoped>\n",
       "    .dataframe tbody tr th:only-of-type {\n",
       "        vertical-align: middle;\n",
       "    }\n",
       "\n",
       "    .dataframe tbody tr th {\n",
       "        vertical-align: top;\n",
       "    }\n",
       "\n",
       "    .dataframe thead th {\n",
       "        text-align: right;\n",
       "    }\n",
       "</style>\n",
       "<table border=\"1\" class=\"dataframe\">\n",
       "  <thead>\n",
       "    <tr style=\"text-align: right;\">\n",
       "      <th></th>\n",
       "      <th>Nombre</th>\n",
       "      <th>Edad</th>\n",
       "      <th>Ciudad</th>\n",
       "    </tr>\n",
       "  </thead>\n",
       "  <tbody>\n",
       "    <tr>\n",
       "      <th>0</th>\n",
       "      <td>Juan</td>\n",
       "      <td>25</td>\n",
       "      <td>Madrid</td>\n",
       "    </tr>\n",
       "    <tr>\n",
       "      <th>1</th>\n",
       "      <td>Ana</td>\n",
       "      <td>30</td>\n",
       "      <td>Barcelona</td>\n",
       "    </tr>\n",
       "    <tr>\n",
       "      <th>2</th>\n",
       "      <td>Carlos</td>\n",
       "      <td>22</td>\n",
       "      <td>Sevilla</td>\n",
       "    </tr>\n",
       "  </tbody>\n",
       "</table>\n",
       "</div>"
      ],
      "text/plain": [
       "   Nombre  Edad     Ciudad\n",
       "0    Juan    25     Madrid\n",
       "1     Ana    30  Barcelona\n",
       "2  Carlos    22    Sevilla"
      ]
     },
     "execution_count": 37,
     "metadata": {},
     "output_type": "execute_result"
    }
   ],
   "source": [
    "pd.read_csv( '/Users/jimenacambronero/Desktop/Proyectos para Portfolio/PythonPracticas/Datos/ejemplo_tabulador.csv', sep='\\t').head(5) "
   ]
  },
  {
   "cell_type": "markdown",
   "metadata": {},
   "source": [
    "## Cuando los datos NO comienzan en la Primera Fila"
   ]
  },
  {
   "cell_type": "code",
   "execution_count": 38,
   "metadata": {},
   "outputs": [
    {
     "data": {
      "text/html": [
       "<div>\n",
       "<style scoped>\n",
       "    .dataframe tbody tr th:only-of-type {\n",
       "        vertical-align: middle;\n",
       "    }\n",
       "\n",
       "    .dataframe tbody tr th {\n",
       "        vertical-align: top;\n",
       "    }\n",
       "\n",
       "    .dataframe thead th {\n",
       "        text-align: right;\n",
       "    }\n",
       "</style>\n",
       "<table border=\"1\" class=\"dataframe\">\n",
       "  <thead>\n",
       "    <tr style=\"text-align: right;\">\n",
       "      <th></th>\n",
       "      <th>Juan</th>\n",
       "      <th>25</th>\n",
       "      <th>Madrid</th>\n",
       "    </tr>\n",
       "  </thead>\n",
       "  <tbody>\n",
       "    <tr>\n",
       "      <th>0</th>\n",
       "      <td>Ana</td>\n",
       "      <td>30</td>\n",
       "      <td>Barcelona</td>\n",
       "    </tr>\n",
       "    <tr>\n",
       "      <th>1</th>\n",
       "      <td>Carlos</td>\n",
       "      <td>22</td>\n",
       "      <td>Sevilla</td>\n",
       "    </tr>\n",
       "  </tbody>\n",
       "</table>\n",
       "</div>"
      ],
      "text/plain": [
       "     Juan  25     Madrid\n",
       "0     Ana  30  Barcelona\n",
       "1  Carlos  22    Sevilla"
      ]
     },
     "execution_count": 38,
     "metadata": {},
     "output_type": "execute_result"
    }
   ],
   "source": [
    "# skiprows se salta la primera fila, cabecera, directamente carga como cabecera el primer registro\n",
    "pd.read_csv('/Users/jimenacambronero/Desktop/Proyectos para Portfolio/PythonPracticas/Datos/ejemplo_tabulador.csv', \n",
    "            sep='\\t',\n",
    "            skiprows=1).head(5)"
   ]
  },
  {
   "cell_type": "markdown",
   "metadata": {},
   "source": [
    "## Columnas Sin Nombre"
   ]
  },
  {
   "cell_type": "markdown",
   "metadata": {},
   "source": [
    "A veces puede suceder que no queremos cargar los nombres de las columnas sino que los queremos poner más tarde"
   ]
  },
  {
   "cell_type": "code",
   "execution_count": 39,
   "metadata": {},
   "outputs": [
    {
     "data": {
      "text/html": [
       "<div>\n",
       "<style scoped>\n",
       "    .dataframe tbody tr th:only-of-type {\n",
       "        vertical-align: middle;\n",
       "    }\n",
       "\n",
       "    .dataframe tbody tr th {\n",
       "        vertical-align: top;\n",
       "    }\n",
       "\n",
       "    .dataframe thead th {\n",
       "        text-align: right;\n",
       "    }\n",
       "</style>\n",
       "<table border=\"1\" class=\"dataframe\">\n",
       "  <thead>\n",
       "    <tr style=\"text-align: right;\">\n",
       "      <th></th>\n",
       "      <th>0</th>\n",
       "      <th>1</th>\n",
       "      <th>2</th>\n",
       "    </tr>\n",
       "  </thead>\n",
       "  <tbody>\n",
       "    <tr>\n",
       "      <th>0</th>\n",
       "      <td>Nombre</td>\n",
       "      <td>Edad</td>\n",
       "      <td>Ciudad</td>\n",
       "    </tr>\n",
       "    <tr>\n",
       "      <th>1</th>\n",
       "      <td>Juan</td>\n",
       "      <td>25</td>\n",
       "      <td>Madrid</td>\n",
       "    </tr>\n",
       "    <tr>\n",
       "      <th>2</th>\n",
       "      <td>Ana</td>\n",
       "      <td>30</td>\n",
       "      <td>Barcelona</td>\n",
       "    </tr>\n",
       "    <tr>\n",
       "      <th>3</th>\n",
       "      <td>Carlos</td>\n",
       "      <td>22</td>\n",
       "      <td>Sevilla</td>\n",
       "    </tr>\n",
       "  </tbody>\n",
       "</table>\n",
       "</div>"
      ],
      "text/plain": [
       "        0     1          2\n",
       "0  Nombre  Edad     Ciudad\n",
       "1    Juan    25     Madrid\n",
       "2     Ana    30  Barcelona\n",
       "3  Carlos    22    Sevilla"
      ]
     },
     "execution_count": 39,
     "metadata": {},
     "output_type": "execute_result"
    }
   ],
   "source": [
    "# header = none no cargara nada \n",
    "pd.read_csv('/Users/jimenacambronero/Desktop/Proyectos para Portfolio/PythonPracticas/Datos/ejemplo_tabulador.csv', \n",
    "            sep='\\t',\n",
    "            header=None).head(5)"
   ]
  },
  {
   "cell_type": "code",
   "execution_count": 40,
   "metadata": {},
   "outputs": [
    {
     "data": {
      "text/html": [
       "<div>\n",
       "<style scoped>\n",
       "    .dataframe tbody tr th:only-of-type {\n",
       "        vertical-align: middle;\n",
       "    }\n",
       "\n",
       "    .dataframe tbody tr th {\n",
       "        vertical-align: top;\n",
       "    }\n",
       "\n",
       "    .dataframe thead th {\n",
       "        text-align: right;\n",
       "    }\n",
       "</style>\n",
       "<table border=\"1\" class=\"dataframe\">\n",
       "  <thead>\n",
       "    <tr style=\"text-align: right;\">\n",
       "      <th></th>\n",
       "      <th>Estas</th>\n",
       "      <th>son mis</th>\n",
       "      <th>cabeceras</th>\n",
       "    </tr>\n",
       "  </thead>\n",
       "  <tbody>\n",
       "    <tr>\n",
       "      <th>0</th>\n",
       "      <td>Carlos</td>\n",
       "      <td>22</td>\n",
       "      <td>Sevilla</td>\n",
       "    </tr>\n",
       "  </tbody>\n",
       "</table>\n",
       "</div>"
      ],
      "text/plain": [
       "    Estas  son mis cabeceras\n",
       "0  Carlos       22   Sevilla"
      ]
     },
     "execution_count": 40,
     "metadata": {},
     "output_type": "execute_result"
    }
   ],
   "source": [
    "# Cómo poner nombres en la importación\n",
    "# Como ahora la cabecera corre fila tenemos que ponerle 2 en skiprows, si no no importara la fila 84\n",
    "\n",
    "cabecera = ['Estas', 'son mis', 'cabeceras']\n",
    "\n",
    "pd.read_csv('/Users/jimenacambronero/Desktop/Proyectos para Portfolio/PythonPracticas/Datos/ejemplo_tabulador.csv', \n",
    "            sep='\\t',\n",
    "            skiprows=2,\n",
    "            header=0,\n",
    "            names=cabecera).head(5)"
   ]
  },
  {
   "cell_type": "markdown",
   "metadata": {},
   "source": [
    "## Nulos no Habituales"
   ]
  },
  {
   "cell_type": "markdown",
   "metadata": {},
   "source": [
    "Si tenes una serie de números 'falsos' como en alguos casos el -999 los podes identificar como nulos."
   ]
  },
  {
   "cell_type": "code",
   "execution_count": 42,
   "metadata": {},
   "outputs": [
    {
     "data": {
      "text/html": [
       "<div>\n",
       "<style scoped>\n",
       "    .dataframe tbody tr th:only-of-type {\n",
       "        vertical-align: middle;\n",
       "    }\n",
       "\n",
       "    .dataframe tbody tr th {\n",
       "        vertical-align: top;\n",
       "    }\n",
       "\n",
       "    .dataframe thead th {\n",
       "        text-align: right;\n",
       "    }\n",
       "</style>\n",
       "<table border=\"1\" class=\"dataframe\">\n",
       "  <thead>\n",
       "    <tr style=\"text-align: right;\">\n",
       "      <th></th>\n",
       "      <th>ID</th>\n",
       "      <th>Nombre</th>\n",
       "      <th>Años</th>\n",
       "      <th>Puntos</th>\n",
       "    </tr>\n",
       "  </thead>\n",
       "  <tbody>\n",
       "    <tr>\n",
       "      <th>0</th>\n",
       "      <td>1</td>\n",
       "      <td>Alice</td>\n",
       "      <td>25.0</td>\n",
       "      <td>95.0</td>\n",
       "    </tr>\n",
       "    <tr>\n",
       "      <th>1</th>\n",
       "      <td>2</td>\n",
       "      <td>Bob</td>\n",
       "      <td>NaN</td>\n",
       "      <td>82.0</td>\n",
       "    </tr>\n",
       "    <tr>\n",
       "      <th>2</th>\n",
       "      <td>3</td>\n",
       "      <td>Charlie</td>\n",
       "      <td>30.0</td>\n",
       "      <td>NaN</td>\n",
       "    </tr>\n",
       "    <tr>\n",
       "      <th>3</th>\n",
       "      <td>4</td>\n",
       "      <td>David</td>\n",
       "      <td>22.0</td>\n",
       "      <td>90.0</td>\n",
       "    </tr>\n",
       "    <tr>\n",
       "      <th>4</th>\n",
       "      <td>5</td>\n",
       "      <td>Eva</td>\n",
       "      <td>35.0</td>\n",
       "      <td>88.0</td>\n",
       "    </tr>\n",
       "  </tbody>\n",
       "</table>\n",
       "</div>"
      ],
      "text/plain": [
       "   ID   Nombre  Años  Puntos\n",
       "0   1    Alice  25.0    95.0\n",
       "1   2      Bob   NaN    82.0\n",
       "2   3  Charlie  30.0     NaN\n",
       "3   4    David  22.0    90.0\n",
       "4   5      Eva  35.0    88.0"
      ]
     },
     "execution_count": 42,
     "metadata": {},
     "output_type": "execute_result"
    }
   ],
   "source": [
    "cabecera = ['ID', 'Nombre', 'Años', 'Puntos']\n",
    "\n",
    "# cargara Nan cdo encuentro un -999\n",
    "pd.read_csv('/Users/jimenacambronero/Desktop/Proyectos para Portfolio/PythonPracticas/Datos/ejemplo_valores_nulos.csv', \n",
    "            sep=',',\n",
    "            header=0,\n",
    "            names=cabecera,\n",
    "            na_values=-999).head(5)"
   ]
  }
 ],
 "metadata": {
  "kernelspec": {
   "display_name": "Python 3",
   "language": "python",
   "name": "python3"
  },
  "language_info": {
   "codemirror_mode": {
    "name": "ipython",
    "version": 3
   },
   "file_extension": ".py",
   "mimetype": "text/x-python",
   "name": "python",
   "nbconvert_exporter": "python",
   "pygments_lexer": "ipython3",
   "version": "3.9.13"
  }
 },
 "nbformat": 4,
 "nbformat_minor": 2
}
