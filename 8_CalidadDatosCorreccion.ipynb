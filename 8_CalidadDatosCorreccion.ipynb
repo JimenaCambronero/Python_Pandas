{
 "cells": [
  {
   "cell_type": "markdown",
   "metadata": {},
   "source": [
    "# Calidad de Datos. Correcccion"
   ]
  },
  {
   "cell_type": "markdown",
   "metadata": {},
   "source": [
    "\n",
    "1. **Variables Numéricas:** Son números. Por ejemplo, la edad de las personas (20 años, 30 años).\n",
    "\n",
    "2. **Variables Categóricas:** Son categorías o etiquetas. Por ejemplo, colores (rojo, azul) o tipos de frutas (manzana, naranja).\n",
    "\n",
    "3. **Variables Ordinales:** Son como las categóricas, pero con un orden específico. Por ejemplo, niveles educativos (primaria, secundaria, universidad).\n",
    "\n",
    "4. **Variables Binarias:** Solo pueden tener dos opciones. Por ejemplo, sí/no, verdadero/falso, o 1/0.\n",
    "\n",
    "5. **Variables Continuas:** Son números que pueden tener muchos valores diferentes. Por ejemplo, la altura de las personas (1.75 metros, 1.80 metros).\n",
    "\n",
    "6. **Variables Discretas:** Son números específicos, generalmente enteros. Por ejemplo, el número de hermanos (1, 2, 3).\n",
    "\n",
    "7. **Variables de Tiempo:** Representan fechas y horas. Por ejemplo, la fecha de nacimiento o la hora de una reunión.\n",
    "\n",
    "8. **Variables de Texto:** Contienen palabras o frases. Por ejemplo, nombres de personas o descripciones de productos.\n",
    "\n",
    "9. **Variables de Ratio:** Son como las numéricas, pero con un punto de inicio absoluto. Por ejemplo, la temperatura en Kelvin.\n",
    "\n",
    "10. **Variables Dummy:** Son variables binarias creadas para representar categorías. Por ejemplo, si tienes una variable categórica de colores, podrías tener variables dummy como \"es_rojo\" o \"es_azul\".\n",
    "\n",
    "Estos son diferentes tipos de información que puedes encontrar al analizar datos. Identificar qué tipo de variable estás utilizando te ayuda a elegir las mejores formas de analizar y entender tus datos."
   ]
  },
  {
   "cell_type": "markdown",
   "metadata": {},
   "source": [
    "## Convertir Tipos de Variable"
   ]
  },
  {
   "cell_type": "markdown",
   "metadata": {},
   "source": [
    "Existen dos formas de cambiar el tipo de variables:\n",
    "\n",
    "1. **Usando el método general `astype()`:** Este método te permite especificar el tipo de dato al que quieres convertir la variable. Es bastante flexible, pero puede tener dificultades en situaciones más complicadas.\n",
    "\n",
    "2. **Utilizando métodos específicos para ciertos tipos de datos:** En algunos casos, hay métodos especiales diseñados para convertir ciertos tipos de variables. Estos métodos están optimizados para esos casos específicos y pueden funcionar de manera más eficiente.\n",
    "\n",
    "En resumen, `astype()` te da más libertad para elegir el tipo de dato, pero en situaciones complejas, los métodos específicos pueden ser más efectivos."
   ]
  },
  {
   "cell_type": "code",
   "execution_count": 1,
   "metadata": {},
   "outputs": [
    {
     "data": {
      "text/plain": [
       "Nombre Cliente            object\n",
       "Tipo Producto             object\n",
       "Precio (€/kg)            float64\n",
       "Cantidad Vendida (kg)      int64\n",
       "Fecha Venta               object\n",
       "Provincia Cliente         object\n",
       "id                         int64\n",
       "Completado                object\n",
       "dtype: object"
      ]
     },
     "execution_count": 1,
     "metadata": {},
     "output_type": "execute_result"
    }
   ],
   "source": [
    "import pandas as pd\n",
    "df=pd.read_excel('/Users/jimenacambronero/Desktop/Proyectos para Portfolio/PythonPracticas/Datos/Frutos_Secos_unicos.xlsx')\n",
    "\n",
    "df.dtypes"
   ]
  },
  {
   "cell_type": "markdown",
   "metadata": {},
   "source": [
    "Convertimos Country a categórica\n",
    "\n",
    "    df.Provincia Cliente.astype('category').dtype\n",
    "\n",
    "El querer hacer el cambio de una variable con un espacio, en Pythonnos dara error. Deberemos cambiar el nombre de las columnas sin espacios"
   ]
  },
  {
   "cell_type": "code",
   "execution_count": 2,
   "metadata": {},
   "outputs": [
    {
     "data": {
      "text/html": [
       "<div>\n",
       "<style scoped>\n",
       "    .dataframe tbody tr th:only-of-type {\n",
       "        vertical-align: middle;\n",
       "    }\n",
       "\n",
       "    .dataframe tbody tr th {\n",
       "        vertical-align: top;\n",
       "    }\n",
       "\n",
       "    .dataframe thead th {\n",
       "        text-align: right;\n",
       "    }\n",
       "</style>\n",
       "<table border=\"1\" class=\"dataframe\">\n",
       "  <thead>\n",
       "    <tr style=\"text-align: right;\">\n",
       "      <th></th>\n",
       "      <th>NombreCliente</th>\n",
       "      <th>TipoProducto</th>\n",
       "      <th>Precio(€/kg)</th>\n",
       "      <th>CantidadVendida(kg)</th>\n",
       "      <th>FechaVenta</th>\n",
       "      <th>ProvinciaCliente</th>\n",
       "      <th>id</th>\n",
       "      <th>Completado</th>\n",
       "    </tr>\n",
       "  </thead>\n",
       "  <tbody>\n",
       "    <tr>\n",
       "      <th>0</th>\n",
       "      <td>Mas y Mas</td>\n",
       "      <td>Almendras</td>\n",
       "      <td>4.54</td>\n",
       "      <td>1212</td>\n",
       "      <td>29/3/23</td>\n",
       "      <td>Cádiz</td>\n",
       "      <td>389932</td>\n",
       "      <td>Si</td>\n",
       "    </tr>\n",
       "    <tr>\n",
       "      <th>1</th>\n",
       "      <td>Mercadona</td>\n",
       "      <td>Nueces</td>\n",
       "      <td>5.84</td>\n",
       "      <td>591</td>\n",
       "      <td>5/12/23</td>\n",
       "      <td>Sevilla</td>\n",
       "      <td>389933</td>\n",
       "      <td>Si</td>\n",
       "    </tr>\n",
       "    <tr>\n",
       "      <th>2</th>\n",
       "      <td>Alcampo</td>\n",
       "      <td>Cacahuetes</td>\n",
       "      <td>2.69</td>\n",
       "      <td>2831</td>\n",
       "      <td>26/7/23</td>\n",
       "      <td>Madrid</td>\n",
       "      <td>389934</td>\n",
       "      <td>Si</td>\n",
       "    </tr>\n",
       "  </tbody>\n",
       "</table>\n",
       "</div>"
      ],
      "text/plain": [
       "  NombreCliente TipoProducto  Precio(€/kg)  CantidadVendida(kg) FechaVenta  \\\n",
       "0     Mas y Mas    Almendras          4.54                 1212    29/3/23   \n",
       "1     Mercadona       Nueces          5.84                  591    5/12/23   \n",
       "2       Alcampo   Cacahuetes          2.69                 2831    26/7/23   \n",
       "\n",
       "  ProvinciaCliente      id Completado  \n",
       "0            Cádiz  389932         Si  \n",
       "1          Sevilla  389933         Si  \n",
       "2           Madrid  389934         Si  "
      ]
     },
     "execution_count": 2,
     "metadata": {},
     "output_type": "execute_result"
    }
   ],
   "source": [
    "df.columns= df.columns.str.replace(' ','')\n",
    "df.head(3)"
   ]
  },
  {
   "cell_type": "code",
   "execution_count": 3,
   "metadata": {},
   "outputs": [
    {
     "data": {
      "text/plain": [
       "CategoricalDtype(categories=['Alicante', 'Barcelona', 'Cádiz', 'Madrid', 'Sevilla',\n",
       "                  'Valencia'],\n",
       ", ordered=False)"
      ]
     },
     "execution_count": 3,
     "metadata": {},
     "output_type": "execute_result"
    }
   ],
   "source": [
    "# Ahora si podremos convertirla\n",
    "df.ProvinciaCliente.astype('category').dtype"
   ]
  },
  {
   "cell_type": "markdown",
   "metadata": {},
   "source": [
    "**Cuando cambiar una variable de Object a Category**\n",
    "\n",
    "En Data Science, la elección entre tratar una variable como tipo `object` o `category` depende de la naturaleza de los datos y del propósito del análisis.\n",
    "\n",
    "1. **Naturaleza de los datos**:\n",
    "   - **Variables Categóricas Nominales**: Si la variable tiene categorías que no tienen un orden específico o jerarquía entre ellas (por ejemplo, colores o tipos de productos), generalmente se debe usar el tipo `category`.\n",
    "\n",
    "   - **Variables Categóricas Ordinales**: Si la variable tiene categorías con un orden específico (por ejemplo, niveles de educación como \"Primaria\", \"Secundaria\", \"Universidad\"), es posible que desees usar `category`, pero también podrías considerar `object`.\n",
    "\n",
    "   - **Variables de Texto**: Si la variable contiene texto libre o cadenas de caracteres largas y no hay una manera clara de categorizarlas, entonces probablemente debas usar `object`.\n",
    "\n",
    "2. **Ahorro de Memoria**:\n",
    "   - `category` puede ahorrar mucha memoria en comparación con `object`, especialmente cuando hay un número limitado de categorías únicas. Esto es importante si estás trabajando con grandes conjuntos de datos.\n",
    "\n",
    "3. **Velocidad de Procesamiento**:\n",
    "   - Las operaciones en columnas de tipo `category` a menudo son más rápidas que en columnas de tipo `object`. Esto puede ser importante para análisis de grandes conjuntos de datos.\n",
    "\n",
    "4. **Uso de Librerías y Algoritmos**:\n",
    "   - Algunos algoritmos y librerías de machine learning requieren que las variables categóricas se codifiquen numéricamente (por ejemplo, con técnicas como one-hot encoding). En estos casos, puede ser beneficioso tener las variables como tipo `category`.\n",
    "\n",
    "5. **Interpretación y Visualización**:\n",
    "   - Las variables de tipo `category` suelen ser más fáciles de interpretar y visualizar en gráficos y visualizaciones.\n",
    "\n",
    "6. **Manejo de Nulos**:\n",
    "   - Las variables de tipo `category` pueden ser más eficientes en términos de manejo de valores nulos en comparación con las de tipo `object`.\n",
    "\n",
    "En resumen, si tienes una variable con un número limitado de categorías únicas y es categórica en naturaleza, es probable que quieras considerar usar el tipo `category`. Sin embargo, si se trata de texto libre o datos que no se pueden categorizar fácilmente, entonces `object` podría ser la elección adecuada."
   ]
  },
  {
   "cell_type": "code",
   "execution_count": 4,
   "metadata": {},
   "outputs": [
    {
     "data": {
      "text/plain": [
       "NombreCliente           object\n",
       "TipoProducto            object\n",
       "Precio(€/kg)           float64\n",
       "CantidadVendida(kg)      int64\n",
       "FechaVenta              object\n",
       "ProvinciaCliente        object\n",
       "id                       int64\n",
       "Completado              object\n",
       "dtype: object"
      ]
     },
     "execution_count": 4,
     "metadata": {},
     "output_type": "execute_result"
    }
   ],
   "source": [
    "# No se ha asignado\n",
    "df.dtypes"
   ]
  },
  {
   "cell_type": "markdown",
   "metadata": {},
   "source": [
    "Si ejecutamos la siguiente linea de código nuevamente nos dará error por como se escriben las columnas. \n",
    "\n",
    "    df.loc[:,'CantidadVendida(kg)'] = df.CantidadVendida(kg).astype('category')\n",
    "\n",
    "Entonces debemos reemplazarlo ..."
   ]
  },
  {
   "cell_type": "code",
   "execution_count": 7,
   "metadata": {},
   "outputs": [
    {
     "name": "stderr",
     "output_type": "stream",
     "text": [
      "/var/folders/2d/p3zg32ds4p598pyxblpsp5ph0000gn/T/ipykernel_25720/1251448669.py:1: FutureWarning: The default value of regex will change from True to False in a future version. In addition, single character regular expressions will *not* be treated as literal strings when regex=True.\n",
      "  df.columns = df.columns.str.replace('(','')\n",
      "/var/folders/2d/p3zg32ds4p598pyxblpsp5ph0000gn/T/ipykernel_25720/1251448669.py:2: FutureWarning: The default value of regex will change from True to False in a future version. In addition, single character regular expressions will *not* be treated as literal strings when regex=True.\n",
      "  df.columns = df.columns.str.replace (')', '')\n"
     ]
    },
    {
     "data": {
      "text/plain": [
       "Index(['NombreCliente', 'TipoProducto', 'Precio€/kg', 'CantidadVendidakg',\n",
       "       'FechaVenta', 'ProvinciaCliente', 'id', 'Completado'],\n",
       "      dtype='object')"
      ]
     },
     "execution_count": 7,
     "metadata": {},
     "output_type": "execute_result"
    }
   ],
   "source": [
    "df.columns = df.columns.str.replace('(','')\n",
    "df.columns = df.columns.str.replace (')', '')\n",
    "df.columns"
   ]
  },
  {
   "cell_type": "code",
   "execution_count": 9,
   "metadata": {},
   "outputs": [
    {
     "data": {
      "text/plain": [
       "NombreCliente          object\n",
       "TipoProducto           object\n",
       "Precio€/kg            float64\n",
       "CantidadVendidakg    category\n",
       "FechaVenta             object\n",
       "ProvinciaCliente       object\n",
       "id                      int64\n",
       "Completado             object\n",
       "dtype: object"
      ]
     },
     "execution_count": 9,
     "metadata": {},
     "output_type": "execute_result"
    }
   ],
   "source": [
    "df.loc[:,'CantidadVendidakg'] = df.CantidadVendidakg.astype('category')\n",
    "\n",
    "df.dtypes"
   ]
  },
  {
   "cell_type": "markdown",
   "metadata": {},
   "source": [
    "Cargo el dataset original"
   ]
  },
  {
   "cell_type": "code",
   "execution_count": 11,
   "metadata": {},
   "outputs": [],
   "source": [
    "df = pd.read_csv('/Users/jimenacambronero/Desktop/Proyectos para Portfolio/PythonPracticas/Datos/Frutos_Secos.csv', sep=';', index_col='id')"
   ]
  },
  {
   "cell_type": "code",
   "execution_count": 12,
   "metadata": {},
   "outputs": [
    {
     "data": {
      "text/plain": [
       "Nombre Cliente             object\n",
       "Tipo Producto              object\n",
       "Precio (€/kg)               int64\n",
       "Cantidad Vendida (kg)       int64\n",
       "Fecha Venta                object\n",
       "Provincia Cliente        category\n",
       "dtype: object"
      ]
     },
     "execution_count": 12,
     "metadata": {},
     "output_type": "execute_result"
    }
   ],
   "source": [
    "# Varios por dicionario\n",
    "\n",
    "tipos = {'Precio (€/kg)':'int',\n",
    "         'Provincia Cliente':'category'}\n",
    "\n",
    "df.astype(tipos).dtypes"
   ]
  },
  {
   "cell_type": "code",
   "execution_count": 13,
   "metadata": {},
   "outputs": [
    {
     "data": {
      "text/plain": [
       "Nombre Cliente       category\n",
       "Tipo Producto        category\n",
       "Fecha Venta          category\n",
       "Provincia Cliente    category\n",
       "dtype: object"
      ]
     },
     "execution_count": 13,
     "metadata": {},
     "output_type": "execute_result"
    }
   ],
   "source": [
    "# Todos los objetos a category\n",
    "\n",
    "df.select_dtypes('object').astype('category').dtypes"
   ]
  },
  {
   "cell_type": "markdown",
   "metadata": {},
   "source": [
    "## Convertir a Tipo Fecha"
   ]
  },
  {
   "cell_type": "markdown",
   "metadata": {},
   "source": [
    "\n",
    "\n",
    "1. `errors`: Este parámetro te permite decirle a Python qué hacer si encuentra algo que no puede convertir en una fecha o hora. Usualmente, se configura en 'coerce', lo que significa que si no puede convertir algo, lo dejará como un valor nulo en lugar de generar un error.\n",
    "\n",
    "2. `infer_datetime_format`: Cuando este parámetro está configurado en True, Python intentará adivinar automáticamente el formato de las fechas en la cadena de texto que le proporcionas. Esto puede ser útil si las fechas tienen formatos diferentes en tus datos.\n",
    "\n",
    "3. `format`: Este parámetro te permite especificar el formato exacto de las fechas en la cadena de texto que le proporcionas. Para configurarlo correctamente, puedes consultar la documentación que muestra cómo representar diferentes partes de una fecha o hora. El enlace proporcionado te dará códigos que puedes usar para describir el formato que estás utilizando en tus datos.\n",
    "\n",
    "En resumen, estos parámetros son útiles cuando trabajas con fechas y horas en Python y necesitas controlar cómo se manejan los errores de conversión, si deseas que Python adivine el formato de las fechas automáticamente o si prefieres especificar el formato exacto que estás usando en tus datos."
   ]
  }
 ],
 "metadata": {
  "kernelspec": {
   "display_name": "Python 3",
   "language": "python",
   "name": "python3"
  },
  "language_info": {
   "codemirror_mode": {
    "name": "ipython",
    "version": 3
   },
   "file_extension": ".py",
   "mimetype": "text/x-python",
   "name": "python",
   "nbconvert_exporter": "python",
   "pygments_lexer": "ipython3",
   "version": "3.9.undefined"
  }
 },
 "nbformat": 4,
 "nbformat_minor": 2
}
