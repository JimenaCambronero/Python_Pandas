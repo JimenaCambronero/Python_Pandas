{
 "cells": [
  {
   "cell_type": "markdown",
   "metadata": {},
   "source": [
    "# Calidad de Datos. Correcccion"
   ]
  },
  {
   "cell_type": "markdown",
   "metadata": {},
   "source": [
    "\n",
    "1. **Variables Numéricas:** Son números. Por ejemplo, la edad de las personas (20 años, 30 años).\n",
    "\n",
    "2. **Variables Categóricas:** Son categorías o etiquetas. Por ejemplo, colores (rojo, azul) o tipos de frutas (manzana, naranja).\n",
    "\n",
    "3. **Variables Ordinales:** Son como las categóricas, pero con un orden específico. Por ejemplo, niveles educativos (primaria, secundaria, universidad).\n",
    "\n",
    "4. **Variables Binarias:** Solo pueden tener dos opciones. Por ejemplo, sí/no, verdadero/falso, o 1/0.\n",
    "\n",
    "5. **Variables Continuas:** Son números que pueden tener muchos valores diferentes. Por ejemplo, la altura de las personas (1.75 metros, 1.80 metros).\n",
    "\n",
    "6. **Variables Discretas:** Son números específicos, generalmente enteros. Por ejemplo, el número de hermanos (1, 2, 3).\n",
    "\n",
    "7. **Variables de Tiempo:** Representan fechas y horas. Por ejemplo, la fecha de nacimiento o la hora de una reunión.\n",
    "\n",
    "8. **Variables de Texto:** Contienen palabras o frases. Por ejemplo, nombres de personas o descripciones de productos.\n",
    "\n",
    "9. **Variables de Ratio:** Son como las numéricas, pero con un punto de inicio absoluto. Por ejemplo, la temperatura en Kelvin.\n",
    "\n",
    "10. **Variables Dummy:** Son variables binarias creadas para representar categorías. Por ejemplo, si tienes una variable categórica de colores, podrías tener variables dummy como \"es_rojo\" o \"es_azul\".\n",
    "\n",
    "Estos son diferentes tipos de información que puedes encontrar al analizar datos. Identificar qué tipo de variable estás utilizando te ayuda a elegir las mejores formas de analizar y entender tus datos."
   ]
  },
  {
   "cell_type": "markdown",
   "metadata": {},
   "source": [
    "## Convertir Tipos de Variable"
   ]
  },
  {
   "cell_type": "markdown",
   "metadata": {},
   "source": [
    "Existen dos formas de cambiar el tipo de variables:\n",
    "\n",
    "1. **Usando el método general `astype()`:** Este método te permite especificar el tipo de dato al que quieres convertir la variable. Es bastante flexible, pero puede tener dificultades en situaciones más complicadas.\n",
    "\n",
    "2. **Utilizando métodos específicos para ciertos tipos de datos:** En algunos casos, hay métodos especiales diseñados para convertir ciertos tipos de variables. Estos métodos están optimizados para esos casos específicos y pueden funcionar de manera más eficiente.\n",
    "\n",
    "En resumen, `astype()` te da más libertad para elegir el tipo de dato, pero en situaciones complejas, los métodos específicos pueden ser más efectivos."
   ]
  },
  {
   "cell_type": "code",
   "execution_count": 1,
   "metadata": {},
   "outputs": [
    {
     "data": {
      "text/plain": [
       "Nombre Cliente            object\n",
       "Tipo Producto             object\n",
       "Precio (€/kg)            float64\n",
       "Cantidad Vendida (kg)      int64\n",
       "Fecha Venta               object\n",
       "Provincia Cliente         object\n",
       "id                         int64\n",
       "Completado                object\n",
       "dtype: object"
      ]
     },
     "execution_count": 1,
     "metadata": {},
     "output_type": "execute_result"
    }
   ],
   "source": [
    "import pandas as pd\n",
    "df=pd.read_excel('/Users/jimenacambronero/Desktop/Proyectos para Portfolio/PythonPracticas/Datos/Frutos_Secos_unicos.xlsx')\n",
    "\n",
    "df.dtypes"
   ]
  },
  {
   "cell_type": "markdown",
   "metadata": {},
   "source": [
    "Convertimos Country a categórica\n",
    "\n",
    "    df.Provincia Cliente.astype('category').dtype\n",
    "\n",
    "El querer hacer el cambio de una variable con un espacio, en Pythonnos dara error. Deberemos cambiar el nombre de las columnas sin espacios"
   ]
  },
  {
   "cell_type": "code",
   "execution_count": 2,
   "metadata": {},
   "outputs": [
    {
     "data": {
      "text/html": [
       "<div>\n",
       "<style scoped>\n",
       "    .dataframe tbody tr th:only-of-type {\n",
       "        vertical-align: middle;\n",
       "    }\n",
       "\n",
       "    .dataframe tbody tr th {\n",
       "        vertical-align: top;\n",
       "    }\n",
       "\n",
       "    .dataframe thead th {\n",
       "        text-align: right;\n",
       "    }\n",
       "</style>\n",
       "<table border=\"1\" class=\"dataframe\">\n",
       "  <thead>\n",
       "    <tr style=\"text-align: right;\">\n",
       "      <th></th>\n",
       "      <th>NombreCliente</th>\n",
       "      <th>TipoProducto</th>\n",
       "      <th>Precio(€/kg)</th>\n",
       "      <th>CantidadVendida(kg)</th>\n",
       "      <th>FechaVenta</th>\n",
       "      <th>ProvinciaCliente</th>\n",
       "      <th>id</th>\n",
       "      <th>Completado</th>\n",
       "    </tr>\n",
       "  </thead>\n",
       "  <tbody>\n",
       "    <tr>\n",
       "      <th>0</th>\n",
       "      <td>Mas y Mas</td>\n",
       "      <td>Almendras</td>\n",
       "      <td>4.54</td>\n",
       "      <td>1212</td>\n",
       "      <td>29/3/23</td>\n",
       "      <td>Cádiz</td>\n",
       "      <td>389932</td>\n",
       "      <td>Si</td>\n",
       "    </tr>\n",
       "    <tr>\n",
       "      <th>1</th>\n",
       "      <td>Mercadona</td>\n",
       "      <td>Nueces</td>\n",
       "      <td>5.84</td>\n",
       "      <td>591</td>\n",
       "      <td>5/12/23</td>\n",
       "      <td>Sevilla</td>\n",
       "      <td>389933</td>\n",
       "      <td>Si</td>\n",
       "    </tr>\n",
       "    <tr>\n",
       "      <th>2</th>\n",
       "      <td>Alcampo</td>\n",
       "      <td>Cacahuetes</td>\n",
       "      <td>2.69</td>\n",
       "      <td>2831</td>\n",
       "      <td>26/7/23</td>\n",
       "      <td>Madrid</td>\n",
       "      <td>389934</td>\n",
       "      <td>Si</td>\n",
       "    </tr>\n",
       "  </tbody>\n",
       "</table>\n",
       "</div>"
      ],
      "text/plain": [
       "  NombreCliente TipoProducto  Precio(€/kg)  CantidadVendida(kg) FechaVenta  \\\n",
       "0     Mas y Mas    Almendras          4.54                 1212    29/3/23   \n",
       "1     Mercadona       Nueces          5.84                  591    5/12/23   \n",
       "2       Alcampo   Cacahuetes          2.69                 2831    26/7/23   \n",
       "\n",
       "  ProvinciaCliente      id Completado  \n",
       "0            Cádiz  389932         Si  \n",
       "1          Sevilla  389933         Si  \n",
       "2           Madrid  389934         Si  "
      ]
     },
     "execution_count": 2,
     "metadata": {},
     "output_type": "execute_result"
    }
   ],
   "source": [
    "df.columns= df.columns.str.replace(' ','')\n",
    "df.head(3)"
   ]
  },
  {
   "cell_type": "code",
   "execution_count": 3,
   "metadata": {},
   "outputs": [
    {
     "data": {
      "text/plain": [
       "CategoricalDtype(categories=['Alicante', 'Barcelona', 'Cádiz', 'Madrid', 'Sevilla',\n",
       "                  'Valencia'],\n",
       ", ordered=False)"
      ]
     },
     "execution_count": 3,
     "metadata": {},
     "output_type": "execute_result"
    }
   ],
   "source": [
    "# Ahora si podremos convertirla\n",
    "df.ProvinciaCliente.astype('category').dtype"
   ]
  },
  {
   "cell_type": "markdown",
   "metadata": {},
   "source": [
    "**Cuando cambiar una variable de Object a Category**\n",
    "\n",
    "En Data Science, la elección entre tratar una variable como tipo `object` o `category` depende de la naturaleza de los datos y del propósito del análisis.\n",
    "\n",
    "1. **Naturaleza de los datos**:\n",
    "   - **Variables Categóricas Nominales**: Si la variable tiene categorías que no tienen un orden específico o jerarquía entre ellas (por ejemplo, colores o tipos de productos), generalmente se debe usar el tipo `category`.\n",
    "\n",
    "   - **Variables Categóricas Ordinales**: Si la variable tiene categorías con un orden específico (por ejemplo, niveles de educación como \"Primaria\", \"Secundaria\", \"Universidad\"), es posible que desees usar `category`, pero también podrías considerar `object`.\n",
    "\n",
    "   - **Variables de Texto**: Si la variable contiene texto libre o cadenas de caracteres largas y no hay una manera clara de categorizarlas, entonces probablemente debas usar `object`.\n",
    "\n",
    "2. **Ahorro de Memoria**:\n",
    "   - `category` puede ahorrar mucha memoria en comparación con `object`, especialmente cuando hay un número limitado de categorías únicas. Esto es importante si estás trabajando con grandes conjuntos de datos.\n",
    "\n",
    "3. **Velocidad de Procesamiento**:\n",
    "   - Las operaciones en columnas de tipo `category` a menudo son más rápidas que en columnas de tipo `object`. Esto puede ser importante para análisis de grandes conjuntos de datos.\n",
    "\n",
    "4. **Uso de Librerías y Algoritmos**:\n",
    "   - Algunos algoritmos y librerías de machine learning requieren que las variables categóricas se codifiquen numéricamente (por ejemplo, con técnicas como one-hot encoding). En estos casos, puede ser beneficioso tener las variables como tipo `category`.\n",
    "\n",
    "5. **Interpretación y Visualización**:\n",
    "   - Las variables de tipo `category` suelen ser más fáciles de interpretar y visualizar en gráficos y visualizaciones.\n",
    "\n",
    "6. **Manejo de Nulos**:\n",
    "   - Las variables de tipo `category` pueden ser más eficientes en términos de manejo de valores nulos en comparación con las de tipo `object`.\n",
    "\n",
    "En resumen, si tienes una variable con un número limitado de categorías únicas y es categórica en naturaleza, es probable que quieras considerar usar el tipo `category`. Sin embargo, si se trata de texto libre o datos que no se pueden categorizar fácilmente, entonces `object` podría ser la elección adecuada."
   ]
  },
  {
   "cell_type": "code",
   "execution_count": 4,
   "metadata": {},
   "outputs": [
    {
     "data": {
      "text/plain": [
       "NombreCliente           object\n",
       "TipoProducto            object\n",
       "Precio(€/kg)           float64\n",
       "CantidadVendida(kg)      int64\n",
       "FechaVenta              object\n",
       "ProvinciaCliente        object\n",
       "id                       int64\n",
       "Completado              object\n",
       "dtype: object"
      ]
     },
     "execution_count": 4,
     "metadata": {},
     "output_type": "execute_result"
    }
   ],
   "source": [
    "# No se ha asignado\n",
    "df.dtypes"
   ]
  },
  {
   "cell_type": "markdown",
   "metadata": {},
   "source": [
    "Si ejecutamos la siguiente linea de código nuevamente nos dará error por como se escriben las columnas. \n",
    "\n",
    "    df.loc[:,'CantidadVendida(kg)'] = df.CantidadVendida(kg).astype('category')\n",
    "\n",
    "Entonces debemos reemplazarlo ..."
   ]
  },
  {
   "cell_type": "code",
   "execution_count": 5,
   "metadata": {},
   "outputs": [
    {
     "name": "stderr",
     "output_type": "stream",
     "text": [
      "/var/folders/2d/p3zg32ds4p598pyxblpsp5ph0000gn/T/ipykernel_7931/1251448669.py:1: FutureWarning: The default value of regex will change from True to False in a future version. In addition, single character regular expressions will *not* be treated as literal strings when regex=True.\n",
      "  df.columns = df.columns.str.replace('(','')\n",
      "/var/folders/2d/p3zg32ds4p598pyxblpsp5ph0000gn/T/ipykernel_7931/1251448669.py:2: FutureWarning: The default value of regex will change from True to False in a future version. In addition, single character regular expressions will *not* be treated as literal strings when regex=True.\n",
      "  df.columns = df.columns.str.replace (')', '')\n"
     ]
    },
    {
     "data": {
      "text/plain": [
       "Index(['NombreCliente', 'TipoProducto', 'Precio€/kg', 'CantidadVendidakg',\n",
       "       'FechaVenta', 'ProvinciaCliente', 'id', 'Completado'],\n",
       "      dtype='object')"
      ]
     },
     "execution_count": 5,
     "metadata": {},
     "output_type": "execute_result"
    }
   ],
   "source": [
    "df.columns = df.columns.str.replace('(','')\n",
    "df.columns = df.columns.str.replace (')', '')\n",
    "df.columns"
   ]
  },
  {
   "cell_type": "code",
   "execution_count": 6,
   "metadata": {},
   "outputs": [
    {
     "data": {
      "text/plain": [
       "NombreCliente          object\n",
       "TipoProducto           object\n",
       "Precio€/kg            float64\n",
       "CantidadVendidakg    category\n",
       "FechaVenta             object\n",
       "ProvinciaCliente       object\n",
       "id                      int64\n",
       "Completado             object\n",
       "dtype: object"
      ]
     },
     "execution_count": 6,
     "metadata": {},
     "output_type": "execute_result"
    }
   ],
   "source": [
    "df.loc[:,'CantidadVendidakg'] = df.CantidadVendidakg.astype('category')\n",
    "\n",
    "df.dtypes"
   ]
  },
  {
   "cell_type": "markdown",
   "metadata": {},
   "source": [
    "Cargo el dataset original"
   ]
  },
  {
   "cell_type": "code",
   "execution_count": 7,
   "metadata": {},
   "outputs": [],
   "source": [
    "df = pd.read_csv('/Users/jimenacambronero/Desktop/Proyectos para Portfolio/PythonPracticas/Datos/Frutos_Secos.csv', sep=';', index_col='id')"
   ]
  },
  {
   "cell_type": "code",
   "execution_count": 8,
   "metadata": {},
   "outputs": [
    {
     "data": {
      "text/plain": [
       "Nombre Cliente             object\n",
       "Tipo Producto              object\n",
       "Precio (€/kg)               int64\n",
       "Cantidad Vendida (kg)       int64\n",
       "Fecha Venta                object\n",
       "Provincia Cliente        category\n",
       "dtype: object"
      ]
     },
     "execution_count": 8,
     "metadata": {},
     "output_type": "execute_result"
    }
   ],
   "source": [
    "# Varios por dicionario\n",
    "\n",
    "tipos = {'Precio (€/kg)':'int',\n",
    "         'Provincia Cliente':'category'}\n",
    "\n",
    "df.astype(tipos).dtypes"
   ]
  },
  {
   "cell_type": "code",
   "execution_count": 9,
   "metadata": {},
   "outputs": [
    {
     "data": {
      "text/plain": [
       "Nombre Cliente       category\n",
       "Tipo Producto        category\n",
       "Fecha Venta          category\n",
       "Provincia Cliente    category\n",
       "dtype: object"
      ]
     },
     "execution_count": 9,
     "metadata": {},
     "output_type": "execute_result"
    }
   ],
   "source": [
    "# Todos los objetos a category\n",
    "\n",
    "df.select_dtypes('object').astype('category').dtypes"
   ]
  },
  {
   "cell_type": "markdown",
   "metadata": {},
   "source": [
    "## Convertir a Tipo Numérico\n",
    "\n",
    "para casos donde la variable si que es numérica pero te la reconoce como otra marca, por ejemplo un string"
   ]
  },
  {
   "cell_type": "code",
   "execution_count": 10,
   "metadata": {},
   "outputs": [
    {
     "data": {
      "text/plain": [
       "dtype('float64')"
      ]
     },
     "execution_count": 10,
     "metadata": {},
     "output_type": "execute_result"
    }
   ],
   "source": [
    "pd.to_numeric(df.loc[:, 'Precio (€/kg)']).dtype"
   ]
  },
  {
   "cell_type": "markdown",
   "metadata": {},
   "source": [
    "## Convertir a Tipo Fecha"
   ]
  },
  {
   "cell_type": "markdown",
   "metadata": {},
   "source": [
    "\n",
    "\n",
    "1. `errors`: Este parámetro te permite decirle a Python qué hacer si encuentra algo que no puede convertir en una fecha o hora. Usualmente, se configura en 'coerce', lo que significa que si no puede convertir algo, lo dejará como un valor nulo en lugar de generar un error.\n",
    "\n",
    "2. `infer_datetime_format`: Cuando este parámetro está configurado en True, Python intentará adivinar automáticamente el formato de las fechas en la cadena de texto que le proporcionas. Esto puede ser útil si las fechas tienen formatos diferentes en tus datos.\n",
    "\n",
    "3. `format`: Este parámetro te permite especificar el formato exacto de las fechas en la cadena de texto que le proporcionas. Para configurarlo correctamente, puedes consultar la documentación que muestra cómo representar diferentes partes de una fecha o hora. El enlace proporcionado te dará códigos que puedes usar para describir el formato que estás utilizando en tus datos.\n",
    "\n",
    "En resumen, estos parámetros son útiles cuando trabajas con fechas y horas en Python y necesitas controlar cómo se manejan los errores de conversión, si deseas que Python adivine el formato de las fechas automáticamente o si prefieres especificar el formato exacto que estás usando en tus datos."
   ]
  },
  {
   "cell_type": "code",
   "execution_count": 11,
   "metadata": {},
   "outputs": [
    {
     "name": "stderr",
     "output_type": "stream",
     "text": [
      "/var/folders/2d/p3zg32ds4p598pyxblpsp5ph0000gn/T/ipykernel_7931/1746656999.py:2: UserWarning: Parsing '13/08/2020' in DD/MM/YYYY format. Provide format or specify infer_datetime_format=True for consistent parsing.\n",
      "  pd.to_datetime('13/08/2020')\n"
     ]
    },
    {
     "data": {
      "text/plain": [
       "Timestamp('2020-08-13 00:00:00')"
      ]
     },
     "execution_count": 11,
     "metadata": {},
     "output_type": "execute_result"
    }
   ],
   "source": [
    "# En muchos casos por defecto lo hará bien automaticamente\n",
    "pd.to_datetime('13/08/2020')"
   ]
  },
  {
   "cell_type": "code",
   "execution_count": 12,
   "metadata": {},
   "outputs": [
    {
     "data": {
      "text/plain": [
       "Timestamp('2023-08-13 00:00:00')"
      ]
     },
     "execution_count": 12,
     "metadata": {},
     "output_type": "execute_result"
    }
   ],
   "source": [
    "pd.to_datetime('13/08/2023', dayfirst=True)"
   ]
  },
  {
   "cell_type": "code",
   "execution_count": 13,
   "metadata": {},
   "outputs": [
    {
     "data": {
      "text/plain": [
       "Timestamp('2023-08-13 00:00:00')"
      ]
     },
     "execution_count": 13,
     "metadata": {},
     "output_type": "execute_result"
    }
   ],
   "source": [
    "# Corregido Format\n",
    "pd.to_datetime('13082023', format='%d%m%Y')"
   ]
  },
  {
   "cell_type": "markdown",
   "metadata": {},
   "source": [
    "# Cambiar el Formato de la Fecha"
   ]
  },
  {
   "cell_type": "code",
   "execution_count": 14,
   "metadata": {},
   "outputs": [
    {
     "data": {
      "text/plain": [
       "id\n",
       "389932    29/3/23\n",
       "389933    5/12/23\n",
       "389934    26/7/23\n",
       "389935    7/10/23\n",
       "389936    12/5/23\n",
       "Name: Fecha Venta, dtype: object"
      ]
     },
     "execution_count": 14,
     "metadata": {},
     "output_type": "execute_result"
    }
   ],
   "source": [
    "# Formato origen de la fecha\n",
    "df['Fecha Venta'].head()"
   ]
  },
  {
   "cell_type": "markdown",
   "metadata": {},
   "source": [
    "### Cambiar a tipo europeo\n",
    "\n",
    "    df['Fecha Venta'].dt.strftime('%m/%d/%Y')\n",
    "\n",
    "no dara error\n"
   ]
  },
  {
   "cell_type": "code",
   "execution_count": 15,
   "metadata": {},
   "outputs": [
    {
     "name": "stdout",
     "output_type": "stream",
     "text": [
      "Nombre Cliente                    object\n",
      "Tipo Producto                     object\n",
      "Precio (€/kg)                    float64\n",
      "Cantidad Vendida (kg)              int64\n",
      "Fecha Venta               datetime64[ns]\n",
      "Provincia Cliente                 object\n",
      "Fecha Venta Formateada            object\n",
      "dtype: object\n",
      "\n",
      "\n",
      "id\n",
      "389932   2023-03-29\n",
      "389933   2023-12-05\n",
      "389934   2023-07-26\n",
      "Name: Fecha Venta, dtype: datetime64[ns]\n"
     ]
    }
   ],
   "source": [
    "# Supongamos que el dataframe y Fecha Venta esta en formato 'DD/MM/YY'\n",
    "# Convertir Fecha Venta al tipo de dato datetime\n",
    "df['Fecha Venta'] = pd.to_datetime(df['Fecha Venta'], format='%d/%m/%y')\n",
    "\n",
    "# Ahora puedo usar el accesor. dt para formatear la fecha en el formato que deseo\n",
    "df['Fecha Venta Formateada'] = df['Fecha Venta'].dt.strftime('%m/%d/%Y')\n",
    "\n",
    "# Mostrar el dataFrame resultante\n",
    "print(df.dtypes)\n",
    "print('\\n')\n",
    "print(df['Fecha Venta'].head(3))\n"
   ]
  },
  {
   "cell_type": "markdown",
   "metadata": {},
   "source": [
    "## Convertir de Categórica a Ordenada"
   ]
  },
  {
   "cell_type": "markdown",
   "metadata": {},
   "source": [
    "La conversión de una variable a categórica ordenada puede ser útil en varios casos en el análisis de datos. Aquí hay algunas situaciones en las que podría interesarte hacerlo:\n",
    "\n",
    "1. **Cuando tienes categorías con un orden significativo:** Si tus datos tienen una variable categórica en la que el orden entre las categorías importa, como niveles educativos (primaria, secundaria, universidad), convertirla en una variable categórica ordenada permite que el análisis tenga en cuenta este orden. Esto es importante para cálculos estadísticos y visualizaciones que involucran comparaciones de categorías en función de su orden.\n",
    "\n",
    "2. **Cuando deseas ahorrar espacio en memoria:** Las variables categóricas ocupan menos espacio en memoria que las variables de texto. Si tienes una columna categórica con muchas categorías únicas, convertirla a categórica ordenada puede ayudarte a ahorrar memoria y mejorar el rendimiento de tus análisis.\n",
    "\n",
    "3. **Cuando deseas garantizar el orden en las visualizaciones:** Al convertir una variable a categórica ordenada, puedes asegurarte de que las visualizaciones, como gráficos de barras o diagramas de caja, muestren las categorías en el orden correcto. Esto hace que las visualizaciones sean más comprensibles y significativas.\n",
    "\n",
    "4. **Cuando necesitas realizar operaciones específicas:** Algunas operaciones estadísticas o de modelado de datos requieren que las variables categóricas sean ordenadas. Al convertirla a categórica ordenada, estás preparando tus datos para estas operaciones.\n",
    "\n",
    "En resumen, convierte una variable a categórica ordenada cuando el orden entre las categorías es importante para tu análisis, deseas ahorrar memoria, o necesitas garantizar el orden en visualizaciones y operaciones específicas. Esto puede hacer que tus análisis de datos sean más precisos y eficientes.\n",
    "\n",
    "Cuando trabajas con variables categóricas en Pandas, estas pueden ser de dos tipos:\n",
    "\n",
    "1. **Nominales:** Estas categorías no tienen un orden específico, como colores o tipos de frutas. No hay una relación de \"mayor\" o \"menor\" entre ellas.\n",
    "\n",
    "2. **Ordinales:** En cambio, las variables ordinales tienen un orden, como niveles de educación (primaria, secundaria, universidad), donde uno es superior al otro.\n",
    "\n",
    "Para manejar estas variables de manera eficiente en Pandas, es una buena práctica convertirlas al tipo de dato categórico. Aquí están los pasos:\n",
    "\n",
    "1. **Para convertir a nominal:** Utiliza el método `astype('category')`. Esto ayudará a ahorrar espacio en memoria y a procesar los datos de manera más eficiente.\n",
    "\n",
    "2. **Para convertir a ordinal:** Si la variable es ordinal y tiene un orden específico, primero debes crear ese orden en una lista y utilizar `CategoricalDtype()` con el parámetro `ordered=True`. Luego, pasa ese orden al método `astype()` para establecer el orden de la variable."
   ]
  },
  {
   "cell_type": "code",
   "execution_count": 16,
   "metadata": {},
   "outputs": [
    {
     "name": "stderr",
     "output_type": "stream",
     "text": [
      "/var/folders/2d/p3zg32ds4p598pyxblpsp5ph0000gn/T/ipykernel_7931/1634958569.py:2: FutureWarning: The default value of regex will change from True to False in a future version. In addition, single character regular expressions will *not* be treated as literal strings when regex=True.\n",
      "  df.columns = df.columns.str.replace(')', '')\n",
      "/var/folders/2d/p3zg32ds4p598pyxblpsp5ph0000gn/T/ipykernel_7931/1634958569.py:3: FutureWarning: The default value of regex will change from True to False in a future version. In addition, single character regular expressions will *not* be treated as literal strings when regex=True.\n",
      "  df.columns = df.columns.str.replace('(','')\n"
     ]
    },
    {
     "data": {
      "text/html": [
       "<div>\n",
       "<style scoped>\n",
       "    .dataframe tbody tr th:only-of-type {\n",
       "        vertical-align: middle;\n",
       "    }\n",
       "\n",
       "    .dataframe tbody tr th {\n",
       "        vertical-align: top;\n",
       "    }\n",
       "\n",
       "    .dataframe thead th {\n",
       "        text-align: right;\n",
       "    }\n",
       "</style>\n",
       "<table border=\"1\" class=\"dataframe\">\n",
       "  <thead>\n",
       "    <tr style=\"text-align: right;\">\n",
       "      <th></th>\n",
       "      <th>NombreCliente</th>\n",
       "      <th>TipoProducto</th>\n",
       "      <th>Precio€/kg</th>\n",
       "      <th>CantidadVendidakg</th>\n",
       "      <th>FechaVenta</th>\n",
       "      <th>ProvinciaCliente</th>\n",
       "      <th>FechaVentaFormateada</th>\n",
       "    </tr>\n",
       "    <tr>\n",
       "      <th>id</th>\n",
       "      <th></th>\n",
       "      <th></th>\n",
       "      <th></th>\n",
       "      <th></th>\n",
       "      <th></th>\n",
       "      <th></th>\n",
       "      <th></th>\n",
       "    </tr>\n",
       "  </thead>\n",
       "  <tbody>\n",
       "    <tr>\n",
       "      <th>389932</th>\n",
       "      <td>Mas y Mas</td>\n",
       "      <td>Almendras</td>\n",
       "      <td>4.54</td>\n",
       "      <td>1212</td>\n",
       "      <td>2023-03-29</td>\n",
       "      <td>Cádiz</td>\n",
       "      <td>03/29/2023</td>\n",
       "    </tr>\n",
       "    <tr>\n",
       "      <th>389933</th>\n",
       "      <td>Mercadona</td>\n",
       "      <td>Nueces</td>\n",
       "      <td>5.84</td>\n",
       "      <td>591</td>\n",
       "      <td>2023-12-05</td>\n",
       "      <td>Sevilla</td>\n",
       "      <td>12/05/2023</td>\n",
       "    </tr>\n",
       "    <tr>\n",
       "      <th>389934</th>\n",
       "      <td>Alcampo</td>\n",
       "      <td>Cacahuetes</td>\n",
       "      <td>2.69</td>\n",
       "      <td>2831</td>\n",
       "      <td>2023-07-26</td>\n",
       "      <td>Madrid</td>\n",
       "      <td>07/26/2023</td>\n",
       "    </tr>\n",
       "    <tr>\n",
       "      <th>389935</th>\n",
       "      <td>Mas y Mas</td>\n",
       "      <td>Pistachos</td>\n",
       "      <td>6.70</td>\n",
       "      <td>516</td>\n",
       "      <td>2023-10-07</td>\n",
       "      <td>Alicante</td>\n",
       "      <td>10/07/2023</td>\n",
       "    </tr>\n",
       "    <tr>\n",
       "      <th>389936</th>\n",
       "      <td>Lidl</td>\n",
       "      <td>Nueces</td>\n",
       "      <td>6.14</td>\n",
       "      <td>1283</td>\n",
       "      <td>2023-05-12</td>\n",
       "      <td>Barcelona</td>\n",
       "      <td>05/12/2023</td>\n",
       "    </tr>\n",
       "  </tbody>\n",
       "</table>\n",
       "</div>"
      ],
      "text/plain": [
       "       NombreCliente TipoProducto  Precio€/kg  CantidadVendidakg FechaVenta  \\\n",
       "id                                                                            \n",
       "389932     Mas y Mas    Almendras        4.54               1212 2023-03-29   \n",
       "389933     Mercadona       Nueces        5.84                591 2023-12-05   \n",
       "389934       Alcampo   Cacahuetes        2.69               2831 2023-07-26   \n",
       "389935     Mas y Mas    Pistachos        6.70                516 2023-10-07   \n",
       "389936          Lidl       Nueces        6.14               1283 2023-05-12   \n",
       "\n",
       "       ProvinciaCliente FechaVentaFormateada  \n",
       "id                                            \n",
       "389932            Cádiz           03/29/2023  \n",
       "389933          Sevilla           12/05/2023  \n",
       "389934           Madrid           07/26/2023  \n",
       "389935         Alicante           10/07/2023  \n",
       "389936        Barcelona           05/12/2023  "
      ]
     },
     "execution_count": 16,
     "metadata": {},
     "output_type": "execute_result"
    }
   ],
   "source": [
    "#Quitamos espacios y caracteres que traen errores\n",
    "df.columns = df.columns.str.replace(')', '')\n",
    "df.columns = df.columns.str.replace('(','')\n",
    "df.columns = df.columns.str.replace(' ','')\n",
    "\n",
    "df.head()"
   ]
  },
  {
   "cell_type": "code",
   "execution_count": 17,
   "metadata": {},
   "outputs": [
    {
     "data": {
      "text/plain": [
       "dtype('O')"
      ]
     },
     "execution_count": 17,
     "metadata": {},
     "output_type": "execute_result"
    }
   ],
   "source": [
    "# Comprobamos el tipo actual\n",
    "df.NombreCliente.dtype"
   ]
  },
  {
   "cell_type": "code",
   "execution_count": 18,
   "metadata": {},
   "outputs": [
    {
     "data": {
      "text/plain": [
       "array(['Mas y Mas', 'Mercadona', 'Alcampo', 'Lidl', 'Carrefour', 'Dia',\n",
       "       'Consum', 'Caprabo', 'Aldi', 'Eroski', 'Family Cash'], dtype=object)"
      ]
     },
     "execution_count": 18,
     "metadata": {},
     "output_type": "execute_result"
    }
   ],
   "source": [
    "# Comprobamos los diferentes valores que puede tomar\n",
    "df.NombreCliente.unique()"
   ]
  },
  {
   "cell_type": "code",
   "execution_count": 19,
   "metadata": {},
   "outputs": [],
   "source": [
    "# Definimos un orden\n",
    "orden_Status = pd.CategoricalDtype(['Mercadona', 'Carrefour', 'Alcampo', 'Mas y Mas', 'Dia','Consum', 'Caprabo', 'Aldi', 'Eroski', 'Family Cash', 'Lidl'],ordered=True)"
   ]
  },
  {
   "cell_type": "code",
   "execution_count": 20,
   "metadata": {},
   "outputs": [
    {
     "data": {
      "text/plain": [
       "['Mas y Mas', 'Mercadona', 'Alcampo', 'Lidl', 'Carrefour', ..., 'Consum', 'Caprabo', 'Aldi', 'Eroski', 'Family Cash']\n",
       "Length: 11\n",
       "Categories (11, object): ['Mercadona' < 'Carrefour' < 'Alcampo' < 'Mas y Mas' ... 'Aldi' < 'Eroski' < 'Family Cash' < 'Lidl']"
      ]
     },
     "execution_count": 20,
     "metadata": {},
     "output_type": "execute_result"
    }
   ],
   "source": [
    "# Aplicamos el orden y comprobamos sus valores\n",
    "df['NombreCliente'] = df['NombreCliente'].astype(orden_Status)\n",
    "df['NombreCliente'].unique()"
   ]
  },
  {
   "cell_type": "code",
   "execution_count": 21,
   "metadata": {},
   "outputs": [
    {
     "data": {
      "text/plain": [
       "CategoricalDtype(categories=['Mercadona', 'Carrefour', 'Alcampo', 'Mas y Mas', 'Dia',\n",
       "                  'Consum', 'Caprabo', 'Aldi', 'Eroski', 'Family Cash',\n",
       "                  'Lidl'],\n",
       ", ordered=True)"
      ]
     },
     "execution_count": 21,
     "metadata": {},
     "output_type": "execute_result"
    }
   ],
   "source": [
    "# Vemos que ahora su tipo categórico es ordenado\n",
    "df['NombreCliente'].dtype"
   ]
  },
  {
   "cell_type": "markdown",
   "metadata": {},
   "source": [
    "Si la variable ya fuera categórica, pero sin orden, o incluso si ya tiene orden pero queres cambiarlo? Entonces usamos .cat.set_categories().\n",
    "\n",
    "Por ejemplo pongamos a 'Lidl' primero."
   ]
  },
  {
   "cell_type": "code",
   "execution_count": 22,
   "metadata": {},
   "outputs": [],
   "source": [
    "#asignamos el nuevo orden\n",
    "\n",
    "df['NombreCliente'] = df.NombreCliente.cat.set_categories (['Lidl','Mercadona', 'Carrefour', 'Alcampo', 'Mas y Mas', 'Dia','Consum', 'Caprabo', 'Aldi', 'Eroski', 'Family Cash'],ordered=True)"
   ]
  },
  {
   "cell_type": "code",
   "execution_count": 23,
   "metadata": {},
   "outputs": [
    {
     "data": {
      "text/plain": [
       "id\n",
       "389932    Mas y Mas\n",
       "389933    Mercadona\n",
       "389934      Alcampo\n",
       "389935    Mas y Mas\n",
       "389936         Lidl\n",
       "            ...    \n",
       "390227      Caprabo\n",
       "390228      Alcampo\n",
       "390229    Mas y Mas\n",
       "390230    Mas y Mas\n",
       "390231         Aldi\n",
       "Name: NombreCliente, Length: 300, dtype: category\n",
       "Categories (11, object): ['Lidl' < 'Mercadona' < 'Carrefour' < 'Alcampo' ... 'Caprabo' < 'Aldi' < 'Eroski' < 'Family Cash']"
      ]
     },
     "execution_count": 23,
     "metadata": {},
     "output_type": "execute_result"
    }
   ],
   "source": [
    "df['NombreCliente']"
   ]
  },
  {
   "cell_type": "code",
   "execution_count": 24,
   "metadata": {},
   "outputs": [
    {
     "data": {
      "text/plain": [
       "id\n",
       "389932    Mas y Mas\n",
       "389933    Mercadona\n",
       "389934      Alcampo\n",
       "389935    Mas y Mas\n",
       "389936         Lidl\n",
       "            ...    \n",
       "390227      Caprabo\n",
       "390228      Alcampo\n",
       "390229    Mas y Mas\n",
       "390230    Mas y Mas\n",
       "390231         Aldi\n",
       "Name: NombreCliente, Length: 300, dtype: category\n",
       "Categories (11, object): ['Lidl' < 'Mercadona' < 'Carrefour' < 'Alcampo' ... 'Caprabo' < 'Aldi' < 'Eroski' < 'Family Cash']"
      ]
     },
     "execution_count": 24,
     "metadata": {},
     "output_type": "execute_result"
    }
   ],
   "source": [
    "df.NombreCliente"
   ]
  },
  {
   "cell_type": "markdown",
   "metadata": {},
   "source": [
    "## Eliminar Filas y Columnas"
   ]
  },
  {
   "cell_type": "markdown",
   "metadata": {},
   "source": [
    "No hace **Inplace** automaticamente\n",
    "\n",
    "No agarra por **Posiciones**"
   ]
  },
  {
   "cell_type": "code",
   "execution_count": 25,
   "metadata": {},
   "outputs": [
    {
     "data": {
      "text/html": [
       "<div>\n",
       "<style scoped>\n",
       "    .dataframe tbody tr th:only-of-type {\n",
       "        vertical-align: middle;\n",
       "    }\n",
       "\n",
       "    .dataframe tbody tr th {\n",
       "        vertical-align: top;\n",
       "    }\n",
       "\n",
       "    .dataframe thead th {\n",
       "        text-align: right;\n",
       "    }\n",
       "</style>\n",
       "<table border=\"1\" class=\"dataframe\">\n",
       "  <thead>\n",
       "    <tr style=\"text-align: right;\">\n",
       "      <th></th>\n",
       "      <th>NombreCliente</th>\n",
       "      <th>TipoProducto</th>\n",
       "      <th>Precio€/kg</th>\n",
       "      <th>CantidadVendidakg</th>\n",
       "      <th>FechaVenta</th>\n",
       "      <th>ProvinciaCliente</th>\n",
       "      <th>FechaVentaFormateada</th>\n",
       "    </tr>\n",
       "    <tr>\n",
       "      <th>id</th>\n",
       "      <th></th>\n",
       "      <th></th>\n",
       "      <th></th>\n",
       "      <th></th>\n",
       "      <th></th>\n",
       "      <th></th>\n",
       "      <th></th>\n",
       "    </tr>\n",
       "  </thead>\n",
       "  <tbody>\n",
       "    <tr>\n",
       "      <th>389932</th>\n",
       "      <td>Mas y Mas</td>\n",
       "      <td>Almendras</td>\n",
       "      <td>4.54</td>\n",
       "      <td>1212</td>\n",
       "      <td>2023-03-29</td>\n",
       "      <td>Cádiz</td>\n",
       "      <td>03/29/2023</td>\n",
       "    </tr>\n",
       "    <tr>\n",
       "      <th>389933</th>\n",
       "      <td>Mercadona</td>\n",
       "      <td>Nueces</td>\n",
       "      <td>5.84</td>\n",
       "      <td>591</td>\n",
       "      <td>2023-12-05</td>\n",
       "      <td>Sevilla</td>\n",
       "      <td>12/05/2023</td>\n",
       "    </tr>\n",
       "    <tr>\n",
       "      <th>389934</th>\n",
       "      <td>Alcampo</td>\n",
       "      <td>Cacahuetes</td>\n",
       "      <td>2.69</td>\n",
       "      <td>2831</td>\n",
       "      <td>2023-07-26</td>\n",
       "      <td>Madrid</td>\n",
       "      <td>07/26/2023</td>\n",
       "    </tr>\n",
       "    <tr>\n",
       "      <th>389935</th>\n",
       "      <td>Mas y Mas</td>\n",
       "      <td>Pistachos</td>\n",
       "      <td>6.70</td>\n",
       "      <td>516</td>\n",
       "      <td>2023-10-07</td>\n",
       "      <td>Alicante</td>\n",
       "      <td>10/07/2023</td>\n",
       "    </tr>\n",
       "    <tr>\n",
       "      <th>389936</th>\n",
       "      <td>Lidl</td>\n",
       "      <td>Nueces</td>\n",
       "      <td>6.14</td>\n",
       "      <td>1283</td>\n",
       "      <td>2023-05-12</td>\n",
       "      <td>Barcelona</td>\n",
       "      <td>05/12/2023</td>\n",
       "    </tr>\n",
       "  </tbody>\n",
       "</table>\n",
       "</div>"
      ],
      "text/plain": [
       "       NombreCliente TipoProducto  Precio€/kg  CantidadVendidakg FechaVenta  \\\n",
       "id                                                                            \n",
       "389932     Mas y Mas    Almendras        4.54               1212 2023-03-29   \n",
       "389933     Mercadona       Nueces        5.84                591 2023-12-05   \n",
       "389934       Alcampo   Cacahuetes        2.69               2831 2023-07-26   \n",
       "389935     Mas y Mas    Pistachos        6.70                516 2023-10-07   \n",
       "389936          Lidl       Nueces        6.14               1283 2023-05-12   \n",
       "\n",
       "       ProvinciaCliente FechaVentaFormateada  \n",
       "id                                            \n",
       "389932            Cádiz           03/29/2023  \n",
       "389933          Sevilla           12/05/2023  \n",
       "389934           Madrid           07/26/2023  \n",
       "389935         Alicante           10/07/2023  \n",
       "389936        Barcelona           05/12/2023  "
      ]
     },
     "execution_count": 25,
     "metadata": {},
     "output_type": "execute_result"
    }
   ],
   "source": [
    "df.head(5)"
   ]
  },
  {
   "cell_type": "code",
   "execution_count": 26,
   "metadata": {},
   "outputs": [
    {
     "data": {
      "text/html": [
       "<div>\n",
       "<style scoped>\n",
       "    .dataframe tbody tr th:only-of-type {\n",
       "        vertical-align: middle;\n",
       "    }\n",
       "\n",
       "    .dataframe tbody tr th {\n",
       "        vertical-align: top;\n",
       "    }\n",
       "\n",
       "    .dataframe thead th {\n",
       "        text-align: right;\n",
       "    }\n",
       "</style>\n",
       "<table border=\"1\" class=\"dataframe\">\n",
       "  <thead>\n",
       "    <tr style=\"text-align: right;\">\n",
       "      <th></th>\n",
       "      <th>TipoProducto</th>\n",
       "      <th>Precio€/kg</th>\n",
       "      <th>CantidadVendidakg</th>\n",
       "      <th>ProvinciaCliente</th>\n",
       "      <th>FechaVentaFormateada</th>\n",
       "    </tr>\n",
       "    <tr>\n",
       "      <th>id</th>\n",
       "      <th></th>\n",
       "      <th></th>\n",
       "      <th></th>\n",
       "      <th></th>\n",
       "      <th></th>\n",
       "    </tr>\n",
       "  </thead>\n",
       "  <tbody>\n",
       "    <tr>\n",
       "      <th>389932</th>\n",
       "      <td>Almendras</td>\n",
       "      <td>4.54</td>\n",
       "      <td>1212</td>\n",
       "      <td>Cádiz</td>\n",
       "      <td>03/29/2023</td>\n",
       "    </tr>\n",
       "    <tr>\n",
       "      <th>389933</th>\n",
       "      <td>Nueces</td>\n",
       "      <td>5.84</td>\n",
       "      <td>591</td>\n",
       "      <td>Sevilla</td>\n",
       "      <td>12/05/2023</td>\n",
       "    </tr>\n",
       "    <tr>\n",
       "      <th>389934</th>\n",
       "      <td>Cacahuetes</td>\n",
       "      <td>2.69</td>\n",
       "      <td>2831</td>\n",
       "      <td>Madrid</td>\n",
       "      <td>07/26/2023</td>\n",
       "    </tr>\n",
       "    <tr>\n",
       "      <th>389935</th>\n",
       "      <td>Pistachos</td>\n",
       "      <td>6.70</td>\n",
       "      <td>516</td>\n",
       "      <td>Alicante</td>\n",
       "      <td>10/07/2023</td>\n",
       "    </tr>\n",
       "    <tr>\n",
       "      <th>389936</th>\n",
       "      <td>Nueces</td>\n",
       "      <td>6.14</td>\n",
       "      <td>1283</td>\n",
       "      <td>Barcelona</td>\n",
       "      <td>05/12/2023</td>\n",
       "    </tr>\n",
       "  </tbody>\n",
       "</table>\n",
       "</div>"
      ],
      "text/plain": [
       "       TipoProducto  Precio€/kg  CantidadVendidakg ProvinciaCliente  \\\n",
       "id                                                                    \n",
       "389932    Almendras        4.54               1212            Cádiz   \n",
       "389933       Nueces        5.84                591          Sevilla   \n",
       "389934   Cacahuetes        2.69               2831           Madrid   \n",
       "389935    Pistachos        6.70                516         Alicante   \n",
       "389936       Nueces        6.14               1283        Barcelona   \n",
       "\n",
       "       FechaVentaFormateada  \n",
       "id                           \n",
       "389932           03/29/2023  \n",
       "389933           12/05/2023  \n",
       "389934           07/26/2023  \n",
       "389935           10/07/2023  \n",
       "389936           05/12/2023  "
      ]
     },
     "execution_count": 26,
     "metadata": {},
     "output_type": "execute_result"
    }
   ],
   "source": [
    "# Eliminar Variables\n",
    "df.drop(columns=['NombreCliente', 'FechaVenta']).head(5)"
   ]
  },
  {
   "cell_type": "code",
   "execution_count": 27,
   "metadata": {},
   "outputs": [
    {
     "data": {
      "text/html": [
       "<div>\n",
       "<style scoped>\n",
       "    .dataframe tbody tr th:only-of-type {\n",
       "        vertical-align: middle;\n",
       "    }\n",
       "\n",
       "    .dataframe tbody tr th {\n",
       "        vertical-align: top;\n",
       "    }\n",
       "\n",
       "    .dataframe thead th {\n",
       "        text-align: right;\n",
       "    }\n",
       "</style>\n",
       "<table border=\"1\" class=\"dataframe\">\n",
       "  <thead>\n",
       "    <tr style=\"text-align: right;\">\n",
       "      <th></th>\n",
       "      <th>NombreCliente</th>\n",
       "      <th>TipoProducto</th>\n",
       "      <th>Precio€/kg</th>\n",
       "      <th>CantidadVendidakg</th>\n",
       "      <th>FechaVenta</th>\n",
       "      <th>ProvinciaCliente</th>\n",
       "      <th>FechaVentaFormateada</th>\n",
       "    </tr>\n",
       "    <tr>\n",
       "      <th>id</th>\n",
       "      <th></th>\n",
       "      <th></th>\n",
       "      <th></th>\n",
       "      <th></th>\n",
       "      <th></th>\n",
       "      <th></th>\n",
       "      <th></th>\n",
       "    </tr>\n",
       "  </thead>\n",
       "  <tbody>\n",
       "    <tr>\n",
       "      <th>389934</th>\n",
       "      <td>Alcampo</td>\n",
       "      <td>Cacahuetes</td>\n",
       "      <td>2.69</td>\n",
       "      <td>2831</td>\n",
       "      <td>2023-07-26</td>\n",
       "      <td>Madrid</td>\n",
       "      <td>07/26/2023</td>\n",
       "    </tr>\n",
       "    <tr>\n",
       "      <th>389935</th>\n",
       "      <td>Mas y Mas</td>\n",
       "      <td>Pistachos</td>\n",
       "      <td>6.70</td>\n",
       "      <td>516</td>\n",
       "      <td>2023-10-07</td>\n",
       "      <td>Alicante</td>\n",
       "      <td>10/07/2023</td>\n",
       "    </tr>\n",
       "  </tbody>\n",
       "</table>\n",
       "</div>"
      ],
      "text/plain": [
       "       NombreCliente TipoProducto  Precio€/kg  CantidadVendidakg FechaVenta  \\\n",
       "id                                                                            \n",
       "389934       Alcampo   Cacahuetes        2.69               2831 2023-07-26   \n",
       "389935     Mas y Mas    Pistachos        6.70                516 2023-10-07   \n",
       "\n",
       "       ProvinciaCliente FechaVentaFormateada  \n",
       "id                                            \n",
       "389934           Madrid           07/26/2023  \n",
       "389935         Alicante           10/07/2023  "
      ]
     },
     "execution_count": 27,
     "metadata": {},
     "output_type": "execute_result"
    }
   ],
   "source": [
    "# Eliminar registros\n",
    "df.drop(index=[389932,389933]).head(2)"
   ]
  },
  {
   "cell_type": "code",
   "execution_count": 28,
   "metadata": {},
   "outputs": [
    {
     "data": {
      "text/plain": [
       "Int64Index([389932, 389933, 389934, 389935, 389936], dtype='int64', name='id')"
      ]
     },
     "execution_count": 28,
     "metadata": {},
     "output_type": "execute_result"
    }
   ],
   "source": [
    "# Para eliminar registros por posición, ejemplo lo 5 primeros, obtienes su nombre con index\n",
    "a_eliminar = df.index[0:5]\n",
    "a_eliminar"
   ]
  },
  {
   "cell_type": "code",
   "execution_count": 29,
   "metadata": {},
   "outputs": [
    {
     "data": {
      "text/html": [
       "<div>\n",
       "<style scoped>\n",
       "    .dataframe tbody tr th:only-of-type {\n",
       "        vertical-align: middle;\n",
       "    }\n",
       "\n",
       "    .dataframe tbody tr th {\n",
       "        vertical-align: top;\n",
       "    }\n",
       "\n",
       "    .dataframe thead th {\n",
       "        text-align: right;\n",
       "    }\n",
       "</style>\n",
       "<table border=\"1\" class=\"dataframe\">\n",
       "  <thead>\n",
       "    <tr style=\"text-align: right;\">\n",
       "      <th></th>\n",
       "      <th>NombreCliente</th>\n",
       "      <th>TipoProducto</th>\n",
       "      <th>Precio€/kg</th>\n",
       "      <th>CantidadVendidakg</th>\n",
       "      <th>FechaVenta</th>\n",
       "      <th>ProvinciaCliente</th>\n",
       "      <th>FechaVentaFormateada</th>\n",
       "    </tr>\n",
       "    <tr>\n",
       "      <th>id</th>\n",
       "      <th></th>\n",
       "      <th></th>\n",
       "      <th></th>\n",
       "      <th></th>\n",
       "      <th></th>\n",
       "      <th></th>\n",
       "      <th></th>\n",
       "    </tr>\n",
       "  </thead>\n",
       "  <tbody>\n",
       "    <tr>\n",
       "      <th>389937</th>\n",
       "      <td>Carrefour</td>\n",
       "      <td>Almendras</td>\n",
       "      <td>1.92</td>\n",
       "      <td>2741</td>\n",
       "      <td>2023-03-24</td>\n",
       "      <td>Cádiz</td>\n",
       "      <td>03/24/2023</td>\n",
       "    </tr>\n",
       "    <tr>\n",
       "      <th>389938</th>\n",
       "      <td>Lidl</td>\n",
       "      <td>Pistachos</td>\n",
       "      <td>3.88</td>\n",
       "      <td>2898</td>\n",
       "      <td>2023-03-08</td>\n",
       "      <td>Sevilla</td>\n",
       "      <td>03/08/2023</td>\n",
       "    </tr>\n",
       "    <tr>\n",
       "      <th>389939</th>\n",
       "      <td>Alcampo</td>\n",
       "      <td>Almendras</td>\n",
       "      <td>3.76</td>\n",
       "      <td>2464</td>\n",
       "      <td>2023-03-01</td>\n",
       "      <td>Madrid</td>\n",
       "      <td>03/01/2023</td>\n",
       "    </tr>\n",
       "    <tr>\n",
       "      <th>389940</th>\n",
       "      <td>Dia</td>\n",
       "      <td>Almendras</td>\n",
       "      <td>6.46</td>\n",
       "      <td>641</td>\n",
       "      <td>2023-09-26</td>\n",
       "      <td>Alicante</td>\n",
       "      <td>09/26/2023</td>\n",
       "    </tr>\n",
       "    <tr>\n",
       "      <th>389941</th>\n",
       "      <td>Consum</td>\n",
       "      <td>Pistachos</td>\n",
       "      <td>8.70</td>\n",
       "      <td>646</td>\n",
       "      <td>2023-11-23</td>\n",
       "      <td>Cádiz</td>\n",
       "      <td>11/23/2023</td>\n",
       "    </tr>\n",
       "    <tr>\n",
       "      <th>...</th>\n",
       "      <td>...</td>\n",
       "      <td>...</td>\n",
       "      <td>...</td>\n",
       "      <td>...</td>\n",
       "      <td>...</td>\n",
       "      <td>...</td>\n",
       "      <td>...</td>\n",
       "    </tr>\n",
       "    <tr>\n",
       "      <th>390227</th>\n",
       "      <td>Caprabo</td>\n",
       "      <td>Nueces</td>\n",
       "      <td>9.75</td>\n",
       "      <td>2367</td>\n",
       "      <td>2023-09-15</td>\n",
       "      <td>Sevilla</td>\n",
       "      <td>09/15/2023</td>\n",
       "    </tr>\n",
       "    <tr>\n",
       "      <th>390228</th>\n",
       "      <td>Alcampo</td>\n",
       "      <td>Pistachos</td>\n",
       "      <td>3.82</td>\n",
       "      <td>1951</td>\n",
       "      <td>2023-09-19</td>\n",
       "      <td>Madrid</td>\n",
       "      <td>09/19/2023</td>\n",
       "    </tr>\n",
       "    <tr>\n",
       "      <th>390229</th>\n",
       "      <td>Mas y Mas</td>\n",
       "      <td>Pistachos</td>\n",
       "      <td>5.22</td>\n",
       "      <td>2811</td>\n",
       "      <td>2023-05-04</td>\n",
       "      <td>Valencia</td>\n",
       "      <td>05/04/2023</td>\n",
       "    </tr>\n",
       "    <tr>\n",
       "      <th>390230</th>\n",
       "      <td>Mas y Mas</td>\n",
       "      <td>Cacahuetes</td>\n",
       "      <td>8.07</td>\n",
       "      <td>473</td>\n",
       "      <td>2023-01-18</td>\n",
       "      <td>Madrid</td>\n",
       "      <td>01/18/2023</td>\n",
       "    </tr>\n",
       "    <tr>\n",
       "      <th>390231</th>\n",
       "      <td>Aldi</td>\n",
       "      <td>Nueces</td>\n",
       "      <td>5.80</td>\n",
       "      <td>1081</td>\n",
       "      <td>2023-03-23</td>\n",
       "      <td>Sevilla</td>\n",
       "      <td>03/23/2023</td>\n",
       "    </tr>\n",
       "  </tbody>\n",
       "</table>\n",
       "<p>295 rows × 7 columns</p>\n",
       "</div>"
      ],
      "text/plain": [
       "       NombreCliente TipoProducto  Precio€/kg  CantidadVendidakg FechaVenta  \\\n",
       "id                                                                            \n",
       "389937     Carrefour    Almendras        1.92               2741 2023-03-24   \n",
       "389938          Lidl    Pistachos        3.88               2898 2023-03-08   \n",
       "389939       Alcampo    Almendras        3.76               2464 2023-03-01   \n",
       "389940           Dia    Almendras        6.46                641 2023-09-26   \n",
       "389941        Consum    Pistachos        8.70                646 2023-11-23   \n",
       "...              ...          ...         ...                ...        ...   \n",
       "390227       Caprabo       Nueces        9.75               2367 2023-09-15   \n",
       "390228       Alcampo    Pistachos        3.82               1951 2023-09-19   \n",
       "390229     Mas y Mas    Pistachos        5.22               2811 2023-05-04   \n",
       "390230     Mas y Mas   Cacahuetes        8.07                473 2023-01-18   \n",
       "390231          Aldi       Nueces        5.80               1081 2023-03-23   \n",
       "\n",
       "       ProvinciaCliente FechaVentaFormateada  \n",
       "id                                            \n",
       "389937            Cádiz           03/24/2023  \n",
       "389938          Sevilla           03/08/2023  \n",
       "389939           Madrid           03/01/2023  \n",
       "389940         Alicante           09/26/2023  \n",
       "389941            Cádiz           11/23/2023  \n",
       "...                 ...                  ...  \n",
       "390227          Sevilla           09/15/2023  \n",
       "390228           Madrid           09/19/2023  \n",
       "390229         Valencia           05/04/2023  \n",
       "390230           Madrid           01/18/2023  \n",
       "390231          Sevilla           03/23/2023  \n",
       "\n",
       "[295 rows x 7 columns]"
      ]
     },
     "execution_count": 29,
     "metadata": {},
     "output_type": "execute_result"
    }
   ],
   "source": [
    "# y despúes se elimina\n",
    "df.drop(index = a_eliminar)"
   ]
  },
  {
   "cell_type": "markdown",
   "metadata": {},
   "source": [
    "## Insertar Variables"
   ]
  },
  {
   "cell_type": "markdown",
   "metadata": {},
   "source": [
    "La función `insert()` se utiliza en Pandas cuando deseas agregar una nueva columna a un DataFrame en una posición específica. Aquí están los puntos clave:\n",
    "\n",
    "1. **loc:** Este parámetro te permite especificar la posición en la que deseas insertar la nueva columna. Puedes indicar la posición utilizando un número entero, donde 0 sería la primera columna, 1 sería la segunda, y así sucesivamente.\n",
    "\n",
    "2. **column:** Debes proporcionar el nombre de la nueva columna que deseas agregar al DataFrame.\n",
    "\n",
    "3. **value:** Aquí, puedes proporcionar los valores que deseas asignar a esa nueva columna. Puedes proporcionar una lista de valores, un valor único que se replicará en toda la columna o cualquier otro objeto de datos que sea coherente con el número de filas en tu DataFrame.\n",
    "\n",
    "Un aspecto importante a tener en cuenta es que la función `insert()` modifica el DataFrame existente directamente (inplace), por lo que no es necesario asignar el resultado a una nueva variable. La columna se insertará en la posición especificada y se actualizará el DataFrame original.\n",
    "\n",
    "En resumen, `insert()` es útil cuando necesitas agregar una nueva columna a tu DataFrame en una ubicación específica y deseas hacerlo directamente en el DataFrame actual."
   ]
  },
  {
   "cell_type": "code",
   "execution_count": 30,
   "metadata": {},
   "outputs": [],
   "source": [
    "# Insertamos una nueva variable\n",
    "df.insert(2, 'Facturado', df['Precio€/kg']*df['CantidadVendidakg'])"
   ]
  },
  {
   "cell_type": "code",
   "execution_count": 31,
   "metadata": {},
   "outputs": [
    {
     "data": {
      "text/html": [
       "<div>\n",
       "<style scoped>\n",
       "    .dataframe tbody tr th:only-of-type {\n",
       "        vertical-align: middle;\n",
       "    }\n",
       "\n",
       "    .dataframe tbody tr th {\n",
       "        vertical-align: top;\n",
       "    }\n",
       "\n",
       "    .dataframe thead th {\n",
       "        text-align: right;\n",
       "    }\n",
       "</style>\n",
       "<table border=\"1\" class=\"dataframe\">\n",
       "  <thead>\n",
       "    <tr style=\"text-align: right;\">\n",
       "      <th></th>\n",
       "      <th>NombreCliente</th>\n",
       "      <th>TipoProducto</th>\n",
       "      <th>Facturado</th>\n",
       "      <th>Precio€/kg</th>\n",
       "      <th>CantidadVendidakg</th>\n",
       "      <th>FechaVenta</th>\n",
       "      <th>ProvinciaCliente</th>\n",
       "      <th>FechaVentaFormateada</th>\n",
       "    </tr>\n",
       "    <tr>\n",
       "      <th>id</th>\n",
       "      <th></th>\n",
       "      <th></th>\n",
       "      <th></th>\n",
       "      <th></th>\n",
       "      <th></th>\n",
       "      <th></th>\n",
       "      <th></th>\n",
       "      <th></th>\n",
       "    </tr>\n",
       "  </thead>\n",
       "  <tbody>\n",
       "    <tr>\n",
       "      <th>389932</th>\n",
       "      <td>Mas y Mas</td>\n",
       "      <td>Almendras</td>\n",
       "      <td>5502.48</td>\n",
       "      <td>4.54</td>\n",
       "      <td>1212</td>\n",
       "      <td>2023-03-29</td>\n",
       "      <td>Cádiz</td>\n",
       "      <td>03/29/2023</td>\n",
       "    </tr>\n",
       "    <tr>\n",
       "      <th>389933</th>\n",
       "      <td>Mercadona</td>\n",
       "      <td>Nueces</td>\n",
       "      <td>3451.44</td>\n",
       "      <td>5.84</td>\n",
       "      <td>591</td>\n",
       "      <td>2023-12-05</td>\n",
       "      <td>Sevilla</td>\n",
       "      <td>12/05/2023</td>\n",
       "    </tr>\n",
       "    <tr>\n",
       "      <th>389934</th>\n",
       "      <td>Alcampo</td>\n",
       "      <td>Cacahuetes</td>\n",
       "      <td>7615.39</td>\n",
       "      <td>2.69</td>\n",
       "      <td>2831</td>\n",
       "      <td>2023-07-26</td>\n",
       "      <td>Madrid</td>\n",
       "      <td>07/26/2023</td>\n",
       "    </tr>\n",
       "    <tr>\n",
       "      <th>389935</th>\n",
       "      <td>Mas y Mas</td>\n",
       "      <td>Pistachos</td>\n",
       "      <td>3457.20</td>\n",
       "      <td>6.70</td>\n",
       "      <td>516</td>\n",
       "      <td>2023-10-07</td>\n",
       "      <td>Alicante</td>\n",
       "      <td>10/07/2023</td>\n",
       "    </tr>\n",
       "    <tr>\n",
       "      <th>389936</th>\n",
       "      <td>Lidl</td>\n",
       "      <td>Nueces</td>\n",
       "      <td>7877.62</td>\n",
       "      <td>6.14</td>\n",
       "      <td>1283</td>\n",
       "      <td>2023-05-12</td>\n",
       "      <td>Barcelona</td>\n",
       "      <td>05/12/2023</td>\n",
       "    </tr>\n",
       "  </tbody>\n",
       "</table>\n",
       "</div>"
      ],
      "text/plain": [
       "       NombreCliente TipoProducto  Facturado  Precio€/kg  CantidadVendidakg  \\\n",
       "id                                                                            \n",
       "389932     Mas y Mas    Almendras    5502.48        4.54               1212   \n",
       "389933     Mercadona       Nueces    3451.44        5.84                591   \n",
       "389934       Alcampo   Cacahuetes    7615.39        2.69               2831   \n",
       "389935     Mas y Mas    Pistachos    3457.20        6.70                516   \n",
       "389936          Lidl       Nueces    7877.62        6.14               1283   \n",
       "\n",
       "       FechaVenta ProvinciaCliente FechaVentaFormateada  \n",
       "id                                                       \n",
       "389932 2023-03-29            Cádiz           03/29/2023  \n",
       "389933 2023-12-05          Sevilla           12/05/2023  \n",
       "389934 2023-07-26           Madrid           07/26/2023  \n",
       "389935 2023-10-07         Alicante           10/07/2023  \n",
       "389936 2023-05-12        Barcelona           05/12/2023  "
      ]
     },
     "execution_count": 31,
     "metadata": {},
     "output_type": "execute_result"
    }
   ],
   "source": [
    "df.head(5)"
   ]
  },
  {
   "cell_type": "markdown",
   "metadata": {},
   "source": [
    "## Eliminar Nulos"
   ]
  },
  {
   "cell_type": "markdown",
   "metadata": {},
   "source": [
    "La función `dropna()` se utiliza para eliminar registros o columnas que contienen valores nulos en un DataFrame. Aquí están los detalles clave:\n",
    "\n",
    "1. **axis:** Este parámetro te permite especificar si deseas eliminar registros con nulos (si se establece en 0 o \"index\") o columnas con nulos (si se establece en 1 o \"columns\"). Es decir, decides si estás interesado en eliminar filas o columnas con nulos.\n",
    "\n",
    "2. **how:** Por defecto, está configurado en 'any', lo que significa que eliminará un registro o columna si contiene al menos un valor nulo. Puedes cambiarlo a 'all' para eliminar solo si todos los valores son nulos en el registro o columna.\n",
    "\n",
    "3. **subset:** Con este parámetro, puedes especificar un subconjunto de columnas en las que deseas buscar valores nulos. Si se proporciona, solo se considerarán los nulos en las columnas especificadas para la eliminación.\n",
    "\n",
    "4. **thresh:** Este parámetro te permite establecer un umbral para la eliminación. Por ejemplo, si lo configuras en 100, eliminará registros o columnas solo si tienen al menos 100 valores nulos.\n",
    "\n",
    "5. **inplace:** Por defecto, está configurado en False, lo que significa que la operación no se realizará en su lugar y, en su lugar, se devolverá un nuevo DataFrame sin los registros o columnas con nulos. Si lo estableces en True, la operación se realizará en el DataFrame original, y no se devolverá un nuevo DataFrame.\n",
    "\n",
    "En resumen, `dropna()` es útil cuando deseas limpiar tu DataFrame eliminando registros o columnas con valores nulos. Puedes especificar cómo deseas realizar esta eliminación utilizando los parámetros mencionados anteriormente."
   ]
  },
  {
   "cell_type": "code",
   "execution_count": 32,
   "metadata": {},
   "outputs": [],
   "source": [
    "df = pd.read_csv('/Users/jimenacambronero/Desktop/Proyectos para Portfolio/PythonPracticas/Datos/registros_nulos.csv')"
   ]
  },
  {
   "cell_type": "code",
   "execution_count": 33,
   "metadata": {},
   "outputs": [
    {
     "data": {
      "text/plain": [
       "(50, 4)"
      ]
     },
     "execution_count": 33,
     "metadata": {},
     "output_type": "execute_result"
    }
   ],
   "source": [
    "# Dimensiones del DataSet original\n",
    "df.shape"
   ]
  },
  {
   "cell_type": "code",
   "execution_count": 34,
   "metadata": {},
   "outputs": [
    {
     "data": {
      "text/plain": [
       "(50, 2)"
      ]
     },
     "execution_count": 34,
     "metadata": {},
     "output_type": "execute_result"
    }
   ],
   "source": [
    "# Dimensiones del DataSet tras eliminar las columnas con nulos\n",
    "df.dropna(axis = 1).shape"
   ]
  },
  {
   "cell_type": "code",
   "execution_count": 35,
   "metadata": {},
   "outputs": [
    {
     "data": {
      "text/plain": [
       "(19, 4)"
      ]
     },
     "execution_count": 35,
     "metadata": {},
     "output_type": "execute_result"
    }
   ],
   "source": [
    "# Dimensiones del DataSet tras eliminar los registros con nulos\n",
    "df.dropna(axis = 0).shape"
   ]
  },
  {
   "cell_type": "markdown",
   "metadata": {},
   "source": [
    "## Reemplazar Nulos"
   ]
  },
  {
   "cell_type": "markdown",
   "metadata": {},
   "source": [
    "La función `fillna()` se utiliza para reemplazar los valores nulos en una Serie o DataFrame con otro valor. Aquí están los detalles clave:\n",
    "\n",
    "1. **value:** Este parámetro te permite especificar el valor que deseas utilizar para reemplazar los nulos. Puedes elegir un valor fijo, como 0, o incluso calcular un valor al vuelo, como la media de los datos.\n",
    "\n",
    "2. **method:** Si prefieres reemplazar los nulos por valores de la fila anterior, puedes establecer este parámetro en 'ffill' (forward fill). Si prefieres utilizar valores de la fila siguiente, puedes establecerlo en 'bfill' (backward fill). Esto es útil cuando los datos están ordenados y deseas propagar los valores no nulos hacia arriba o hacia abajo.\n",
    "\n",
    "3. **inplace:** Al igual que con otras funciones en Pandas, por defecto, `fillna()` no modifica el DataFrame o la Serie original y devuelve un nuevo objeto con los valores nulos reemplazados. Si deseas realizar la operación en su lugar, puedes establecer este parámetro en True.\n",
    "\n",
    "En resumen, `fillna()` es útil cuando deseas tratar los valores nulos en tus datos y reemplazarlos por valores específicos, como un valor fijo o valores calculados. También puedes propagar valores no nulos hacia arriba o hacia abajo según el orden de tus datos si eso es relevante para tu análisis."
   ]
  },
  {
   "cell_type": "code",
   "execution_count": 36,
   "metadata": {},
   "outputs": [
    {
     "data": {
      "text/html": [
       "<div>\n",
       "<style scoped>\n",
       "    .dataframe tbody tr th:only-of-type {\n",
       "        vertical-align: middle;\n",
       "    }\n",
       "\n",
       "    .dataframe tbody tr th {\n",
       "        vertical-align: top;\n",
       "    }\n",
       "\n",
       "    .dataframe thead th {\n",
       "        text-align: right;\n",
       "    }\n",
       "</style>\n",
       "<table border=\"1\" class=\"dataframe\">\n",
       "  <thead>\n",
       "    <tr style=\"text-align: right;\">\n",
       "      <th></th>\n",
       "      <th>ID</th>\n",
       "      <th>Nombre</th>\n",
       "      <th>Edad</th>\n",
       "      <th>Puntuacion</th>\n",
       "    </tr>\n",
       "  </thead>\n",
       "  <tbody>\n",
       "    <tr>\n",
       "      <th>0</th>\n",
       "      <td>1</td>\n",
       "      <td>Nombre1</td>\n",
       "      <td>NaN</td>\n",
       "      <td>95.0</td>\n",
       "    </tr>\n",
       "    <tr>\n",
       "      <th>1</th>\n",
       "      <td>2</td>\n",
       "      <td>Nombre2</td>\n",
       "      <td>25.0</td>\n",
       "      <td>NaN</td>\n",
       "    </tr>\n",
       "    <tr>\n",
       "      <th>2</th>\n",
       "      <td>3</td>\n",
       "      <td>Nombre3</td>\n",
       "      <td>NaN</td>\n",
       "      <td>NaN</td>\n",
       "    </tr>\n",
       "  </tbody>\n",
       "</table>\n",
       "</div>"
      ],
      "text/plain": [
       "   ID   Nombre  Edad  Puntuacion\n",
       "0   1  Nombre1   NaN        95.0\n",
       "1   2  Nombre2  25.0         NaN\n",
       "2   3  Nombre3   NaN         NaN"
      ]
     },
     "execution_count": 36,
     "metadata": {},
     "output_type": "execute_result"
    }
   ],
   "source": [
    "df.head(3)"
   ]
  },
  {
   "cell_type": "code",
   "execution_count": 37,
   "metadata": {},
   "outputs": [
    {
     "data": {
      "text/plain": [
       "30.0    19\n",
       "25.0    16\n",
       "NaN     15\n",
       "Name: Edad, dtype: int64"
      ]
     },
     "execution_count": 37,
     "metadata": {},
     "output_type": "execute_result"
    }
   ],
   "source": [
    "# Conteo de Edad incluyendo nulos\n",
    "df.Edad.value_counts(dropna=False)"
   ]
  },
  {
   "cell_type": "code",
   "execution_count": 38,
   "metadata": {},
   "outputs": [
    {
     "data": {
      "text/plain": [
       "30.0    34\n",
       "25.0    16\n",
       "Name: Edad, dtype: int64"
      ]
     },
     "execution_count": 38,
     "metadata": {},
     "output_type": "execute_result"
    }
   ],
   "source": [
    "# Conteo de edad tras imputar nulos por la moda\n",
    "moda_Edad = df.Edad.mode().values[0]\n",
    "\n",
    "df.Edad.fillna(value=moda_Edad).value_counts(dropna=False)"
   ]
  },
  {
   "cell_type": "markdown",
   "metadata": {},
   "source": [
    "**CUIDADO:**\n",
    "\n",
    "Si intentas reemplazar por un nuevo valor en una variable categórica que no está entre los valores originales tienes que hacer 2 pasos:\n",
    "\n",
    "1. Añadir la nueva categoría con .cat.add_categories()\n",
    "2. Reemplazar el valor\n",
    "\n",
    "Pandas no añade la nueva categoría directamente.\n",
    "\n",
    "Por ejemplo, si Edad fuera categórica, y supieras que sus nulos son de una edad que no está entre sus valores actuales, pongamos 92, y quieres imputar los nulos por 92 tendrías que hacer así:\n",
    "\n",
    "df.Edad.cat.add_categories('92',inplace=True)\n",
    "\n",
    "df.Edad.fillna(value = '92',inplace=True)"
   ]
  },
  {
   "cell_type": "markdown",
   "metadata": {},
   "source": [
    "## Eliminar Duplicados"
   ]
  },
  {
   "cell_type": "markdown",
   "metadata": {},
   "source": [
    "La función `drop_duplicates()` se utiliza para eliminar registros duplicados en un DataFrame. Aquí están los detalles clave:\n",
    "\n",
    "1. **subset:** Este parámetro te permite especificar las columnas en las que deseas buscar duplicados. Por defecto, considerará todas las columnas, pero puedes limitar la búsqueda a un subconjunto de columnas si es necesario.\n",
    "\n",
    "2. **keep:** Cuando se encuentran registros duplicados, este parámetro te permite especificar cuál de los registros duplicados deseas mantener. Por defecto, está configurado en 'first', lo que significa que mantendrá el primer registro encontrado y eliminará los duplicados subsiguientes. Puedes configurarlo en 'last' para mantener el último duplicado encontrado.\n",
    "\n",
    "3. **inplace:** Al igual que con otras funciones en Pandas, por defecto, `drop_duplicates()` no modifica el DataFrame original y devuelve un nuevo DataFrame sin los registros duplicados. Si deseas realizar la operación en su lugar y modificar el DataFrame original, puedes establecer este parámetro en True.\n",
    "\n",
    "En resumen, `drop_duplicates()` es útil cuando deseas eliminar registros duplicados en tu DataFrame. Puedes personalizar la búsqueda de duplicados en columnas específicas y decidir si deseas mantener el primer o último duplicado encontrado."
   ]
  },
  {
   "cell_type": "code",
   "execution_count": 39,
   "metadata": {},
   "outputs": [],
   "source": [
    "df = pd.read_excel('/Users/jimenacambronero/Desktop/Proyectos para Portfolio/PythonPracticas/Datos/Frutos_Secos_duplicados.xlsx', index_col='id')"
   ]
  },
  {
   "cell_type": "code",
   "execution_count": 40,
   "metadata": {},
   "outputs": [
    {
     "data": {
      "text/plain": [
       "(323, 6)"
      ]
     },
     "execution_count": 40,
     "metadata": {},
     "output_type": "execute_result"
    }
   ],
   "source": [
    "df.shape"
   ]
  },
  {
   "cell_type": "code",
   "execution_count": 41,
   "metadata": {},
   "outputs": [
    {
     "data": {
      "text/html": [
       "<div>\n",
       "<style scoped>\n",
       "    .dataframe tbody tr th:only-of-type {\n",
       "        vertical-align: middle;\n",
       "    }\n",
       "\n",
       "    .dataframe tbody tr th {\n",
       "        vertical-align: top;\n",
       "    }\n",
       "\n",
       "    .dataframe thead th {\n",
       "        text-align: right;\n",
       "    }\n",
       "</style>\n",
       "<table border=\"1\" class=\"dataframe\">\n",
       "  <thead>\n",
       "    <tr style=\"text-align: right;\">\n",
       "      <th></th>\n",
       "      <th>Nombre Cliente</th>\n",
       "      <th>Tipo Producto</th>\n",
       "      <th>Precio (€/kg)</th>\n",
       "      <th>Cantidad Vendida (kg)</th>\n",
       "      <th>Fecha Venta</th>\n",
       "      <th>Provincia Cliente</th>\n",
       "    </tr>\n",
       "    <tr>\n",
       "      <th>id</th>\n",
       "      <th></th>\n",
       "      <th></th>\n",
       "      <th></th>\n",
       "      <th></th>\n",
       "      <th></th>\n",
       "      <th></th>\n",
       "    </tr>\n",
       "  </thead>\n",
       "  <tbody>\n",
       "    <tr>\n",
       "      <th>389932</th>\n",
       "      <td>Mas y Mas</td>\n",
       "      <td>Almendras</td>\n",
       "      <td>4.54</td>\n",
       "      <td>1212</td>\n",
       "      <td>29/3/23</td>\n",
       "      <td>Cádiz</td>\n",
       "    </tr>\n",
       "    <tr>\n",
       "      <th>389933</th>\n",
       "      <td>Mercadona</td>\n",
       "      <td>Nueces</td>\n",
       "      <td>5.84</td>\n",
       "      <td>591</td>\n",
       "      <td>5/12/23</td>\n",
       "      <td>Sevilla</td>\n",
       "    </tr>\n",
       "    <tr>\n",
       "      <th>389934</th>\n",
       "      <td>Alcampo</td>\n",
       "      <td>Cacahuetes</td>\n",
       "      <td>2.69</td>\n",
       "      <td>2831</td>\n",
       "      <td>26/7/23</td>\n",
       "      <td>Madrid</td>\n",
       "    </tr>\n",
       "    <tr>\n",
       "      <th>389935</th>\n",
       "      <td>Mas y Mas</td>\n",
       "      <td>Pistachos</td>\n",
       "      <td>6.70</td>\n",
       "      <td>516</td>\n",
       "      <td>7/10/23</td>\n",
       "      <td>Alicante</td>\n",
       "    </tr>\n",
       "    <tr>\n",
       "      <th>389936</th>\n",
       "      <td>Lidl</td>\n",
       "      <td>Nueces</td>\n",
       "      <td>6.14</td>\n",
       "      <td>1283</td>\n",
       "      <td>12/5/23</td>\n",
       "      <td>Barcelona</td>\n",
       "    </tr>\n",
       "    <tr>\n",
       "      <th>...</th>\n",
       "      <td>...</td>\n",
       "      <td>...</td>\n",
       "      <td>...</td>\n",
       "      <td>...</td>\n",
       "      <td>...</td>\n",
       "      <td>...</td>\n",
       "    </tr>\n",
       "    <tr>\n",
       "      <th>390227</th>\n",
       "      <td>Caprabo</td>\n",
       "      <td>Nueces</td>\n",
       "      <td>9.75</td>\n",
       "      <td>2367</td>\n",
       "      <td>15/9/23</td>\n",
       "      <td>Sevilla</td>\n",
       "    </tr>\n",
       "    <tr>\n",
       "      <th>390228</th>\n",
       "      <td>Alcampo</td>\n",
       "      <td>Pistachos</td>\n",
       "      <td>3.82</td>\n",
       "      <td>1951</td>\n",
       "      <td>19/9/23</td>\n",
       "      <td>Madrid</td>\n",
       "    </tr>\n",
       "    <tr>\n",
       "      <th>390229</th>\n",
       "      <td>Mas y Mas</td>\n",
       "      <td>Pistachos</td>\n",
       "      <td>5.22</td>\n",
       "      <td>2811</td>\n",
       "      <td>4/5/23</td>\n",
       "      <td>Valencia</td>\n",
       "    </tr>\n",
       "    <tr>\n",
       "      <th>390230</th>\n",
       "      <td>Mas y Mas</td>\n",
       "      <td>Cacahuetes</td>\n",
       "      <td>8.07</td>\n",
       "      <td>473</td>\n",
       "      <td>18/1/23</td>\n",
       "      <td>Madrid</td>\n",
       "    </tr>\n",
       "    <tr>\n",
       "      <th>390231</th>\n",
       "      <td>Aldi</td>\n",
       "      <td>Nueces</td>\n",
       "      <td>5.80</td>\n",
       "      <td>1081</td>\n",
       "      <td>23/3/23</td>\n",
       "      <td>Sevilla</td>\n",
       "    </tr>\n",
       "  </tbody>\n",
       "</table>\n",
       "<p>300 rows × 6 columns</p>\n",
       "</div>"
      ],
      "text/plain": [
       "       Nombre Cliente Tipo Producto  Precio (€/kg)  Cantidad Vendida (kg)  \\\n",
       "id                                                                          \n",
       "389932      Mas y Mas     Almendras           4.54                   1212   \n",
       "389933      Mercadona        Nueces           5.84                    591   \n",
       "389934        Alcampo    Cacahuetes           2.69                   2831   \n",
       "389935      Mas y Mas     Pistachos           6.70                    516   \n",
       "389936           Lidl        Nueces           6.14                   1283   \n",
       "...               ...           ...            ...                    ...   \n",
       "390227        Caprabo        Nueces           9.75                   2367   \n",
       "390228        Alcampo     Pistachos           3.82                   1951   \n",
       "390229      Mas y Mas     Pistachos           5.22                   2811   \n",
       "390230      Mas y Mas    Cacahuetes           8.07                    473   \n",
       "390231           Aldi        Nueces           5.80                   1081   \n",
       "\n",
       "       Fecha Venta Provincia Cliente  \n",
       "id                                    \n",
       "389932     29/3/23             Cádiz  \n",
       "389933     5/12/23           Sevilla  \n",
       "389934     26/7/23            Madrid  \n",
       "389935     7/10/23          Alicante  \n",
       "389936     12/5/23         Barcelona  \n",
       "...            ...               ...  \n",
       "390227     15/9/23           Sevilla  \n",
       "390228     19/9/23            Madrid  \n",
       "390229      4/5/23          Valencia  \n",
       "390230     18/1/23            Madrid  \n",
       "390231     23/3/23           Sevilla  \n",
       "\n",
       "[300 rows x 6 columns]"
      ]
     },
     "execution_count": 41,
     "metadata": {},
     "output_type": "execute_result"
    }
   ],
   "source": [
    "df.drop_duplicates()"
   ]
  },
  {
   "cell_type": "markdown",
   "metadata": {},
   "source": [
    "## Renombrar Variables"
   ]
  },
  {
   "cell_type": "markdown",
   "metadata": {},
   "source": [
    "`rename()` es una función en la librería Pandas de Python que te permite cambiar los nombres de las columnas y del índice de un DataFrame. Puedes usarlo para darle nombres más descriptivos o para corregir errores en los nombres originales.\n",
    "\n",
    "- **Uso para cambiar nombres de columnas**:\n",
    "  - Por ejemplo, si tienes una columna llamada 'edad' y prefieres llamarla 'años', puedes hacerlo así:\n",
    "    ```python\n",
    "    df.rename(columns={'edad': 'años'}, inplace=True)\n",
    "    ```\n",
    "    Esto cambiará el nombre de la columna 'edad' a 'años' en el DataFrame `df`.\n",
    "\n",
    "- **Uso para cambiar nombres de índice**:\n",
    "  - Si quieres cambiar los nombres de las filas o índice, puedes hacerlo de manera similar:\n",
    "    ```python\n",
    "    df.rename(index={'viejo_indice': 'nuevo_indice'}, inplace=True)\n",
    "    ```\n",
    "    Esto reemplazará el nombre 'viejo_indice' por 'nuevo_indice' en el índice del DataFrame.\n",
    "\n",
    "- **El parámetro `inplace`**:\n",
    "  - Es un argumento opcional que, si se establece en `True`, hará que la modificación se realice directamente en el DataFrame sin necesidad de asignar el resultado a una nueva variable. Si se omite o se establece en `False` (que es el valor por defecto), tendrás que asignar el resultado a una nueva variable para ver el cambio.\n",
    "\n",
    "En resumen, `rename()` es una herramienta útil para cambiar nombres de columnas e índices en un DataFrame de Pandas. Puedes usarlo con un diccionario que mapea los nombres antiguos a los nuevos, y si deseas que los cambios se apliquen directamente al DataFrame original, puedes utilizar el parámetro `inplace=True`."
   ]
  },
  {
   "cell_type": "code",
   "execution_count": 42,
   "metadata": {},
   "outputs": [
    {
     "data": {
      "text/plain": [
       "Index(['Nombre Cliente', 'Tipo Producto', 'Precio (€/kg)',\n",
       "       'Cantidad Vendida (kg)', 'Fecha Venta', 'Provincia Cliente'],\n",
       "      dtype='object')"
      ]
     },
     "execution_count": 42,
     "metadata": {},
     "output_type": "execute_result"
    }
   ],
   "source": [
    "df.columns"
   ]
  },
  {
   "cell_type": "code",
   "execution_count": 43,
   "metadata": {},
   "outputs": [
    {
     "data": {
      "text/html": [
       "<div>\n",
       "<style scoped>\n",
       "    .dataframe tbody tr th:only-of-type {\n",
       "        vertical-align: middle;\n",
       "    }\n",
       "\n",
       "    .dataframe tbody tr th {\n",
       "        vertical-align: top;\n",
       "    }\n",
       "\n",
       "    .dataframe thead th {\n",
       "        text-align: right;\n",
       "    }\n",
       "</style>\n",
       "<table border=\"1\" class=\"dataframe\">\n",
       "  <thead>\n",
       "    <tr style=\"text-align: right;\">\n",
       "      <th></th>\n",
       "      <th>Cliente</th>\n",
       "      <th>Producto</th>\n",
       "      <th>Precio</th>\n",
       "      <th>Cantidad</th>\n",
       "      <th>Fecha</th>\n",
       "      <th>Provincia</th>\n",
       "    </tr>\n",
       "    <tr>\n",
       "      <th>id</th>\n",
       "      <th></th>\n",
       "      <th></th>\n",
       "      <th></th>\n",
       "      <th></th>\n",
       "      <th></th>\n",
       "      <th></th>\n",
       "    </tr>\n",
       "  </thead>\n",
       "  <tbody>\n",
       "    <tr>\n",
       "      <th>389932</th>\n",
       "      <td>Mas y Mas</td>\n",
       "      <td>Almendras</td>\n",
       "      <td>4.54</td>\n",
       "      <td>1212</td>\n",
       "      <td>29/3/23</td>\n",
       "      <td>Cádiz</td>\n",
       "    </tr>\n",
       "    <tr>\n",
       "      <th>389933</th>\n",
       "      <td>Mercadona</td>\n",
       "      <td>Nueces</td>\n",
       "      <td>5.84</td>\n",
       "      <td>591</td>\n",
       "      <td>5/12/23</td>\n",
       "      <td>Sevilla</td>\n",
       "    </tr>\n",
       "    <tr>\n",
       "      <th>389934</th>\n",
       "      <td>Alcampo</td>\n",
       "      <td>Cacahuetes</td>\n",
       "      <td>2.69</td>\n",
       "      <td>2831</td>\n",
       "      <td>26/7/23</td>\n",
       "      <td>Madrid</td>\n",
       "    </tr>\n",
       "    <tr>\n",
       "      <th>389935</th>\n",
       "      <td>Mas y Mas</td>\n",
       "      <td>Pistachos</td>\n",
       "      <td>6.70</td>\n",
       "      <td>516</td>\n",
       "      <td>7/10/23</td>\n",
       "      <td>Alicante</td>\n",
       "    </tr>\n",
       "    <tr>\n",
       "      <th>389936</th>\n",
       "      <td>Lidl</td>\n",
       "      <td>Nueces</td>\n",
       "      <td>6.14</td>\n",
       "      <td>1283</td>\n",
       "      <td>12/5/23</td>\n",
       "      <td>Barcelona</td>\n",
       "    </tr>\n",
       "    <tr>\n",
       "      <th>...</th>\n",
       "      <td>...</td>\n",
       "      <td>...</td>\n",
       "      <td>...</td>\n",
       "      <td>...</td>\n",
       "      <td>...</td>\n",
       "      <td>...</td>\n",
       "    </tr>\n",
       "    <tr>\n",
       "      <th>389955</th>\n",
       "      <td>Caprabo</td>\n",
       "      <td>Cacahuetes</td>\n",
       "      <td>6.24</td>\n",
       "      <td>1626</td>\n",
       "      <td>5/2/23</td>\n",
       "      <td>Valencia</td>\n",
       "    </tr>\n",
       "    <tr>\n",
       "      <th>389955</th>\n",
       "      <td>Caprabo</td>\n",
       "      <td>Cacahuetes</td>\n",
       "      <td>6.24</td>\n",
       "      <td>1626</td>\n",
       "      <td>5/2/23</td>\n",
       "      <td>Valencia</td>\n",
       "    </tr>\n",
       "    <tr>\n",
       "      <th>389955</th>\n",
       "      <td>Caprabo</td>\n",
       "      <td>Cacahuetes</td>\n",
       "      <td>6.24</td>\n",
       "      <td>1626</td>\n",
       "      <td>5/2/23</td>\n",
       "      <td>Valencia</td>\n",
       "    </tr>\n",
       "    <tr>\n",
       "      <th>389955</th>\n",
       "      <td>Caprabo</td>\n",
       "      <td>Cacahuetes</td>\n",
       "      <td>6.24</td>\n",
       "      <td>1626</td>\n",
       "      <td>5/2/23</td>\n",
       "      <td>Valencia</td>\n",
       "    </tr>\n",
       "    <tr>\n",
       "      <th>389955</th>\n",
       "      <td>Caprabo</td>\n",
       "      <td>Cacahuetes</td>\n",
       "      <td>6.24</td>\n",
       "      <td>1626</td>\n",
       "      <td>5/2/23</td>\n",
       "      <td>Valencia</td>\n",
       "    </tr>\n",
       "  </tbody>\n",
       "</table>\n",
       "<p>323 rows × 6 columns</p>\n",
       "</div>"
      ],
      "text/plain": [
       "          Cliente    Producto  Precio  Cantidad    Fecha  Provincia\n",
       "id                                                                 \n",
       "389932  Mas y Mas   Almendras    4.54      1212  29/3/23      Cádiz\n",
       "389933  Mercadona      Nueces    5.84       591  5/12/23    Sevilla\n",
       "389934    Alcampo  Cacahuetes    2.69      2831  26/7/23     Madrid\n",
       "389935  Mas y Mas   Pistachos    6.70       516  7/10/23   Alicante\n",
       "389936       Lidl      Nueces    6.14      1283  12/5/23  Barcelona\n",
       "...           ...         ...     ...       ...      ...        ...\n",
       "389955    Caprabo  Cacahuetes    6.24      1626   5/2/23   Valencia\n",
       "389955    Caprabo  Cacahuetes    6.24      1626   5/2/23   Valencia\n",
       "389955    Caprabo  Cacahuetes    6.24      1626   5/2/23   Valencia\n",
       "389955    Caprabo  Cacahuetes    6.24      1626   5/2/23   Valencia\n",
       "389955    Caprabo  Cacahuetes    6.24      1626   5/2/23   Valencia\n",
       "\n",
       "[323 rows x 6 columns]"
      ]
     },
     "execution_count": 43,
     "metadata": {},
     "output_type": "execute_result"
    }
   ],
   "source": [
    "df.rename(columns= { \n",
    "    'Nombre Cliente': 'Cliente',\n",
    "    'Tipo Producto': 'Producto',\n",
    "    'Precio (€/kg)': 'Precio',\n",
    "    'Cantidad Vendida (kg)': 'Cantidad',\n",
    "    'Fecha Venta': 'Fecha',\n",
    "    'Provincia Cliente': 'Provincia'})"
   ]
  },
  {
   "cell_type": "code",
   "execution_count": 44,
   "metadata": {},
   "outputs": [
    {
     "data": {
      "text/html": [
       "<div>\n",
       "<style scoped>\n",
       "    .dataframe tbody tr th:only-of-type {\n",
       "        vertical-align: middle;\n",
       "    }\n",
       "\n",
       "    .dataframe tbody tr th {\n",
       "        vertical-align: top;\n",
       "    }\n",
       "\n",
       "    .dataframe thead th {\n",
       "        text-align: right;\n",
       "    }\n",
       "</style>\n",
       "<table border=\"1\" class=\"dataframe\">\n",
       "  <thead>\n",
       "    <tr style=\"text-align: right;\">\n",
       "      <th></th>\n",
       "      <th>Nombre Cliente</th>\n",
       "      <th>Tipo Producto</th>\n",
       "      <th>Precio (€/kg)</th>\n",
       "      <th>Cantidad Vendida (kg)</th>\n",
       "      <th>Fecha Venta</th>\n",
       "      <th>Provincia Cliente</th>\n",
       "    </tr>\n",
       "    <tr>\n",
       "      <th>id</th>\n",
       "      <th></th>\n",
       "      <th></th>\n",
       "      <th></th>\n",
       "      <th></th>\n",
       "      <th></th>\n",
       "      <th></th>\n",
       "    </tr>\n",
       "  </thead>\n",
       "  <tbody>\n",
       "    <tr>\n",
       "      <th>389932</th>\n",
       "      <td>Mas y Mas</td>\n",
       "      <td>Almendras</td>\n",
       "      <td>4.54</td>\n",
       "      <td>1212</td>\n",
       "      <td>29/3/23</td>\n",
       "      <td>Cádiz</td>\n",
       "    </tr>\n",
       "    <tr>\n",
       "      <th>389933</th>\n",
       "      <td>Mercadona</td>\n",
       "      <td>Nueces</td>\n",
       "      <td>5.84</td>\n",
       "      <td>591</td>\n",
       "      <td>5/12/23</td>\n",
       "      <td>Sevilla</td>\n",
       "    </tr>\n",
       "  </tbody>\n",
       "</table>\n",
       "</div>"
      ],
      "text/plain": [
       "       Nombre Cliente Tipo Producto  Precio (€/kg)  Cantidad Vendida (kg)  \\\n",
       "id                                                                          \n",
       "389932      Mas y Mas     Almendras           4.54                   1212   \n",
       "389933      Mercadona        Nueces           5.84                    591   \n",
       "\n",
       "       Fecha Venta Provincia Cliente  \n",
       "id                                    \n",
       "389932     29/3/23             Cádiz  \n",
       "389933     5/12/23           Sevilla  "
      ]
     },
     "execution_count": 44,
     "metadata": {},
     "output_type": "execute_result"
    }
   ],
   "source": [
    "# Sin inplace no te cambia nada, recorda agregar inplace si quiero que cambie\n",
    "df.head(2)"
   ]
  },
  {
   "cell_type": "markdown",
   "metadata": {},
   "source": [
    "Hay una forma más fácil de limpiar los nombres de las variables en un conjunto de datos.\n",
    "\n",
    "A veces, los nombres de las variables pueden tener acentos, espacios o caracteres especiales, lo cual puede complicar el trabajo con los datos. También, es una buena práctica poner todos los nombres en minúsculas para mantener la consistencia.\n",
    "\n",
    "Para hacer esto de manera rápida y sencilla, existe una herramienta llamada Pyjanitor. Es como una especie de \"asistente\" que te ayuda a limpiar los nombres de las variables en un DataFrame.\n",
    "\n",
    "Aquí hay un resumen de cómo hacerlo:\n",
    "\n",
    "1. **Instalación de Pyjanitor**:\n",
    "   - Puedes instalar Pyjanitor en tu entorno de Python utilizando el comando `conda install pyjanitor -c conda-forge`.\n",
    "\n",
    "2. **Importar la función**:\n",
    "   - Una vez instalado, puedes importar la función que te permitirá limpiar los nombres de las variables. La función se llama `clean_names`.\n",
    "\n",
    "   ```python\n",
    "   from janitor import clean_names\n",
    "   ```\n",
    "\n",
    "3. **Cómo usarlo**:\n",
    "   - Una vez que has importado la función, puedes aplicarla a tu DataFrame. Por ejemplo:\n",
    "\n",
    "   ```python\n",
    "   df_clean = clean_names(df)\n",
    "   ```\n",
    "\n",
    "   Esto tomará el DataFrame `df` y limpiará los nombres de las variables, eliminando acentos, caracteres especiales y espacios en blanco, además de poner todo en minúsculas. El resultado se guardará en `df_clean`.\n",
    "\n",
    "En resumen, Pyjanitor es una herramienta muy útil que te ayuda a limpiar y estandarizar los nombres de las variables en tus conjuntos de datos de una manera rápida y sencilla. Esto facilita mucho el trabajo con los datos y la realización de análisis.\n",
    "\n",
    "      pip install pyjanitor "
   ]
  },
  {
   "cell_type": "code",
   "execution_count": 45,
   "metadata": {},
   "outputs": [
    {
     "data": {
      "text/html": [
       "<div>\n",
       "<style scoped>\n",
       "    .dataframe tbody tr th:only-of-type {\n",
       "        vertical-align: middle;\n",
       "    }\n",
       "\n",
       "    .dataframe tbody tr th {\n",
       "        vertical-align: top;\n",
       "    }\n",
       "\n",
       "    .dataframe thead th {\n",
       "        text-align: right;\n",
       "    }\n",
       "</style>\n",
       "<table border=\"1\" class=\"dataframe\">\n",
       "  <thead>\n",
       "    <tr style=\"text-align: right;\">\n",
       "      <th></th>\n",
       "      <th>Columna Espacio</th>\n",
       "      <th>NoMbEs-CoN-MaYUs</th>\n",
       "      <th>Ácéntós</th>\n",
       "    </tr>\n",
       "  </thead>\n",
       "  <tbody>\n",
       "    <tr>\n",
       "      <th>0</th>\n",
       "      <td>100</td>\n",
       "      <td>a</td>\n",
       "      <td>Enero</td>\n",
       "    </tr>\n",
       "    <tr>\n",
       "      <th>1</th>\n",
       "      <td>101</td>\n",
       "      <td>a</td>\n",
       "      <td>Febrero</td>\n",
       "    </tr>\n",
       "    <tr>\n",
       "      <th>2</th>\n",
       "      <td>102</td>\n",
       "      <td>a</td>\n",
       "      <td>Marzo</td>\n",
       "    </tr>\n",
       "    <tr>\n",
       "      <th>3</th>\n",
       "      <td>103</td>\n",
       "      <td>a</td>\n",
       "      <td>Abril</td>\n",
       "    </tr>\n",
       "    <tr>\n",
       "      <th>4</th>\n",
       "      <td>104</td>\n",
       "      <td>a</td>\n",
       "      <td>Mayo</td>\n",
       "    </tr>\n",
       "    <tr>\n",
       "      <th>5</th>\n",
       "      <td>105</td>\n",
       "      <td>a</td>\n",
       "      <td>Junio</td>\n",
       "    </tr>\n",
       "    <tr>\n",
       "      <th>6</th>\n",
       "      <td>106</td>\n",
       "      <td>a</td>\n",
       "      <td>Julio</td>\n",
       "    </tr>\n",
       "  </tbody>\n",
       "</table>\n",
       "</div>"
      ],
      "text/plain": [
       "   Columna Espacio NoMbEs-CoN-MaYUs  Ácéntós\n",
       "0              100                a    Enero\n",
       "1              101                a  Febrero\n",
       "2              102                a    Marzo\n",
       "3              103                a    Abril\n",
       "4              104                a     Mayo\n",
       "5              105                a    Junio\n",
       "6              106                a    Julio"
      ]
     },
     "execution_count": 45,
     "metadata": {},
     "output_type": "execute_result"
    }
   ],
   "source": [
    "df = pd.read_csv('/Users/jimenacambronero/Desktop/Proyectos para Portfolio/PythonPracticas/Datos/ejemplo_janitor.csv', sep= ';' )\n",
    "\n",
    "df"
   ]
  },
  {
   "cell_type": "code",
   "execution_count": 46,
   "metadata": {},
   "outputs": [
    {
     "data": {
      "text/plain": [
       "Index(['Columna Espacio', 'NoMbEs-CoN-MaYUs', 'Ácéntós'], dtype='object')"
      ]
     },
     "execution_count": 46,
     "metadata": {},
     "output_type": "execute_result"
    }
   ],
   "source": [
    "df.columns"
   ]
  },
  {
   "cell_type": "code",
   "execution_count": 47,
   "metadata": {},
   "outputs": [
    {
     "data": {
      "text/html": [
       "<div>\n",
       "<style scoped>\n",
       "    .dataframe tbody tr th:only-of-type {\n",
       "        vertical-align: middle;\n",
       "    }\n",
       "\n",
       "    .dataframe tbody tr th {\n",
       "        vertical-align: top;\n",
       "    }\n",
       "\n",
       "    .dataframe thead th {\n",
       "        text-align: right;\n",
       "    }\n",
       "</style>\n",
       "<table border=\"1\" class=\"dataframe\">\n",
       "  <thead>\n",
       "    <tr style=\"text-align: right;\">\n",
       "      <th></th>\n",
       "      <th>columna_espacio</th>\n",
       "      <th>nombes_con_mayus</th>\n",
       "      <th>acentos</th>\n",
       "    </tr>\n",
       "  </thead>\n",
       "  <tbody>\n",
       "    <tr>\n",
       "      <th>0</th>\n",
       "      <td>100</td>\n",
       "      <td>a</td>\n",
       "      <td>Enero</td>\n",
       "    </tr>\n",
       "    <tr>\n",
       "      <th>1</th>\n",
       "      <td>101</td>\n",
       "      <td>a</td>\n",
       "      <td>Febrero</td>\n",
       "    </tr>\n",
       "    <tr>\n",
       "      <th>2</th>\n",
       "      <td>102</td>\n",
       "      <td>a</td>\n",
       "      <td>Marzo</td>\n",
       "    </tr>\n",
       "    <tr>\n",
       "      <th>3</th>\n",
       "      <td>103</td>\n",
       "      <td>a</td>\n",
       "      <td>Abril</td>\n",
       "    </tr>\n",
       "    <tr>\n",
       "      <th>4</th>\n",
       "      <td>104</td>\n",
       "      <td>a</td>\n",
       "      <td>Mayo</td>\n",
       "    </tr>\n",
       "    <tr>\n",
       "      <th>5</th>\n",
       "      <td>105</td>\n",
       "      <td>a</td>\n",
       "      <td>Junio</td>\n",
       "    </tr>\n",
       "    <tr>\n",
       "      <th>6</th>\n",
       "      <td>106</td>\n",
       "      <td>a</td>\n",
       "      <td>Julio</td>\n",
       "    </tr>\n",
       "  </tbody>\n",
       "</table>\n",
       "</div>"
      ],
      "text/plain": [
       "   columna_espacio nombes_con_mayus  acentos\n",
       "0              100                a    Enero\n",
       "1              101                a  Febrero\n",
       "2              102                a    Marzo\n",
       "3              103                a    Abril\n",
       "4              104                a     Mayo\n",
       "5              105                a    Junio\n",
       "6              106                a    Julio"
      ]
     },
     "execution_count": 47,
     "metadata": {},
     "output_type": "execute_result"
    }
   ],
   "source": [
    "from janitor import clean_names\n",
    "df_cleaned = clean_names(df)\n",
    "df_cleaned"
   ]
  },
  {
   "cell_type": "markdown",
   "metadata": {},
   "source": [
    "## Reemplazar Valores"
   ]
  },
  {
   "cell_type": "markdown",
   "metadata": {},
   "source": [
    "La función `replace()` en Pandas es utilizada para reemplazar la presencia de un valor con otro en una Serie o en todo un DataFrame. Aquí hay una explicación sencilla:\n",
    "\n",
    "- **to_replace**: Este es el valor que deseas reemplazar en tus datos. Puede ser un número, una cadena de texto u otros tipos de datos. También puedes usar cosas más avanzadas como diccionarios o expresiones regulares para identificar lo que quieres reemplazar.\n",
    "\n",
    "- **value**: Este es el nuevo valor que deseas colocar en lugar del valor antiguo.\n",
    "\n",
    "- **inplace**: Es un parámetro opcional. Si se establece en `True`, realizará el reemplazo directamente en el DataFrame o Serie original sin necesidad de asignar el resultado a una nueva variable. Por defecto, es `False`, lo que significa que necesitas asignar el resultado a una nueva variable o usarlo en una operación posterior.\n",
    "\n",
    "**Ejemplo sencillo:**\n",
    "\n",
    "Supongamos que tienes una Serie llamada `edades` y quieres reemplazar todas las instancias del valor 30 con 35:\n",
    "\n",
    "```python\n",
    "edades.replace(to_replace=30, value=35, inplace=True)\n",
    "```\n",
    "\n",
    "En este ejemplo, la función `replace()` buscará en la Serie `edades` el valor 30 y lo reemplazará por 35. El parámetro `inplace=True` asegura que el cambio se realice directamente en la Serie original.\n",
    "\n",
    "Esta función es útil cuando necesitas corregir o modificar datos en tu conjunto de datos para que se ajusten mejor a tus necesidades de análisis o visualización."
   ]
  },
  {
   "cell_type": "code",
   "execution_count": 48,
   "metadata": {},
   "outputs": [
    {
     "data": {
      "text/html": [
       "<div>\n",
       "<style scoped>\n",
       "    .dataframe tbody tr th:only-of-type {\n",
       "        vertical-align: middle;\n",
       "    }\n",
       "\n",
       "    .dataframe tbody tr th {\n",
       "        vertical-align: top;\n",
       "    }\n",
       "\n",
       "    .dataframe thead th {\n",
       "        text-align: right;\n",
       "    }\n",
       "</style>\n",
       "<table border=\"1\" class=\"dataframe\">\n",
       "  <thead>\n",
       "    <tr style=\"text-align: right;\">\n",
       "      <th></th>\n",
       "      <th>Nombre Cliente</th>\n",
       "      <th>Tipo Producto</th>\n",
       "      <th>Precio (€/kg)</th>\n",
       "      <th>Cantidad Vendida (kg)</th>\n",
       "      <th>Fecha Venta</th>\n",
       "      <th>Provincia Cliente</th>\n",
       "      <th>id</th>\n",
       "    </tr>\n",
       "  </thead>\n",
       "  <tbody>\n",
       "    <tr>\n",
       "      <th>0</th>\n",
       "      <td>Mas y Mas</td>\n",
       "      <td>Almendras</td>\n",
       "      <td>4.54</td>\n",
       "      <td>1212</td>\n",
       "      <td>29/3/23</td>\n",
       "      <td>Cádiz</td>\n",
       "      <td>389932</td>\n",
       "    </tr>\n",
       "    <tr>\n",
       "      <th>1</th>\n",
       "      <td>Mercadona</td>\n",
       "      <td>Nueces</td>\n",
       "      <td>5.84</td>\n",
       "      <td>591</td>\n",
       "      <td>5/12/23</td>\n",
       "      <td>Sevilla</td>\n",
       "      <td>389933</td>\n",
       "    </tr>\n",
       "    <tr>\n",
       "      <th>2</th>\n",
       "      <td>Alcampo</td>\n",
       "      <td>Cacahuetes</td>\n",
       "      <td>2.69</td>\n",
       "      <td>2831</td>\n",
       "      <td>26/7/23</td>\n",
       "      <td>Madrid</td>\n",
       "      <td>389934</td>\n",
       "    </tr>\n",
       "    <tr>\n",
       "      <th>3</th>\n",
       "      <td>Mas y Mas</td>\n",
       "      <td>Pistachos</td>\n",
       "      <td>6.70</td>\n",
       "      <td>516</td>\n",
       "      <td>7/10/23</td>\n",
       "      <td>Alicante</td>\n",
       "      <td>389935</td>\n",
       "    </tr>\n",
       "    <tr>\n",
       "      <th>4</th>\n",
       "      <td>Lidl</td>\n",
       "      <td>Nueces</td>\n",
       "      <td>6.14</td>\n",
       "      <td>1283</td>\n",
       "      <td>12/5/23</td>\n",
       "      <td>Barcelona</td>\n",
       "      <td>389936</td>\n",
       "    </tr>\n",
       "  </tbody>\n",
       "</table>\n",
       "</div>"
      ],
      "text/plain": [
       "  Nombre Cliente Tipo Producto  Precio (€/kg)  Cantidad Vendida (kg)  \\\n",
       "0      Mas y Mas     Almendras           4.54                   1212   \n",
       "1      Mercadona        Nueces           5.84                    591   \n",
       "2        Alcampo    Cacahuetes           2.69                   2831   \n",
       "3      Mas y Mas     Pistachos           6.70                    516   \n",
       "4           Lidl        Nueces           6.14                   1283   \n",
       "\n",
       "  Fecha Venta Provincia Cliente      id  \n",
       "0     29/3/23             Cádiz  389932  \n",
       "1     5/12/23           Sevilla  389933  \n",
       "2     26/7/23            Madrid  389934  \n",
       "3     7/10/23          Alicante  389935  \n",
       "4     12/5/23         Barcelona  389936  "
      ]
     },
     "execution_count": 48,
     "metadata": {},
     "output_type": "execute_result"
    }
   ],
   "source": [
    "df = pd.read_excel('/Users/jimenacambronero/Desktop/Proyectos para Portfolio/PythonPracticas/Datos/Frutos_Secos.xlsx')\n",
    "df.head(5)"
   ]
  },
  {
   "cell_type": "code",
   "execution_count": 49,
   "metadata": {},
   "outputs": [],
   "source": [
    "df.rename(columns= { \n",
    "    'Nombre Cliente': 'Cliente',\n",
    "    'Tipo Producto': 'Producto',\n",
    "    'Precio (€/kg)': 'Precio',\n",
    "    'Cantidad Vendida (kg)': 'Cantidad',\n",
    "    'Fecha Venta': 'Fecha',\n",
    "    'Provincia Cliente': 'Provincia'}, inplace=True)"
   ]
  },
  {
   "cell_type": "code",
   "execution_count": 50,
   "metadata": {},
   "outputs": [
    {
     "data": {
      "text/plain": [
       "0        MasyMas\n",
       "1      Mercadona\n",
       "2        Alcampo\n",
       "3        MasyMas\n",
       "4           Lidl\n",
       "         ...    \n",
       "295      Caprabo\n",
       "296      Alcampo\n",
       "297      MasyMas\n",
       "298      MasyMas\n",
       "299         Aldi\n",
       "Name: Cliente, Length: 300, dtype: object"
      ]
     },
     "execution_count": 50,
     "metadata": {},
     "output_type": "execute_result"
    }
   ],
   "source": [
    "df.Cliente.replace('Mas y Mas', 'MasyMas')"
   ]
  },
  {
   "cell_type": "code",
   "execution_count": 51,
   "metadata": {},
   "outputs": [
    {
     "data": {
      "text/html": [
       "<div>\n",
       "<style scoped>\n",
       "    .dataframe tbody tr th:only-of-type {\n",
       "        vertical-align: middle;\n",
       "    }\n",
       "\n",
       "    .dataframe tbody tr th {\n",
       "        vertical-align: top;\n",
       "    }\n",
       "\n",
       "    .dataframe thead th {\n",
       "        text-align: right;\n",
       "    }\n",
       "</style>\n",
       "<table border=\"1\" class=\"dataframe\">\n",
       "  <thead>\n",
       "    <tr style=\"text-align: right;\">\n",
       "      <th></th>\n",
       "      <th>Cliente</th>\n",
       "      <th>Producto</th>\n",
       "      <th>Precio</th>\n",
       "      <th>Cantidad</th>\n",
       "      <th>Fecha</th>\n",
       "      <th>Provincia</th>\n",
       "      <th>id</th>\n",
       "    </tr>\n",
       "  </thead>\n",
       "  <tbody>\n",
       "    <tr>\n",
       "      <th>0</th>\n",
       "      <td>Mas y Mas</td>\n",
       "      <td>Almendras</td>\n",
       "      <td>4.54</td>\n",
       "      <td>1212</td>\n",
       "      <td>29/3/23</td>\n",
       "      <td>Cádiz</td>\n",
       "      <td>389932</td>\n",
       "    </tr>\n",
       "    <tr>\n",
       "      <th>1</th>\n",
       "      <td>Mercadona</td>\n",
       "      <td>Nueces</td>\n",
       "      <td>5.84</td>\n",
       "      <td>591</td>\n",
       "      <td>5/12/23</td>\n",
       "      <td>Sevilla</td>\n",
       "      <td>389933</td>\n",
       "    </tr>\n",
       "    <tr>\n",
       "      <th>2</th>\n",
       "      <td>Alcampo</td>\n",
       "      <td>Cacahuetes</td>\n",
       "      <td>2.69</td>\n",
       "      <td>2831</td>\n",
       "      <td>26/7/23</td>\n",
       "      <td>Madrid</td>\n",
       "      <td>389934</td>\n",
       "    </tr>\n",
       "    <tr>\n",
       "      <th>3</th>\n",
       "      <td>Mas y Mas</td>\n",
       "      <td>Pistachos</td>\n",
       "      <td>6.70</td>\n",
       "      <td>516</td>\n",
       "      <td>7/10/23</td>\n",
       "      <td>Alicante</td>\n",
       "      <td>389935</td>\n",
       "    </tr>\n",
       "    <tr>\n",
       "      <th>4</th>\n",
       "      <td>Lidl</td>\n",
       "      <td>Nueces</td>\n",
       "      <td>6.14</td>\n",
       "      <td>1283</td>\n",
       "      <td>12/5/23</td>\n",
       "      <td>Barcelona</td>\n",
       "      <td>389936</td>\n",
       "    </tr>\n",
       "  </tbody>\n",
       "</table>\n",
       "</div>"
      ],
      "text/plain": [
       "     Cliente    Producto  Precio  Cantidad    Fecha  Provincia      id\n",
       "0  Mas y Mas   Almendras    4.54      1212  29/3/23      Cádiz  389932\n",
       "1  Mercadona      Nueces    5.84       591  5/12/23    Sevilla  389933\n",
       "2    Alcampo  Cacahuetes    2.69      2831  26/7/23     Madrid  389934\n",
       "3  Mas y Mas   Pistachos    6.70       516  7/10/23   Alicante  389935\n",
       "4       Lidl      Nueces    6.14      1283  12/5/23  Barcelona  389936"
      ]
     },
     "execution_count": 51,
     "metadata": {},
     "output_type": "execute_result"
    }
   ],
   "source": [
    "# Recordar que sin inplace no lo cambia\n",
    "df.head(5)"
   ]
  },
  {
   "cell_type": "code",
   "execution_count": 52,
   "metadata": {},
   "outputs": [
    {
     "data": {
      "text/html": [
       "<div>\n",
       "<style scoped>\n",
       "    .dataframe tbody tr th:only-of-type {\n",
       "        vertical-align: middle;\n",
       "    }\n",
       "\n",
       "    .dataframe tbody tr th {\n",
       "        vertical-align: top;\n",
       "    }\n",
       "\n",
       "    .dataframe thead th {\n",
       "        text-align: right;\n",
       "    }\n",
       "</style>\n",
       "<table border=\"1\" class=\"dataframe\">\n",
       "  <thead>\n",
       "    <tr style=\"text-align: right;\">\n",
       "      <th></th>\n",
       "      <th>Cliente</th>\n",
       "      <th>Producto</th>\n",
       "      <th>Precio</th>\n",
       "      <th>Cantidad</th>\n",
       "      <th>Fecha</th>\n",
       "      <th>Provincia</th>\n",
       "      <th>id</th>\n",
       "    </tr>\n",
       "  </thead>\n",
       "  <tbody>\n",
       "    <tr>\n",
       "      <th>0</th>\n",
       "      <td>MasyMas</td>\n",
       "      <td>Almendras</td>\n",
       "      <td>4.54</td>\n",
       "      <td>1212</td>\n",
       "      <td>29/3/23</td>\n",
       "      <td>Cádiz</td>\n",
       "      <td>389932</td>\n",
       "    </tr>\n",
       "    <tr>\n",
       "      <th>1</th>\n",
       "      <td>Merca</td>\n",
       "      <td>Nueces</td>\n",
       "      <td>5.84</td>\n",
       "      <td>591</td>\n",
       "      <td>5/12/23</td>\n",
       "      <td>Sevilla</td>\n",
       "      <td>389933</td>\n",
       "    </tr>\n",
       "    <tr>\n",
       "      <th>2</th>\n",
       "      <td>Alcampo</td>\n",
       "      <td>Cacahuetes</td>\n",
       "      <td>2.69</td>\n",
       "      <td>2831</td>\n",
       "      <td>26/7/23</td>\n",
       "      <td>Madrid</td>\n",
       "      <td>389934</td>\n",
       "    </tr>\n",
       "    <tr>\n",
       "      <th>3</th>\n",
       "      <td>MasyMas</td>\n",
       "      <td>Pistachos</td>\n",
       "      <td>6.70</td>\n",
       "      <td>516</td>\n",
       "      <td>7/10/23</td>\n",
       "      <td>Alicante</td>\n",
       "      <td>389935</td>\n",
       "    </tr>\n",
       "    <tr>\n",
       "      <th>4</th>\n",
       "      <td>Lidl</td>\n",
       "      <td>Nueces</td>\n",
       "      <td>6.14</td>\n",
       "      <td>1283</td>\n",
       "      <td>12/5/23</td>\n",
       "      <td>Barcelona</td>\n",
       "      <td>389936</td>\n",
       "    </tr>\n",
       "    <tr>\n",
       "      <th>...</th>\n",
       "      <td>...</td>\n",
       "      <td>...</td>\n",
       "      <td>...</td>\n",
       "      <td>...</td>\n",
       "      <td>...</td>\n",
       "      <td>...</td>\n",
       "      <td>...</td>\n",
       "    </tr>\n",
       "    <tr>\n",
       "      <th>295</th>\n",
       "      <td>Caprabo</td>\n",
       "      <td>Nueces</td>\n",
       "      <td>9.75</td>\n",
       "      <td>2367</td>\n",
       "      <td>15/9/23</td>\n",
       "      <td>Sevilla</td>\n",
       "      <td>390227</td>\n",
       "    </tr>\n",
       "    <tr>\n",
       "      <th>296</th>\n",
       "      <td>Alcampo</td>\n",
       "      <td>Pistachos</td>\n",
       "      <td>3.82</td>\n",
       "      <td>1951</td>\n",
       "      <td>19/9/23</td>\n",
       "      <td>Madrid</td>\n",
       "      <td>390228</td>\n",
       "    </tr>\n",
       "    <tr>\n",
       "      <th>297</th>\n",
       "      <td>MasyMas</td>\n",
       "      <td>Pistachos</td>\n",
       "      <td>5.22</td>\n",
       "      <td>2811</td>\n",
       "      <td>4/5/23</td>\n",
       "      <td>Valencia</td>\n",
       "      <td>390229</td>\n",
       "    </tr>\n",
       "    <tr>\n",
       "      <th>298</th>\n",
       "      <td>MasyMas</td>\n",
       "      <td>Cacahuetes</td>\n",
       "      <td>8.07</td>\n",
       "      <td>473</td>\n",
       "      <td>18/1/23</td>\n",
       "      <td>Madrid</td>\n",
       "      <td>390230</td>\n",
       "    </tr>\n",
       "    <tr>\n",
       "      <th>299</th>\n",
       "      <td>Aldi</td>\n",
       "      <td>Nueces</td>\n",
       "      <td>5.80</td>\n",
       "      <td>1081</td>\n",
       "      <td>23/3/23</td>\n",
       "      <td>Sevilla</td>\n",
       "      <td>390231</td>\n",
       "    </tr>\n",
       "  </tbody>\n",
       "</table>\n",
       "<p>300 rows × 7 columns</p>\n",
       "</div>"
      ],
      "text/plain": [
       "     Cliente    Producto  Precio  Cantidad    Fecha  Provincia      id\n",
       "0    MasyMas   Almendras    4.54      1212  29/3/23      Cádiz  389932\n",
       "1      Merca      Nueces    5.84       591  5/12/23    Sevilla  389933\n",
       "2    Alcampo  Cacahuetes    2.69      2831  26/7/23     Madrid  389934\n",
       "3    MasyMas   Pistachos    6.70       516  7/10/23   Alicante  389935\n",
       "4       Lidl      Nueces    6.14      1283  12/5/23  Barcelona  389936\n",
       "..       ...         ...     ...       ...      ...        ...     ...\n",
       "295  Caprabo      Nueces    9.75      2367  15/9/23    Sevilla  390227\n",
       "296  Alcampo   Pistachos    3.82      1951  19/9/23     Madrid  390228\n",
       "297  MasyMas   Pistachos    5.22      2811   4/5/23   Valencia  390229\n",
       "298  MasyMas  Cacahuetes    8.07       473  18/1/23     Madrid  390230\n",
       "299     Aldi      Nueces    5.80      1081  23/3/23    Sevilla  390231\n",
       "\n",
       "[300 rows x 7 columns]"
      ]
     },
     "execution_count": 52,
     "metadata": {},
     "output_type": "execute_result"
    }
   ],
   "source": [
    "valores = {'Mas y Mas': 'MasyMas', 'Mercadona': 'Merca'}\n",
    "df.replace(valores)"
   ]
  },
  {
   "cell_type": "markdown",
   "metadata": {},
   "source": [
    "## Recodificar Valores"
   ]
  },
  {
   "cell_type": "markdown",
   "metadata": {},
   "source": [
    "La función `map()` en Pandas te permite recodificar valores de una Serie según un diccionario o una función. Es muy útil cuando necesitas cambiar ciertos valores en una Serie de manera específica. Aquí te explico de manera sencilla:\n",
    "\n",
    "- **Diccionario de recodificación**: Puedes proporcionar un diccionario que mapee los valores antiguos a los nuevos. Por ejemplo:\n",
    "\n",
    "  ```python\n",
    "  diccionario = {'viejo_valor': 'nuevo_valor', 'otro_viejo_valor': 'otro_nuevo_valor'}\n",
    "  nueva_serie = serie_original.map(diccionario)\n",
    "  ```\n",
    "\n",
    "  Esto tomará la Serie original y reemplazará los valores de acuerdo al diccionario proporcionado.\n",
    "\n",
    "- **Función de recodificación**: También puedes utilizar una función para realizar la recodificación. La función debe aceptar un valor y devolver el nuevo valor. Por ejemplo:\n",
    "\n",
    "  ```python\n",
    "  def recodificar(valor):\n",
    "      if valor == 'A':\n",
    "          return 'X'\n",
    "      elif valor == 'B':\n",
    "          return 'Y'\n",
    "      else:\n",
    "          return 'Z'\n",
    "\n",
    "  nueva_serie = serie_original.map(recodificar)\n",
    "  ```\n",
    "\n",
    "  Esta función `recodificar()` toma un valor como entrada y devuelve un nuevo valor según las condiciones definidas.\n",
    "\n",
    "- **`na_action`**: Es un parámetro opcional. Si lo estableces en `'ignore'`, la función no aplicará la transformación sobre los valores nulos y los dejará como están.\n",
    "\n",
    "**Ejemplo sencillo**:\n",
    "\n",
    "Supongamos que tienes una Serie `calificaciones` con valores 'A', 'B' y 'C', y deseas cambiarlos a 'Excelente', 'Bueno' y 'Regular' respectivamente:\n",
    "\n",
    "```python\n",
    "diccionario = {'A': 'Excelente', 'B': 'Bueno', 'C': 'Regular'}\n",
    "nueva_serie = calificaciones.map(diccionario)\n",
    "```\n",
    "\n",
    "Esta operación creará una nueva Serie llamada `nueva_serie` en la que los valores se han recodificado según el diccionario proporcionado.\n",
    "\n",
    "En resumen, `map()` es una herramienta flexible que te permite recodificar valores en una Serie de manera muy específica, ya sea utilizando un diccionario o una función personalizada."
   ]
  },
  {
   "cell_type": "code",
   "execution_count": 53,
   "metadata": {},
   "outputs": [
    {
     "data": {
      "text/plain": [
       "Cacahuetes    100\n",
       "Almendras      69\n",
       "Pistachos      66\n",
       "Nueces         65\n",
       "Name: Producto, dtype: int64"
      ]
     },
     "execution_count": 53,
     "metadata": {},
     "output_type": "execute_result"
    }
   ],
   "source": [
    "# Valores Originales de Productos\n",
    "df.Producto.value_counts(dropna=False)"
   ]
  },
  {
   "cell_type": "code",
   "execution_count": 55,
   "metadata": {},
   "outputs": [
    {
     "data": {
      "text/plain": [
       "Tipo A    169\n",
       "Tipo B     66\n",
       "Tipo C     65\n",
       "Name: Producto, dtype: int64"
      ]
     },
     "execution_count": 55,
     "metadata": {},
     "output_type": "execute_result"
    }
   ],
   "source": [
    "# Ejemplo de recodificacion de un diccionario\n",
    "producto_dict = {\n",
    "    'Cacahuetes':'Tipo A',\n",
    "    'Almendras': 'Tipo A',\n",
    "    'Pistachos':'Tipo B',\n",
    "    'Nueces': 'Tipo C'\n",
    "}\n",
    "df.Producto.map(producto_dict).value_counts(dropna=False)"
   ]
  },
  {
   "cell_type": "code",
   "execution_count": 56,
   "metadata": {},
   "outputs": [
    {
     "data": {
      "text/plain": [
       "0     ALMENDRAS\n",
       "1        NUECES\n",
       "2    CACAHUETES\n",
       "3     PISTACHOS\n",
       "4        NUECES\n",
       "5     ALMENDRAS\n",
       "6     PISTACHOS\n",
       "7     ALMENDRAS\n",
       "8     ALMENDRAS\n",
       "9     PISTACHOS\n",
       "Name: Producto, dtype: object"
      ]
     },
     "execution_count": 56,
     "metadata": {},
     "output_type": "execute_result"
    }
   ],
   "source": [
    "# Ejemplo de recodificar con una función\n",
    "def mayus(texto):\n",
    "    return(texto.upper())\n",
    "\n",
    "df.Producto.map(mayus).head(10)"
   ]
  },
  {
   "cell_type": "markdown",
   "metadata": {},
   "source": [
    "## Modificar Textos\n",
    "\n",
    "Usaremos la variable texto de df para los ejemplos. Por comodidad vamos a guardarla en una variable propia y sólo con 5 registros.\n",
    "\n",
    "Hay muchos más. "
   ]
  },
  {
   "cell_type": "code",
   "execution_count": 57,
   "metadata": {},
   "outputs": [
    {
     "data": {
      "text/plain": [
       "0     Almendras\n",
       "1        Nueces\n",
       "2    Cacahuetes\n",
       "3     Pistachos\n",
       "4        Nueces\n",
       "Name: Producto, dtype: object"
      ]
     },
     "execution_count": 57,
     "metadata": {},
     "output_type": "execute_result"
    }
   ],
   "source": [
    "texto = df.Producto[0:5]\n",
    "texto\n"
   ]
  },
  {
   "cell_type": "code",
   "execution_count": 58,
   "metadata": {},
   "outputs": [
    {
     "data": {
      "text/plain": [
       "0     ALMENDRAS\n",
       "1        NUECES\n",
       "2    CACAHUETES\n",
       "3     PISTACHOS\n",
       "4        NUECES\n",
       "Name: Producto, dtype: object"
      ]
     },
     "execution_count": 58,
     "metadata": {},
     "output_type": "execute_result"
    }
   ],
   "source": [
    "# Convertir todo a mayúsculas\n",
    "texto.str.upper()"
   ]
  },
  {
   "cell_type": "code",
   "execution_count": 60,
   "metadata": {},
   "outputs": [
    {
     "data": {
      "text/plain": [
       "0     almendras\n",
       "1        nueces\n",
       "2    cacahuetes\n",
       "3     pistachos\n",
       "4        nueces\n",
       "Name: Producto, dtype: object"
      ]
     },
     "execution_count": 60,
     "metadata": {},
     "output_type": "execute_result"
    }
   ],
   "source": [
    "# Convertir todo a minúsculas\n",
    "texto.str.lower()"
   ]
  },
  {
   "cell_type": "code",
   "execution_count": 61,
   "metadata": {},
   "outputs": [
    {
     "data": {
      "text/plain": [
       "0     Almendras\n",
       "1        Nueces\n",
       "2    Cacahuetes\n",
       "3     Pistachos\n",
       "4        Nueces\n",
       "Name: Producto, dtype: object"
      ]
     },
     "execution_count": 61,
     "metadata": {},
     "output_type": "execute_result"
    }
   ],
   "source": [
    "# Convertir todo a estilo frase, la primera con mayúscula\n",
    "texto.str.capitalize()"
   ]
  },
  {
   "cell_type": "code",
   "execution_count": 62,
   "metadata": {},
   "outputs": [
    {
     "data": {
      "text/plain": [
       "0     Almendras\n",
       "1        Nueces\n",
       "2    Cacahuetes\n",
       "3     Pistachos\n",
       "4        Nueces\n",
       "Name: Producto, dtype: object"
      ]
     },
     "execution_count": 62,
     "metadata": {},
     "output_type": "execute_result"
    }
   ],
   "source": [
    "# Convertir todo a estilo titular, la primera de cada palabra a mayúscula\n",
    "texto.str.title()"
   ]
  },
  {
   "cell_type": "code",
   "execution_count": 63,
   "metadata": {},
   "outputs": [
    {
     "data": {
      "text/plain": [
       "0       A--l--m--e--n--d--r--a--s\n",
       "1                N--u--e--c--e--s\n",
       "2    C--a--c--a--h--u--e--t--e--s\n",
       "3       P--i--s--t--a--c--h--o--s\n",
       "4                N--u--e--c--e--s\n",
       "Name: Producto, dtype: object"
      ]
     },
     "execution_count": 63,
     "metadata": {},
     "output_type": "execute_result"
    }
   ],
   "source": [
    "# Unir cada elemto del texto por un separador\n",
    "texto.str.join(sep = '--')"
   ]
  },
  {
   "cell_type": "code",
   "execution_count": 65,
   "metadata": {},
   "outputs": [
    {
     "data": {
      "text/plain": [
       "'AlmendrasNuecesCacahuetesPistachosNueces'"
      ]
     },
     "execution_count": 65,
     "metadata": {},
     "output_type": "execute_result"
    }
   ],
   "source": [
    "# Concatenar\n",
    "texto.str.cat()"
   ]
  },
  {
   "cell_type": "code",
   "execution_count": 66,
   "metadata": {},
   "outputs": [
    {
     "data": {
      "text/plain": [
       "0     [Almendras]\n",
       "1        [Nueces]\n",
       "2    [Cacahuetes]\n",
       "3     [Pistachos]\n",
       "4        [Nueces]\n",
       "Name: Producto, dtype: object"
      ]
     },
     "execution_count": 66,
     "metadata": {},
     "output_type": "execute_result"
    }
   ],
   "source": [
    "# Separar\n",
    "texto.str.split()"
   ]
  },
  {
   "cell_type": "code",
   "execution_count": 67,
   "metadata": {},
   "outputs": [
    {
     "data": {
      "text/html": [
       "<div>\n",
       "<style scoped>\n",
       "    .dataframe tbody tr th:only-of-type {\n",
       "        vertical-align: middle;\n",
       "    }\n",
       "\n",
       "    .dataframe tbody tr th {\n",
       "        vertical-align: top;\n",
       "    }\n",
       "\n",
       "    .dataframe thead th {\n",
       "        text-align: right;\n",
       "    }\n",
       "</style>\n",
       "<table border=\"1\" class=\"dataframe\">\n",
       "  <thead>\n",
       "    <tr style=\"text-align: right;\">\n",
       "      <th></th>\n",
       "      <th>Producto</th>\n",
       "      <th>Provincia</th>\n",
       "    </tr>\n",
       "  </thead>\n",
       "  <tbody>\n",
       "    <tr>\n",
       "      <th>0</th>\n",
       "      <td>Almendras</td>\n",
       "      <td>Cádiz</td>\n",
       "    </tr>\n",
       "    <tr>\n",
       "      <th>1</th>\n",
       "      <td>Nueces</td>\n",
       "      <td>Sevilla</td>\n",
       "    </tr>\n",
       "    <tr>\n",
       "      <th>2</th>\n",
       "      <td>Cacahuetes</td>\n",
       "      <td>Madrid</td>\n",
       "    </tr>\n",
       "    <tr>\n",
       "      <th>3</th>\n",
       "      <td>Pistachos</td>\n",
       "      <td>Alicante</td>\n",
       "    </tr>\n",
       "    <tr>\n",
       "      <th>4</th>\n",
       "      <td>Nueces</td>\n",
       "      <td>Barcelona</td>\n",
       "    </tr>\n",
       "    <tr>\n",
       "      <th>...</th>\n",
       "      <td>...</td>\n",
       "      <td>...</td>\n",
       "    </tr>\n",
       "    <tr>\n",
       "      <th>295</th>\n",
       "      <td>Nueces</td>\n",
       "      <td>Sevilla</td>\n",
       "    </tr>\n",
       "    <tr>\n",
       "      <th>296</th>\n",
       "      <td>Pistachos</td>\n",
       "      <td>Madrid</td>\n",
       "    </tr>\n",
       "    <tr>\n",
       "      <th>297</th>\n",
       "      <td>Pistachos</td>\n",
       "      <td>Valencia</td>\n",
       "    </tr>\n",
       "    <tr>\n",
       "      <th>298</th>\n",
       "      <td>Cacahuetes</td>\n",
       "      <td>Madrid</td>\n",
       "    </tr>\n",
       "    <tr>\n",
       "      <th>299</th>\n",
       "      <td>Nueces</td>\n",
       "      <td>Sevilla</td>\n",
       "    </tr>\n",
       "  </tbody>\n",
       "</table>\n",
       "<p>300 rows × 2 columns</p>\n",
       "</div>"
      ],
      "text/plain": [
       "       Producto  Provincia\n",
       "0     Almendras      Cádiz\n",
       "1        Nueces    Sevilla\n",
       "2    Cacahuetes     Madrid\n",
       "3     Pistachos   Alicante\n",
       "4        Nueces  Barcelona\n",
       "..          ...        ...\n",
       "295      Nueces    Sevilla\n",
       "296   Pistachos     Madrid\n",
       "297   Pistachos   Valencia\n",
       "298  Cacahuetes     Madrid\n",
       "299      Nueces    Sevilla\n",
       "\n",
       "[300 rows x 2 columns]"
      ]
     },
     "execution_count": 67,
     "metadata": {},
     "output_type": "execute_result"
    }
   ],
   "source": [
    "# Comprobar si empieza por\n",
    "filtro = df.columns.str.startswith('Pro')\n",
    "df.loc[:,filtro]\n"
   ]
  },
  {
   "cell_type": "code",
   "execution_count": 69,
   "metadata": {},
   "outputs": [
    {
     "data": {
      "text/html": [
       "<div>\n",
       "<style scoped>\n",
       "    .dataframe tbody tr th:only-of-type {\n",
       "        vertical-align: middle;\n",
       "    }\n",
       "\n",
       "    .dataframe tbody tr th {\n",
       "        vertical-align: top;\n",
       "    }\n",
       "\n",
       "    .dataframe thead th {\n",
       "        text-align: right;\n",
       "    }\n",
       "</style>\n",
       "<table border=\"1\" class=\"dataframe\">\n",
       "  <thead>\n",
       "    <tr style=\"text-align: right;\">\n",
       "      <th></th>\n",
       "      <th>Precio</th>\n",
       "    </tr>\n",
       "  </thead>\n",
       "  <tbody>\n",
       "    <tr>\n",
       "      <th>0</th>\n",
       "      <td>4.54</td>\n",
       "    </tr>\n",
       "    <tr>\n",
       "      <th>1</th>\n",
       "      <td>5.84</td>\n",
       "    </tr>\n",
       "    <tr>\n",
       "      <th>2</th>\n",
       "      <td>2.69</td>\n",
       "    </tr>\n",
       "    <tr>\n",
       "      <th>3</th>\n",
       "      <td>6.70</td>\n",
       "    </tr>\n",
       "    <tr>\n",
       "      <th>4</th>\n",
       "      <td>6.14</td>\n",
       "    </tr>\n",
       "    <tr>\n",
       "      <th>...</th>\n",
       "      <td>...</td>\n",
       "    </tr>\n",
       "    <tr>\n",
       "      <th>295</th>\n",
       "      <td>9.75</td>\n",
       "    </tr>\n",
       "    <tr>\n",
       "      <th>296</th>\n",
       "      <td>3.82</td>\n",
       "    </tr>\n",
       "    <tr>\n",
       "      <th>297</th>\n",
       "      <td>5.22</td>\n",
       "    </tr>\n",
       "    <tr>\n",
       "      <th>298</th>\n",
       "      <td>8.07</td>\n",
       "    </tr>\n",
       "    <tr>\n",
       "      <th>299</th>\n",
       "      <td>5.80</td>\n",
       "    </tr>\n",
       "  </tbody>\n",
       "</table>\n",
       "<p>300 rows × 1 columns</p>\n",
       "</div>"
      ],
      "text/plain": [
       "     Precio\n",
       "0      4.54\n",
       "1      5.84\n",
       "2      2.69\n",
       "3      6.70\n",
       "4      6.14\n",
       "..      ...\n",
       "295    9.75\n",
       "296    3.82\n",
       "297    5.22\n",
       "298    8.07\n",
       "299    5.80\n",
       "\n",
       "[300 rows x 1 columns]"
      ]
     },
     "execution_count": 69,
     "metadata": {},
     "output_type": "execute_result"
    }
   ],
   "source": [
    "# Comprobar si contiene\n",
    "filtro = df.columns.str.contains('Precio')\n",
    "df.loc[:,filtro]"
   ]
  },
  {
   "cell_type": "code",
   "execution_count": 70,
   "metadata": {},
   "outputs": [
    {
     "data": {
      "text/html": [
       "<div>\n",
       "<style scoped>\n",
       "    .dataframe tbody tr th:only-of-type {\n",
       "        vertical-align: middle;\n",
       "    }\n",
       "\n",
       "    .dataframe tbody tr th {\n",
       "        vertical-align: top;\n",
       "    }\n",
       "\n",
       "    .dataframe thead th {\n",
       "        text-align: right;\n",
       "    }\n",
       "</style>\n",
       "<table border=\"1\" class=\"dataframe\">\n",
       "  <thead>\n",
       "    <tr style=\"text-align: right;\">\n",
       "      <th></th>\n",
       "      <th>Precio</th>\n",
       "    </tr>\n",
       "  </thead>\n",
       "  <tbody>\n",
       "    <tr>\n",
       "      <th>0</th>\n",
       "      <td>4.54</td>\n",
       "    </tr>\n",
       "    <tr>\n",
       "      <th>1</th>\n",
       "      <td>5.84</td>\n",
       "    </tr>\n",
       "    <tr>\n",
       "      <th>2</th>\n",
       "      <td>2.69</td>\n",
       "    </tr>\n",
       "    <tr>\n",
       "      <th>3</th>\n",
       "      <td>6.70</td>\n",
       "    </tr>\n",
       "    <tr>\n",
       "      <th>4</th>\n",
       "      <td>6.14</td>\n",
       "    </tr>\n",
       "    <tr>\n",
       "      <th>...</th>\n",
       "      <td>...</td>\n",
       "    </tr>\n",
       "    <tr>\n",
       "      <th>295</th>\n",
       "      <td>9.75</td>\n",
       "    </tr>\n",
       "    <tr>\n",
       "      <th>296</th>\n",
       "      <td>3.82</td>\n",
       "    </tr>\n",
       "    <tr>\n",
       "      <th>297</th>\n",
       "      <td>5.22</td>\n",
       "    </tr>\n",
       "    <tr>\n",
       "      <th>298</th>\n",
       "      <td>8.07</td>\n",
       "    </tr>\n",
       "    <tr>\n",
       "      <th>299</th>\n",
       "      <td>5.80</td>\n",
       "    </tr>\n",
       "  </tbody>\n",
       "</table>\n",
       "<p>300 rows × 1 columns</p>\n",
       "</div>"
      ],
      "text/plain": [
       "     Precio\n",
       "0      4.54\n",
       "1      5.84\n",
       "2      2.69\n",
       "3      6.70\n",
       "4      6.14\n",
       "..      ...\n",
       "295    9.75\n",
       "296    3.82\n",
       "297    5.22\n",
       "298    8.07\n",
       "299    5.80\n",
       "\n",
       "[300 rows x 1 columns]"
      ]
     },
     "execution_count": 70,
     "metadata": {},
     "output_type": "execute_result"
    }
   ],
   "source": [
    "# Comprobar si termina por\n",
    "filtro = df.columns.str.endswith('cio')\n",
    "df.loc[:,filtro]"
   ]
  },
  {
   "cell_type": "code",
   "execution_count": 71,
   "metadata": {},
   "outputs": [
    {
     "data": {
      "text/plain": [
       "0     9\n",
       "1     6\n",
       "2    10\n",
       "3     9\n",
       "4     6\n",
       "Name: Producto, dtype: int64"
      ]
     },
     "execution_count": 71,
     "metadata": {},
     "output_type": "execute_result"
    }
   ],
   "source": [
    "# Longitud de un texto\n",
    "texto.str.len()"
   ]
  },
  {
   "cell_type": "code",
   "execution_count": 72,
   "metadata": {},
   "outputs": [
    {
     "data": {
      "text/plain": [
       "0     Almendras\n",
       "1        Nueces\n",
       "2    Cacahuetes\n",
       "3     Pistachos\n",
       "4        Nueces\n",
       "Name: Producto, dtype: object"
      ]
     },
     "execution_count": 72,
     "metadata": {},
     "output_type": "execute_result"
    }
   ],
   "source": [
    "texto"
   ]
  },
  {
   "cell_type": "code",
   "execution_count": 73,
   "metadata": {},
   "outputs": [
    {
     "data": {
      "text/plain": [
       "Index(['Cliente', 'Broducto', 'Brecio', 'Cantidad', 'Fecha', 'Brovincia',\n",
       "       'id'],\n",
       "      dtype='object')"
      ]
     },
     "execution_count": 73,
     "metadata": {},
     "output_type": "execute_result"
    }
   ],
   "source": [
    "# Reemplazar valor\n",
    "df.columns.str.replace(pat='Pr', repl='Br')"
   ]
  },
  {
   "cell_type": "code",
   "execution_count": 74,
   "metadata": {},
   "outputs": [
    {
     "data": {
      "text/plain": [
       "0     Almendras\n",
       "1        Nueces\n",
       "2    Cacahuetes\n",
       "3     Pistachos\n",
       "4        Nueces\n",
       "Name: Producto, dtype: object"
      ]
     },
     "execution_count": 74,
     "metadata": {},
     "output_type": "execute_result"
    }
   ],
   "source": [
    "# Encontrar valor (devuelve la posicion de la primera ocurrencia, y si no lo encuentra -1)\n",
    "texto.str.strip()"
   ]
  }
 ],
 "metadata": {
  "kernelspec": {
   "display_name": "Python 3",
   "language": "python",
   "name": "python3"
  },
  "language_info": {
   "codemirror_mode": {
    "name": "ipython",
    "version": 3
   },
   "file_extension": ".py",
   "mimetype": "text/x-python",
   "name": "python",
   "nbconvert_exporter": "python",
   "pygments_lexer": "ipython3",
   "version": "3.9.13"
  }
 },
 "nbformat": 4,
 "nbformat_minor": 2
}
