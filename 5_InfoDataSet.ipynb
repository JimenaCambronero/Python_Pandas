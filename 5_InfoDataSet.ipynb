{
 "cells": [
  {
   "cell_type": "markdown",
   "metadata": {},
   "source": [
    "## Previsualizar un Archivo"
   ]
  },
  {
   "cell_type": "markdown",
   "metadata": {},
   "source": [
    "A veces, cuando necesitas trabajar con un archivo de datos, no tienes toda la información sobre cómo está estructurado. No sabes si las columnas tienen nombres, cuál es el separador entre los datos, o incluso si los datos comienzan en la primera línea.\n",
    "\n",
    "En este caso, puedes utilizar Python de manera básica para echar un vistazo al archivo y obtener algunas pistas. Aquí está el proceso:\n",
    "\n",
    "1. Abres el archivo utilizando `open`.\n",
    "2. Lees un número de líneas del archivo utilizando `readlines`. Esto te proporciona una lista de líneas del archivo, y puedes tomar un subconjunto de ellas utilizando \"slice\" para obtener solo las que necesitas.\n",
    "3. Es importante cerrar el archivo después de usarlo. Es una buena práctica no dejar los archivos abiertos en tu programa.\n",
    "\n",
    "Esta vista previa de las primeras líneas del archivo te ayudará a comprender cómo está estructurado. Por ejemplo, puedes descubrir si los datos no comienzan en la primera fila, si no hay nombres de columnas, o si el separador entre los datos es un tabulador u otro carácter. Esta información te ayudará a parametrizar correctamente las herramientas de importación de datos que uses más adelante."
   ]
  },
  {
   "cell_type": "code",
   "execution_count": 1,
   "metadata": {},
   "outputs": [
    {
     "name": "stdout",
     "output_type": "stream",
     "text": [
      "['\\ufeffNombre Cliente;Tipo Producto;Precio (€/kg);Cantidad Vendida (kg);Fecha Venta;Provincia Cliente;id\\n', 'Mas y Mas;Almendras;4.54;1212;29/3/23;Cádiz;389932\\n', 'Mercadona;Nueces;5.84;591;5/12/23;Sevilla;389933\\n', 'Alcampo;Cacahuetes;2.69;2831;26/7/23;Madrid;389934\\n', 'Mas y Mas;Pistachos;6.7;516;7/10/23;Alicante;389935\\n', 'Lidl;Nueces;6.14;1283;12/5/23;Barcelona;389936\\n', 'Carrefour;Almendras;1.92;2741;24/3/23;Cádiz;389937\\n', 'Lidl;Pistachos;3.88;2898;8/3/23;Sevilla;389938\\n', 'Alcampo;Almendras;3.76;2464;1/3/23;Madrid;389939\\n', 'Dia;Almendras;6.46;641;26/9/23;Alicante;389940\\n']\n"
     ]
    }
   ],
   "source": [
    "previsualizacion = open('/Users/jimenacambronero/Desktop/Proyectos para Portfolio/PythonPracticas/Datos/Frutos_Secos.csv','r')\n",
    "print(previsualizacion.readlines()[0:10])\n",
    "previsualizacion.close() # importante cerrar para q no quede abierto en memoria"
   ]
  },
  {
   "cell_type": "markdown",
   "metadata": {},
   "source": [
    "## Calidad de Datos"
   ]
  },
  {
   "cell_type": "markdown",
   "metadata": {},
   "source": [
    "La fase de calidad de datos es crucial en un proyecto de Data Science porque afecta directamente la confiabilidad y precisión de los resultados que obtendrás al analizar y modelar datos:\n",
    "\n",
    "1. Toma de decisiones precisa: Los datos de baja calidad pueden llevar a conclusiones incorrectas. Si tus datos no son confiables, las decisiones basadas en ellos pueden ser erróneas y costosas.\n",
    "\n",
    "2. Modelado efectivo: Los modelos de Data Science dependen de datos de calidad para funcionar correctamente. Datos defectuosos pueden llevar a modelos poco precisos, lo que reduce la efectividad de tus análisis y predicciones.\n",
    "\n",
    "3. Eficiencia y ahorro de tiempo: Mejorar la calidad de los datos desde el principio ahorra tiempo en la limpieza y corrección de datos más adelante en el proyecto. Esto permite una ejecución más eficiente de tus tareas de análisis.\n"
   ]
  },
  {
   "cell_type": "code",
   "execution_count": 4,
   "metadata": {},
   "outputs": [
    {
     "data": {
      "text/html": [
       "<div>\n",
       "<style scoped>\n",
       "    .dataframe tbody tr th:only-of-type {\n",
       "        vertical-align: middle;\n",
       "    }\n",
       "\n",
       "    .dataframe tbody tr th {\n",
       "        vertical-align: top;\n",
       "    }\n",
       "\n",
       "    .dataframe thead th {\n",
       "        text-align: right;\n",
       "    }\n",
       "</style>\n",
       "<table border=\"1\" class=\"dataframe\">\n",
       "  <thead>\n",
       "    <tr style=\"text-align: right;\">\n",
       "      <th></th>\n",
       "      <th>Nombre Cliente</th>\n",
       "      <th>Tipo Producto</th>\n",
       "      <th>Precio (€/kg)</th>\n",
       "      <th>Cantidad Vendida (kg)</th>\n",
       "      <th>Fecha Venta</th>\n",
       "      <th>Provincia Cliente</th>\n",
       "    </tr>\n",
       "    <tr>\n",
       "      <th>id</th>\n",
       "      <th></th>\n",
       "      <th></th>\n",
       "      <th></th>\n",
       "      <th></th>\n",
       "      <th></th>\n",
       "      <th></th>\n",
       "    </tr>\n",
       "  </thead>\n",
       "  <tbody>\n",
       "    <tr>\n",
       "      <th>389932</th>\n",
       "      <td>Mas y Mas</td>\n",
       "      <td>Almendras</td>\n",
       "      <td>4.54</td>\n",
       "      <td>1212</td>\n",
       "      <td>29/3/23</td>\n",
       "      <td>Cádiz</td>\n",
       "    </tr>\n",
       "    <tr>\n",
       "      <th>389933</th>\n",
       "      <td>Mercadona</td>\n",
       "      <td>Nueces</td>\n",
       "      <td>5.84</td>\n",
       "      <td>591</td>\n",
       "      <td>5/12/23</td>\n",
       "      <td>Sevilla</td>\n",
       "    </tr>\n",
       "  </tbody>\n",
       "</table>\n",
       "</div>"
      ],
      "text/plain": [
       "       Nombre Cliente Tipo Producto  Precio (€/kg)  Cantidad Vendida (kg)  \\\n",
       "id                                                                          \n",
       "389932      Mas y Mas     Almendras           4.54                   1212   \n",
       "389933      Mercadona        Nueces           5.84                    591   \n",
       "\n",
       "       Fecha Venta Provincia Cliente  \n",
       "id                                    \n",
       "389932     29/3/23             Cádiz  \n",
       "389933     5/12/23           Sevilla  "
      ]
     },
     "execution_count": 4,
     "metadata": {},
     "output_type": "execute_result"
    }
   ],
   "source": [
    "import pandas as pd\n",
    "\n",
    "df = pd.read_csv('/Users/jimenacambronero/Desktop/Proyectos para Portfolio/PythonPracticas/Datos/Frutos_Secos.csv',sep= ';', index_col='id')\n",
    "df.head(2)"
   ]
  },
  {
   "cell_type": "markdown",
   "metadata": {},
   "source": [
    "## Muestreo"
   ]
  },
  {
   "cell_type": "markdown",
   "metadata": {},
   "source": [
    "La función `sample()` en pandas es como una herramienta para elegir una parte de tus datos de manera aleatoria. Imagina que tienes una caja llena de datos, y con `sample()`, puedes sacar algunos datos de esa caja según tus necesidades.\n",
    "\n",
    "Los parámetros más importantes son:\n",
    "\n",
    "1. **n**: Esto es cuántos datos quieres tomar de la caja en total. Si dices `n=10`, sacarás 10 datos al azar.\n",
    "\n",
    "2. **frac**: En lugar de decir cuántos datos, puedes decir qué parte del total quieres tomar. Si dices `frac=0.2`, tomarás el 20% de los datos.\n",
    "\n",
    "3. **replace**: Esto es como si pusieras de vuelta los datos que sacas. Si está en `False`, una vez que tomas un dato, no lo puedes tomar de nuevo. Si está en `True`, podrías tomar el mismo dato más de una vez.\n",
    "\n",
    "4. **random_state**: Es como una semilla mágica que te asegura que, si usas el mismo número, siempre obtendrás los mismos datos al azar. Esto es útil para hacer tu trabajo reproducible, es decir, que otros puedan obtener los mismos resultados que tú."
   ]
  },
  {
   "cell_type": "code",
   "execution_count": 6,
   "metadata": {},
   "outputs": [
    {
     "data": {
      "text/plain": [
       "(300, 6)"
      ]
     },
     "execution_count": 6,
     "metadata": {},
     "output_type": "execute_result"
    }
   ],
   "source": [
    "# Nos devolvera la cnatidad de registros y la cantidad de columnas\n",
    "df.shape"
   ]
  },
  {
   "cell_type": "code",
   "execution_count": 8,
   "metadata": {},
   "outputs": [
    {
     "data": {
      "text/plain": [
       "(100, 6)"
      ]
     },
     "execution_count": 8,
     "metadata": {},
     "output_type": "execute_result"
    }
   ],
   "source": [
    "muestra = df.sample(n=100)\n",
    "muestra.shape"
   ]
  },
  {
   "cell_type": "markdown",
   "metadata": {},
   "source": [
    "## Vision General de nuestro DataSet"
   ]
  },
  {
   "cell_type": "markdown",
   "metadata": {},
   "source": [
    "### Información general del Dataset"
   ]
  },
  {
   "cell_type": "code",
   "execution_count": 10,
   "metadata": {},
   "outputs": [
    {
     "name": "stdout",
     "output_type": "stream",
     "text": [
      "<class 'pandas.core.frame.DataFrame'>\n",
      "Int64Index: 300 entries, 389932 to 390231\n",
      "Data columns (total 6 columns):\n",
      " #   Column                 Non-Null Count  Dtype  \n",
      "---  ------                 --------------  -----  \n",
      " 0   Nombre Cliente         300 non-null    object \n",
      " 1   Tipo Producto          300 non-null    object \n",
      " 2   Precio (€/kg)          300 non-null    float64\n",
      " 3   Cantidad Vendida (kg)  300 non-null    int64  \n",
      " 4   Fecha Venta            300 non-null    object \n",
      " 5   Provincia Cliente      300 non-null    object \n",
      "dtypes: float64(1), int64(1), object(4)\n",
      "memory usage: 16.4+ KB\n"
     ]
    }
   ],
   "source": [
    "df.info()"
   ]
  },
  {
   "cell_type": "code",
   "execution_count": 9,
   "metadata": {},
   "outputs": [
    {
     "name": "stdout",
     "output_type": "stream",
     "text": [
      "<class 'pandas.core.frame.DataFrame'>\n",
      "Int64Index: 300 entries, 389932 to 390231\n",
      "Data columns (total 6 columns):\n",
      " #   Column                 Non-Null Count  Dtype  \n",
      "---  ------                 --------------  -----  \n",
      " 0   Nombre Cliente         300 non-null    object \n",
      " 1   Tipo Producto          300 non-null    object \n",
      " 2   Precio (€/kg)          300 non-null    float64\n",
      " 3   Cantidad Vendida (kg)  300 non-null    int64  \n",
      " 4   Fecha Venta            300 non-null    object \n",
      " 5   Provincia Cliente      300 non-null    object \n",
      "dtypes: float64(1), int64(1), object(4)\n",
      "memory usage: 83.6 KB\n"
     ]
    }
   ],
   "source": [
    "# Memory_ usage = deep te da la info exacta de la memoria\n",
    "# Si vemos que ocupa mucho, podemos trabajar con muestras o cambiar el tipo de datos, object ocupa más que category\n",
    "df.info(memory_usage='deep')"
   ]
  },
  {
   "cell_type": "markdown",
   "metadata": {},
   "source": [
    "### Indice"
   ]
  },
  {
   "cell_type": "code",
   "execution_count": 11,
   "metadata": {},
   "outputs": [
    {
     "data": {
      "text/plain": [
       "Int64Index([389932, 389933, 389934, 389935, 389936, 389937, 389938, 389939,\n",
       "            389940, 389941,\n",
       "            ...\n",
       "            390222, 390223, 390224, 390225, 390226, 390227, 390228, 390229,\n",
       "            390230, 390231],\n",
       "           dtype='int64', name='id', length=300)"
      ]
     },
     "execution_count": 11,
     "metadata": {},
     "output_type": "execute_result"
    }
   ],
   "source": [
    "df.index"
   ]
  },
  {
   "cell_type": "markdown",
   "metadata": {},
   "source": [
    "### Columnas"
   ]
  },
  {
   "cell_type": "code",
   "execution_count": 12,
   "metadata": {},
   "outputs": [
    {
     "data": {
      "text/plain": [
       "Index(['Nombre Cliente', 'Tipo Producto', 'Precio (€/kg)',\n",
       "       'Cantidad Vendida (kg)', 'Fecha Venta', 'Provincia Cliente'],\n",
       "      dtype='object')"
      ]
     },
     "execution_count": 12,
     "metadata": {},
     "output_type": "execute_result"
    }
   ],
   "source": [
    "# Ver el valor de las columnas\n",
    "df.columns"
   ]
  },
  {
   "cell_type": "markdown",
   "metadata": {},
   "source": [
    "### Tipo de Variables"
   ]
  },
  {
   "cell_type": "code",
   "execution_count": 13,
   "metadata": {},
   "outputs": [
    {
     "data": {
      "text/plain": [
       "Nombre Cliente            object\n",
       "Tipo Producto             object\n",
       "Precio (€/kg)            float64\n",
       "Cantidad Vendida (kg)      int64\n",
       "Fecha Venta               object\n",
       "Provincia Cliente         object\n",
       "dtype: object"
      ]
     },
     "execution_count": 13,
     "metadata": {},
     "output_type": "execute_result"
    }
   ],
   "source": [
    "# Para conocer los tipos de dato sque tenemos\n",
    "df.dtypes"
   ]
  },
  {
   "cell_type": "code",
   "execution_count": 15,
   "metadata": {},
   "outputs": [
    {
     "data": {
      "text/plain": [
       "dtype('float64')"
      ]
     },
     "execution_count": 15,
     "metadata": {},
     "output_type": "execute_result"
    }
   ],
   "source": [
    "# Saber el valor de una de las columnas. Podes indexar\n",
    "df['Precio (€/kg)'].dtypes"
   ]
  },
  {
   "cell_type": "markdown",
   "metadata": {},
   "source": [
    "### Estadísticos"
   ]
  },
  {
   "cell_type": "code",
   "execution_count": 16,
   "metadata": {},
   "outputs": [
    {
     "data": {
      "text/html": [
       "<div>\n",
       "<style scoped>\n",
       "    .dataframe tbody tr th:only-of-type {\n",
       "        vertical-align: middle;\n",
       "    }\n",
       "\n",
       "    .dataframe tbody tr th {\n",
       "        vertical-align: top;\n",
       "    }\n",
       "\n",
       "    .dataframe thead th {\n",
       "        text-align: right;\n",
       "    }\n",
       "</style>\n",
       "<table border=\"1\" class=\"dataframe\">\n",
       "  <thead>\n",
       "    <tr style=\"text-align: right;\">\n",
       "      <th></th>\n",
       "      <th>Precio (€/kg)</th>\n",
       "      <th>Cantidad Vendida (kg)</th>\n",
       "    </tr>\n",
       "  </thead>\n",
       "  <tbody>\n",
       "    <tr>\n",
       "      <th>count</th>\n",
       "      <td>300.000000</td>\n",
       "      <td>300.000000</td>\n",
       "    </tr>\n",
       "    <tr>\n",
       "      <th>mean</th>\n",
       "      <td>5.598333</td>\n",
       "      <td>1616.950000</td>\n",
       "    </tr>\n",
       "    <tr>\n",
       "      <th>std</th>\n",
       "      <td>2.673505</td>\n",
       "      <td>842.463231</td>\n",
       "    </tr>\n",
       "    <tr>\n",
       "      <th>min</th>\n",
       "      <td>0.970000</td>\n",
       "      <td>100.000000</td>\n",
       "    </tr>\n",
       "    <tr>\n",
       "      <th>25%</th>\n",
       "      <td>3.525000</td>\n",
       "      <td>976.250000</td>\n",
       "    </tr>\n",
       "    <tr>\n",
       "      <th>50%</th>\n",
       "      <td>5.475000</td>\n",
       "      <td>1668.000000</td>\n",
       "    </tr>\n",
       "    <tr>\n",
       "      <th>75%</th>\n",
       "      <td>7.622500</td>\n",
       "      <td>2345.000000</td>\n",
       "    </tr>\n",
       "    <tr>\n",
       "      <th>max</th>\n",
       "      <td>11.570000</td>\n",
       "      <td>2986.000000</td>\n",
       "    </tr>\n",
       "  </tbody>\n",
       "</table>\n",
       "</div>"
      ],
      "text/plain": [
       "       Precio (€/kg)  Cantidad Vendida (kg)\n",
       "count     300.000000             300.000000\n",
       "mean        5.598333            1616.950000\n",
       "std         2.673505             842.463231\n",
       "min         0.970000             100.000000\n",
       "25%         3.525000             976.250000\n",
       "50%         5.475000            1668.000000\n",
       "75%         7.622500            2345.000000\n",
       "max        11.570000            2986.000000"
      ]
     },
     "execution_count": 16,
     "metadata": {},
     "output_type": "execute_result"
    }
   ],
   "source": [
    "# Devuelve solo los numéricos\n",
    "df.describe()"
   ]
  },
  {
   "cell_type": "code",
   "execution_count": 17,
   "metadata": {},
   "outputs": [
    {
     "data": {
      "text/html": [
       "<div>\n",
       "<style scoped>\n",
       "    .dataframe tbody tr th:only-of-type {\n",
       "        vertical-align: middle;\n",
       "    }\n",
       "\n",
       "    .dataframe tbody tr th {\n",
       "        vertical-align: top;\n",
       "    }\n",
       "\n",
       "    .dataframe thead th {\n",
       "        text-align: right;\n",
       "    }\n",
       "</style>\n",
       "<table border=\"1\" class=\"dataframe\">\n",
       "  <thead>\n",
       "    <tr style=\"text-align: right;\">\n",
       "      <th></th>\n",
       "      <th>Nombre Cliente</th>\n",
       "      <th>Tipo Producto</th>\n",
       "      <th>Precio (€/kg)</th>\n",
       "      <th>Cantidad Vendida (kg)</th>\n",
       "      <th>Fecha Venta</th>\n",
       "      <th>Provincia Cliente</th>\n",
       "    </tr>\n",
       "  </thead>\n",
       "  <tbody>\n",
       "    <tr>\n",
       "      <th>count</th>\n",
       "      <td>300</td>\n",
       "      <td>300</td>\n",
       "      <td>300.000000</td>\n",
       "      <td>300.000000</td>\n",
       "      <td>300</td>\n",
       "      <td>300</td>\n",
       "    </tr>\n",
       "    <tr>\n",
       "      <th>unique</th>\n",
       "      <td>11</td>\n",
       "      <td>4</td>\n",
       "      <td>NaN</td>\n",
       "      <td>NaN</td>\n",
       "      <td>204</td>\n",
       "      <td>6</td>\n",
       "    </tr>\n",
       "    <tr>\n",
       "      <th>top</th>\n",
       "      <td>Mercadona</td>\n",
       "      <td>Cacahuetes</td>\n",
       "      <td>NaN</td>\n",
       "      <td>NaN</td>\n",
       "      <td>6/12/23</td>\n",
       "      <td>Barcelona</td>\n",
       "    </tr>\n",
       "    <tr>\n",
       "      <th>freq</th>\n",
       "      <td>33</td>\n",
       "      <td>100</td>\n",
       "      <td>NaN</td>\n",
       "      <td>NaN</td>\n",
       "      <td>5</td>\n",
       "      <td>57</td>\n",
       "    </tr>\n",
       "    <tr>\n",
       "      <th>mean</th>\n",
       "      <td>NaN</td>\n",
       "      <td>NaN</td>\n",
       "      <td>5.598333</td>\n",
       "      <td>1616.950000</td>\n",
       "      <td>NaN</td>\n",
       "      <td>NaN</td>\n",
       "    </tr>\n",
       "    <tr>\n",
       "      <th>std</th>\n",
       "      <td>NaN</td>\n",
       "      <td>NaN</td>\n",
       "      <td>2.673505</td>\n",
       "      <td>842.463231</td>\n",
       "      <td>NaN</td>\n",
       "      <td>NaN</td>\n",
       "    </tr>\n",
       "    <tr>\n",
       "      <th>min</th>\n",
       "      <td>NaN</td>\n",
       "      <td>NaN</td>\n",
       "      <td>0.970000</td>\n",
       "      <td>100.000000</td>\n",
       "      <td>NaN</td>\n",
       "      <td>NaN</td>\n",
       "    </tr>\n",
       "    <tr>\n",
       "      <th>25%</th>\n",
       "      <td>NaN</td>\n",
       "      <td>NaN</td>\n",
       "      <td>3.525000</td>\n",
       "      <td>976.250000</td>\n",
       "      <td>NaN</td>\n",
       "      <td>NaN</td>\n",
       "    </tr>\n",
       "    <tr>\n",
       "      <th>50%</th>\n",
       "      <td>NaN</td>\n",
       "      <td>NaN</td>\n",
       "      <td>5.475000</td>\n",
       "      <td>1668.000000</td>\n",
       "      <td>NaN</td>\n",
       "      <td>NaN</td>\n",
       "    </tr>\n",
       "    <tr>\n",
       "      <th>75%</th>\n",
       "      <td>NaN</td>\n",
       "      <td>NaN</td>\n",
       "      <td>7.622500</td>\n",
       "      <td>2345.000000</td>\n",
       "      <td>NaN</td>\n",
       "      <td>NaN</td>\n",
       "    </tr>\n",
       "    <tr>\n",
       "      <th>max</th>\n",
       "      <td>NaN</td>\n",
       "      <td>NaN</td>\n",
       "      <td>11.570000</td>\n",
       "      <td>2986.000000</td>\n",
       "      <td>NaN</td>\n",
       "      <td>NaN</td>\n",
       "    </tr>\n",
       "  </tbody>\n",
       "</table>\n",
       "</div>"
      ],
      "text/plain": [
       "       Nombre Cliente Tipo Producto  Precio (€/kg)  Cantidad Vendida (kg)  \\\n",
       "count             300           300     300.000000             300.000000   \n",
       "unique             11             4            NaN                    NaN   \n",
       "top         Mercadona    Cacahuetes            NaN                    NaN   \n",
       "freq               33           100            NaN                    NaN   \n",
       "mean              NaN           NaN       5.598333            1616.950000   \n",
       "std               NaN           NaN       2.673505             842.463231   \n",
       "min               NaN           NaN       0.970000             100.000000   \n",
       "25%               NaN           NaN       3.525000             976.250000   \n",
       "50%               NaN           NaN       5.475000            1668.000000   \n",
       "75%               NaN           NaN       7.622500            2345.000000   \n",
       "max               NaN           NaN      11.570000            2986.000000   \n",
       "\n",
       "       Fecha Venta Provincia Cliente  \n",
       "count          300               300  \n",
       "unique         204                 6  \n",
       "top        6/12/23         Barcelona  \n",
       "freq             5                57  \n",
       "mean           NaN               NaN  \n",
       "std            NaN               NaN  \n",
       "min            NaN               NaN  \n",
       "25%            NaN               NaN  \n",
       "50%            NaN               NaN  \n",
       "75%            NaN               NaN  \n",
       "max            NaN               NaN  "
      ]
     },
     "execution_count": 17,
     "metadata": {},
     "output_type": "execute_result"
    }
   ],
   "source": [
    "# Devuelve los que yo decida incluir, cacahuate es el registro que más aparece pero no significa que se ael más vendido\n",
    "df.describe(include='all')"
   ]
  },
  {
   "cell_type": "code",
   "execution_count": 20,
   "metadata": {},
   "outputs": [
    {
     "data": {
      "text/html": [
       "<div>\n",
       "<style scoped>\n",
       "    .dataframe tbody tr th:only-of-type {\n",
       "        vertical-align: middle;\n",
       "    }\n",
       "\n",
       "    .dataframe tbody tr th {\n",
       "        vertical-align: top;\n",
       "    }\n",
       "\n",
       "    .dataframe thead th {\n",
       "        text-align: right;\n",
       "    }\n",
       "</style>\n",
       "<table border=\"1\" class=\"dataframe\">\n",
       "  <thead>\n",
       "    <tr style=\"text-align: right;\">\n",
       "      <th></th>\n",
       "      <th>Nombre Cliente</th>\n",
       "      <th>Tipo Producto</th>\n",
       "      <th>Fecha Venta</th>\n",
       "      <th>Provincia Cliente</th>\n",
       "    </tr>\n",
       "  </thead>\n",
       "  <tbody>\n",
       "    <tr>\n",
       "      <th>count</th>\n",
       "      <td>300</td>\n",
       "      <td>300</td>\n",
       "      <td>300</td>\n",
       "      <td>300</td>\n",
       "    </tr>\n",
       "    <tr>\n",
       "      <th>unique</th>\n",
       "      <td>11</td>\n",
       "      <td>4</td>\n",
       "      <td>204</td>\n",
       "      <td>6</td>\n",
       "    </tr>\n",
       "    <tr>\n",
       "      <th>top</th>\n",
       "      <td>Mercadona</td>\n",
       "      <td>Cacahuetes</td>\n",
       "      <td>6/12/23</td>\n",
       "      <td>Barcelona</td>\n",
       "    </tr>\n",
       "    <tr>\n",
       "      <th>freq</th>\n",
       "      <td>33</td>\n",
       "      <td>100</td>\n",
       "      <td>5</td>\n",
       "      <td>57</td>\n",
       "    </tr>\n",
       "  </tbody>\n",
       "</table>\n",
       "</div>"
      ],
      "text/plain": [
       "       Nombre Cliente Tipo Producto Fecha Venta Provincia Cliente\n",
       "count             300           300         300               300\n",
       "unique             11             4         204                 6\n",
       "top         Mercadona    Cacahuetes     6/12/23         Barcelona\n",
       "freq               33           100           5                57"
      ]
     },
     "execution_count": 20,
     "metadata": {},
     "output_type": "execute_result"
    }
   ],
   "source": [
    "# Solo los objetos (vocal o = objeto)\n",
    "df.describe(include ='O')"
   ]
  },
  {
   "cell_type": "code",
   "execution_count": 22,
   "metadata": {},
   "outputs": [
    {
     "data": {
      "text/html": [
       "<div>\n",
       "<style scoped>\n",
       "    .dataframe tbody tr th:only-of-type {\n",
       "        vertical-align: middle;\n",
       "    }\n",
       "\n",
       "    .dataframe tbody tr th {\n",
       "        vertical-align: top;\n",
       "    }\n",
       "\n",
       "    .dataframe thead th {\n",
       "        text-align: right;\n",
       "    }\n",
       "</style>\n",
       "<table border=\"1\" class=\"dataframe\">\n",
       "  <thead>\n",
       "    <tr style=\"text-align: right;\">\n",
       "      <th></th>\n",
       "      <th>count</th>\n",
       "      <th>unique</th>\n",
       "      <th>top</th>\n",
       "      <th>freq</th>\n",
       "    </tr>\n",
       "  </thead>\n",
       "  <tbody>\n",
       "    <tr>\n",
       "      <th>Nombre Cliente</th>\n",
       "      <td>300</td>\n",
       "      <td>11</td>\n",
       "      <td>Mercadona</td>\n",
       "      <td>33</td>\n",
       "    </tr>\n",
       "    <tr>\n",
       "      <th>Tipo Producto</th>\n",
       "      <td>300</td>\n",
       "      <td>4</td>\n",
       "      <td>Cacahuetes</td>\n",
       "      <td>100</td>\n",
       "    </tr>\n",
       "    <tr>\n",
       "      <th>Fecha Venta</th>\n",
       "      <td>300</td>\n",
       "      <td>204</td>\n",
       "      <td>6/12/23</td>\n",
       "      <td>5</td>\n",
       "    </tr>\n",
       "    <tr>\n",
       "      <th>Provincia Cliente</th>\n",
       "      <td>300</td>\n",
       "      <td>6</td>\n",
       "      <td>Barcelona</td>\n",
       "      <td>57</td>\n",
       "    </tr>\n",
       "  </tbody>\n",
       "</table>\n",
       "</div>"
      ],
      "text/plain": [
       "                  count unique         top freq\n",
       "Nombre Cliente      300     11   Mercadona   33\n",
       "Tipo Producto       300      4  Cacahuetes  100\n",
       "Fecha Venta         300    204     6/12/23    5\n",
       "Provincia Cliente   300      6   Barcelona   57"
      ]
     },
     "execution_count": 22,
     "metadata": {},
     "output_type": "execute_result"
    }
   ],
   "source": [
    "# Ver el traspuesto con .T \n",
    "df.describe(include='O').T"
   ]
  },
  {
   "cell_type": "code",
   "execution_count": 23,
   "metadata": {},
   "outputs": [
    {
     "data": {
      "text/html": [
       "<div>\n",
       "<style scoped>\n",
       "    .dataframe tbody tr th:only-of-type {\n",
       "        vertical-align: middle;\n",
       "    }\n",
       "\n",
       "    .dataframe tbody tr th {\n",
       "        vertical-align: top;\n",
       "    }\n",
       "\n",
       "    .dataframe thead th {\n",
       "        text-align: right;\n",
       "    }\n",
       "</style>\n",
       "<table border=\"1\" class=\"dataframe\">\n",
       "  <thead>\n",
       "    <tr style=\"text-align: right;\">\n",
       "      <th></th>\n",
       "      <th>count</th>\n",
       "      <th>mean</th>\n",
       "      <th>std</th>\n",
       "      <th>min</th>\n",
       "      <th>25%</th>\n",
       "      <th>50%</th>\n",
       "      <th>75%</th>\n",
       "      <th>max</th>\n",
       "    </tr>\n",
       "  </thead>\n",
       "  <tbody>\n",
       "    <tr>\n",
       "      <th>Precio (€/kg)</th>\n",
       "      <td>300.0</td>\n",
       "      <td>5.598333</td>\n",
       "      <td>2.673505</td>\n",
       "      <td>0.97</td>\n",
       "      <td>3.525</td>\n",
       "      <td>5.475</td>\n",
       "      <td>7.6225</td>\n",
       "      <td>11.57</td>\n",
       "    </tr>\n",
       "    <tr>\n",
       "      <th>Cantidad Vendida (kg)</th>\n",
       "      <td>300.0</td>\n",
       "      <td>1616.950000</td>\n",
       "      <td>842.463231</td>\n",
       "      <td>100.00</td>\n",
       "      <td>976.250</td>\n",
       "      <td>1668.000</td>\n",
       "      <td>2345.0000</td>\n",
       "      <td>2986.00</td>\n",
       "    </tr>\n",
       "  </tbody>\n",
       "</table>\n",
       "</div>"
      ],
      "text/plain": [
       "                       count         mean         std     min      25%  \\\n",
       "Precio (€/kg)          300.0     5.598333    2.673505    0.97    3.525   \n",
       "Cantidad Vendida (kg)  300.0  1616.950000  842.463231  100.00  976.250   \n",
       "\n",
       "                            50%        75%      max  \n",
       "Precio (€/kg)             5.475     7.6225    11.57  \n",
       "Cantidad Vendida (kg)  1668.000  2345.0000  2986.00  "
      ]
     },
     "execution_count": 23,
     "metadata": {},
     "output_type": "execute_result"
    }
   ],
   "source": [
    "df.describe().T"
   ]
  }
 ],
 "metadata": {
  "kernelspec": {
   "display_name": "Python 3",
   "language": "python",
   "name": "python3"
  },
  "language_info": {
   "codemirror_mode": {
    "name": "ipython",
    "version": 3
   },
   "file_extension": ".py",
   "mimetype": "text/x-python",
   "name": "python",
   "nbconvert_exporter": "python",
   "pygments_lexer": "ipython3",
   "version": "3.9.13"
  }
 },
 "nbformat": 4,
 "nbformat_minor": 2
}
