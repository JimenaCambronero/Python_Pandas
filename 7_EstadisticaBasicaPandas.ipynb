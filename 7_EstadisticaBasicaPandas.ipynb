{
 "cells": [
  {
   "cell_type": "markdown",
   "metadata": {},
   "source": [
    "# Estadisticos Básicos Pandas"
   ]
  },
  {
   "cell_type": "markdown",
   "metadata": {},
   "source": [
    "## Variables Categóricas"
   ]
  },
  {
   "cell_type": "code",
   "execution_count": 1,
   "metadata": {},
   "outputs": [],
   "source": [
    "import pandas as pd\n",
    "df = pd.read_excel('/Users/jimenacambronero/Desktop/Proyectos para Portfolio/PythonPracticas/Datos/Frutos_Secos_unicos.xlsx')"
   ]
  },
  {
   "cell_type": "code",
   "execution_count": 2,
   "metadata": {},
   "outputs": [
    {
     "data": {
      "text/plain": [
       "Cacahuetes    100\n",
       "Almendras      69\n",
       "Pistachos      66\n",
       "Nueces         65\n",
       "Name: Tipo Producto, dtype: int64"
      ]
     },
     "execution_count": 2,
     "metadata": {},
     "output_type": "execute_result"
    }
   ],
   "source": [
    "# Conteo de frecuencias\n",
    "df['Tipo Producto'].value_counts()"
   ]
  },
  {
   "cell_type": "code",
   "execution_count": 3,
   "metadata": {},
   "outputs": [
    {
     "data": {
      "text/plain": [
       "Cacahuetes    33.333333\n",
       "Almendras     23.000000\n",
       "Pistachos     22.000000\n",
       "Nueces        21.666667\n",
       "Name: Tipo Producto, dtype: float64"
      ]
     },
     "execution_count": 3,
     "metadata": {},
     "output_type": "execute_result"
    }
   ],
   "source": [
    "# En porcentaje\n",
    "df['Tipo Producto'].value_counts(normalize=True)*100"
   ]
  },
  {
   "cell_type": "code",
   "execution_count": 4,
   "metadata": {},
   "outputs": [
    {
     "data": {
      "text/plain": [
       "0    Mercadona\n",
       "Name: Nombre Cliente, dtype: object"
      ]
     },
     "execution_count": 4,
     "metadata": {},
     "output_type": "execute_result"
    }
   ],
   "source": [
    "# Moda (Valor más frecuente)\n",
    "df['Nombre Cliente'].mode()"
   ]
  },
  {
   "cell_type": "code",
   "execution_count": 5,
   "metadata": {},
   "outputs": [
    {
     "data": {
      "text/plain": [
       "0    Cacahuetes\n",
       "Name: Tipo Producto, dtype: object"
      ]
     },
     "execution_count": 5,
     "metadata": {},
     "output_type": "execute_result"
    }
   ],
   "source": [
    "#Moda (Valor más Frecuente)\n",
    "df['Tipo Producto'].mode()"
   ]
  },
  {
   "cell_type": "markdown",
   "metadata": {},
   "source": [
    "## Variables Continuas"
   ]
  },
  {
   "cell_type": "code",
   "execution_count": 6,
   "metadata": {},
   "outputs": [
    {
     "data": {
      "text/plain": [
       "5.598333333333333"
      ]
     },
     "execution_count": 6,
     "metadata": {},
     "output_type": "execute_result"
    }
   ],
   "source": [
    "# Media\n",
    "df['Precio (€/kg)'].mean()"
   ]
  },
  {
   "cell_type": "code",
   "execution_count": 7,
   "metadata": {},
   "outputs": [
    {
     "data": {
      "text/plain": [
       "5.475"
      ]
     },
     "execution_count": 7,
     "metadata": {},
     "output_type": "execute_result"
    }
   ],
   "source": [
    "# Mediana\n",
    "df['Precio (€/kg)'].median()"
   ]
  },
  {
   "cell_type": "code",
   "execution_count": 8,
   "metadata": {},
   "outputs": [
    {
     "data": {
      "text/plain": [
       "11.57"
      ]
     },
     "execution_count": 8,
     "metadata": {},
     "output_type": "execute_result"
    }
   ],
   "source": [
    "# Máximo\n",
    "df['Precio (€/kg)'].max()"
   ]
  },
  {
   "cell_type": "code",
   "execution_count": 9,
   "metadata": {},
   "outputs": [
    {
     "data": {
      "text/plain": [
       "0.97"
      ]
     },
     "execution_count": 9,
     "metadata": {},
     "output_type": "execute_result"
    }
   ],
   "source": [
    "# Mínimo\n",
    "df['Precio (€/kg)'].min()"
   ]
  },
  {
   "cell_type": "code",
   "execution_count": 10,
   "metadata": {},
   "outputs": [
    {
     "data": {
      "text/plain": [
       "12"
      ]
     },
     "execution_count": 10,
     "metadata": {},
     "output_type": "execute_result"
    }
   ],
   "source": [
    "# Localizar el Indice del valor máximo\n",
    "df['Precio (€/kg)'].idxmax()"
   ]
  },
  {
   "cell_type": "code",
   "execution_count": 12,
   "metadata": {},
   "outputs": [
    {
     "data": {
      "text/plain": [
       "Nombre Cliente                 Aldi\n",
       "Tipo Producto            Cacahuetes\n",
       "Precio (€/kg)                 11.57\n",
       "Cantidad Vendida (kg)          1650\n",
       "Fecha Venta                 8/12/23\n",
       "Provincia Cliente           Sevilla\n",
       "id                           389944\n",
       "Completado                       Si\n",
       "Name: 12, dtype: object"
      ]
     },
     "execution_count": 12,
     "metadata": {},
     "output_type": "execute_result"
    }
   ],
   "source": [
    "df.iloc[12]"
   ]
  },
  {
   "cell_type": "code",
   "execution_count": 11,
   "metadata": {},
   "outputs": [
    {
     "data": {
      "text/plain": [
       "206"
      ]
     },
     "execution_count": 11,
     "metadata": {},
     "output_type": "execute_result"
    }
   ],
   "source": [
    "# Localizar el Indice del valor mínimo\n",
    "df['Precio (€/kg)'].idxmin()"
   ]
  },
  {
   "cell_type": "code",
   "execution_count": 13,
   "metadata": {},
   "outputs": [
    {
     "data": {
      "text/plain": [
       "Nombre Cliente           Mas y Mas\n",
       "Tipo Producto            Pistachos\n",
       "Precio (€/kg)                 0.97\n",
       "Cantidad Vendida (kg)          316\n",
       "Fecha Venta                26/1/23\n",
       "Provincia Cliente            Cádiz\n",
       "id                          390138\n",
       "Completado                      Si\n",
       "Name: 206, dtype: object"
      ]
     },
     "execution_count": 13,
     "metadata": {},
     "output_type": "execute_result"
    }
   ],
   "source": [
    "df.iloc[206]"
   ]
  },
  {
   "cell_type": "markdown",
   "metadata": {},
   "source": [
    "## Correlación"
   ]
  },
  {
   "cell_type": "markdown",
   "metadata": {},
   "source": [
    "## Variables Continuas\n",
    "\n",
    "Una variables continua es una caraceristica que puede tomar cualquier valor dentro de un rango específico. No se limita a valores discretos y puede tener infinitos valores posibles. Por ejemplo, la altura de las personas es una variable continua, ya que puede ser cualquier valor en el rango entre la estatura más corta y la más alta"
   ]
  },
  {
   "cell_type": "code",
   "execution_count": 14,
   "metadata": {},
   "outputs": [],
   "source": [
    "df_numericos = df.select_dtypes(include=['float64','int64'])"
   ]
  },
  {
   "cell_type": "code",
   "execution_count": 15,
   "metadata": {},
   "outputs": [
    {
     "data": {
      "text/html": [
       "<div>\n",
       "<style scoped>\n",
       "    .dataframe tbody tr th:only-of-type {\n",
       "        vertical-align: middle;\n",
       "    }\n",
       "\n",
       "    .dataframe tbody tr th {\n",
       "        vertical-align: top;\n",
       "    }\n",
       "\n",
       "    .dataframe thead th {\n",
       "        text-align: right;\n",
       "    }\n",
       "</style>\n",
       "<table border=\"1\" class=\"dataframe\">\n",
       "  <thead>\n",
       "    <tr style=\"text-align: right;\">\n",
       "      <th></th>\n",
       "      <th>Precio (€/kg)</th>\n",
       "      <th>Cantidad Vendida (kg)</th>\n",
       "      <th>id</th>\n",
       "    </tr>\n",
       "  </thead>\n",
       "  <tbody>\n",
       "    <tr>\n",
       "      <th>Precio (€/kg)</th>\n",
       "      <td>1.000000</td>\n",
       "      <td>-0.114999</td>\n",
       "      <td>-0.059525</td>\n",
       "    </tr>\n",
       "    <tr>\n",
       "      <th>Cantidad Vendida (kg)</th>\n",
       "      <td>-0.114999</td>\n",
       "      <td>1.000000</td>\n",
       "      <td>-0.080907</td>\n",
       "    </tr>\n",
       "    <tr>\n",
       "      <th>id</th>\n",
       "      <td>-0.059525</td>\n",
       "      <td>-0.080907</td>\n",
       "      <td>1.000000</td>\n",
       "    </tr>\n",
       "  </tbody>\n",
       "</table>\n",
       "</div>"
      ],
      "text/plain": [
       "                       Precio (€/kg)  Cantidad Vendida (kg)        id\n",
       "Precio (€/kg)               1.000000              -0.114999 -0.059525\n",
       "Cantidad Vendida (kg)      -0.114999               1.000000 -0.080907\n",
       "id                         -0.059525              -0.080907  1.000000"
      ]
     },
     "execution_count": 15,
     "metadata": {},
     "output_type": "execute_result"
    }
   ],
   "source": [
    "# Correlación \n",
    "df_numericos.corr()"
   ]
  },
  {
   "cell_type": "code",
   "execution_count": 16,
   "metadata": {},
   "outputs": [
    {
     "data": {
      "text/html": [
       "<div>\n",
       "<style scoped>\n",
       "    .dataframe tbody tr th:only-of-type {\n",
       "        vertical-align: middle;\n",
       "    }\n",
       "\n",
       "    .dataframe tbody tr th {\n",
       "        vertical-align: top;\n",
       "    }\n",
       "\n",
       "    .dataframe thead th {\n",
       "        text-align: right;\n",
       "    }\n",
       "</style>\n",
       "<table border=\"1\" class=\"dataframe\">\n",
       "  <thead>\n",
       "    <tr style=\"text-align: right;\">\n",
       "      <th></th>\n",
       "      <th>Precio (€/kg)</th>\n",
       "      <th>Cantidad Vendida (kg)</th>\n",
       "      <th>id</th>\n",
       "    </tr>\n",
       "  </thead>\n",
       "  <tbody>\n",
       "    <tr>\n",
       "      <th>Precio (€/kg)</th>\n",
       "      <td>1.000000</td>\n",
       "      <td>-0.114999</td>\n",
       "      <td>-0.059525</td>\n",
       "    </tr>\n",
       "    <tr>\n",
       "      <th>Cantidad Vendida (kg)</th>\n",
       "      <td>-0.114999</td>\n",
       "      <td>1.000000</td>\n",
       "      <td>-0.080907</td>\n",
       "    </tr>\n",
       "    <tr>\n",
       "      <th>id</th>\n",
       "      <td>-0.059525</td>\n",
       "      <td>-0.080907</td>\n",
       "      <td>1.000000</td>\n",
       "    </tr>\n",
       "  </tbody>\n",
       "</table>\n",
       "</div>"
      ],
      "text/plain": [
       "                       Precio (€/kg)  Cantidad Vendida (kg)        id\n",
       "Precio (€/kg)               1.000000              -0.114999 -0.059525\n",
       "Cantidad Vendida (kg)      -0.114999               1.000000 -0.080907\n",
       "id                         -0.059525              -0.080907  1.000000"
      ]
     },
     "execution_count": 16,
     "metadata": {},
     "output_type": "execute_result"
    }
   ],
   "source": [
    "df_numericos.corr(method='pearson') #método por defecto"
   ]
  },
  {
   "cell_type": "code",
   "execution_count": 18,
   "metadata": {},
   "outputs": [
    {
     "data": {
      "text/plain": [
       "-0.11499876970258154"
      ]
     },
     "execution_count": 18,
     "metadata": {},
     "output_type": "execute_result"
    }
   ],
   "source": [
    "# Ver la correlación solo entre dos variables\n",
    "df_numericos['Precio (€/kg)'].corr(df_numericos['Cantidad Vendida (kg)'])"
   ]
  },
  {
   "cell_type": "code",
   "execution_count": 21,
   "metadata": {},
   "outputs": [
    {
     "data": {
      "text/html": [
       "<div>\n",
       "<style scoped>\n",
       "    .dataframe tbody tr th:only-of-type {\n",
       "        vertical-align: middle;\n",
       "    }\n",
       "\n",
       "    .dataframe tbody tr th {\n",
       "        vertical-align: top;\n",
       "    }\n",
       "\n",
       "    .dataframe thead th {\n",
       "        text-align: right;\n",
       "    }\n",
       "</style>\n",
       "<table border=\"1\" class=\"dataframe\">\n",
       "  <thead>\n",
       "    <tr style=\"text-align: right;\">\n",
       "      <th></th>\n",
       "      <th>Año</th>\n",
       "      <th>Beneficios</th>\n",
       "      <th>Valor en Bolsa</th>\n",
       "    </tr>\n",
       "  </thead>\n",
       "  <tbody>\n",
       "    <tr>\n",
       "      <th>0</th>\n",
       "      <td>1</td>\n",
       "      <td>109.934283</td>\n",
       "      <td>92.923789</td>\n",
       "    </tr>\n",
       "    <tr>\n",
       "      <th>1</th>\n",
       "      <td>2</td>\n",
       "      <td>97.234714</td>\n",
       "      <td>106.034024</td>\n",
       "    </tr>\n",
       "    <tr>\n",
       "      <th>2</th>\n",
       "      <td>3</td>\n",
       "      <td>112.953771</td>\n",
       "      <td>101.523421</td>\n",
       "    </tr>\n",
       "    <tr>\n",
       "      <th>3</th>\n",
       "      <td>4</td>\n",
       "      <td>130.460597</td>\n",
       "      <td>106.837428</td>\n",
       "    </tr>\n",
       "    <tr>\n",
       "      <th>4</th>\n",
       "      <td>5</td>\n",
       "      <td>95.316933</td>\n",
       "      <td>94.010688</td>\n",
       "    </tr>\n",
       "  </tbody>\n",
       "</table>\n",
       "</div>"
      ],
      "text/plain": [
       "   Año  Beneficios  Valor en Bolsa\n",
       "0    1  109.934283       92.923789\n",
       "1    2   97.234714      106.034024\n",
       "2    3  112.953771      101.523421\n",
       "3    4  130.460597      106.837428\n",
       "4    5   95.316933       94.010688"
      ]
     },
     "execution_count": 21,
     "metadata": {},
     "output_type": "execute_result"
    }
   ],
   "source": [
    "df_corre = pd.read_excel('/Users/jimenacambronero/Desktop/Proyectos para Portfolio/PythonPracticas/Datos/datos_correlacionados.xlsx')\n",
    "\n",
    "df_corre.head()"
   ]
  },
  {
   "cell_type": "code",
   "execution_count": null,
   "metadata": {},
   "outputs": [],
   "source": [
    "df_corre['Beneficios'].corr([df_corre['Valor en Bolsa']])"
   ]
  },
  {
   "cell_type": "code",
   "execution_count": 22,
   "metadata": {},
   "outputs": [
    {
     "data": {
      "text/plain": [
       "<function matplotlib.pyplot.show(close=None, block=None)>"
      ]
     },
     "execution_count": 22,
     "metadata": {},
     "output_type": "execute_result"
    },
    {
     "data": {
      "image/png": "[encoded data removed]",
      "text/plain": [
       "<Figure size 640x480 with 1 Axes>"
      ]
     },
     "metadata": {},
     "output_type": "display_data"
    }
   ],
   "source": [
    "import seaborn as sns\n",
    "import matplotlib.pyplot as plt\n",
    "\n",
    "# Gráfico de dispersión con una linea de regresión\n",
    "sns.regplot(x='Beneficios', y='Valor en Bolsa', data=df_corre)\n",
    "plt.title('Correlación entre Beneficios y Valor en Bolsa')\n",
    "plt.xlabel('Beneficios')\n",
    "plt.ylabel('Valor en Bolsa')\n",
    "plt.show"
   ]
  },
  {
   "cell_type": "markdown",
   "metadata": {},
   "source": [
    "Correlación postiva. A mayor Valor en Bolsa mayor Beneficio. "
   ]
  },
  {
   "cell_type": "code",
   "execution_count": 23,
   "metadata": {},
   "outputs": [
    {
     "data": {
      "image/png": "[encoded data removed]",
      "text/plain": [
       "<Figure size 1000x600 with 1 Axes>"
      ]
     },
     "metadata": {},
     "output_type": "display_data"
    }
   ],
   "source": [
    "# Gráfico de lineas\n",
    "plt.figure(figsize=(10,6))\n",
    "plt.plot(df_corre['Año'], df_corre['Beneficios'], label= 'Beneficios')\n",
    "plt.plot(df_corre['Año'], df_corre['Valor en Bolsa'], label='Valor en Bolsa')\n",
    "\n",
    "# Etiquetas y leyenda\n",
    "plt.title('Evaloción de Beneficios y Valor en Bolsa a lo largo de los años')\n",
    "plt.xlabel('Año')\n",
    "plt.ylabel('Cantidad')\n",
    "plt.legend()\n",
    "\n",
    "plt.show()"
   ]
  },
  {
   "cell_type": "markdown",
   "metadata": {},
   "source": [
    "### Ordinales"
   ]
  },
  {
   "cell_type": "markdown",
   "metadata": {},
   "source": [
    "Si las caracteristicas que estamos comparando no son números que pueden tomar cualquier valor( como la edad o la temperatura), sino que tienen un orden (como la clasificacion de productos de peor a mejor), entonces usas métodos como la tau e Kendall o la Rho de Spearman."
   ]
  },
  {
   "cell_type": "code",
   "execution_count": 24,
   "metadata": {},
   "outputs": [],
   "source": [
    "import scipy"
   ]
  },
  {
   "cell_type": "code",
   "execution_count": 25,
   "metadata": {},
   "outputs": [
    {
     "data": {
      "text/html": [
       "<div>\n",
       "<style scoped>\n",
       "    .dataframe tbody tr th:only-of-type {\n",
       "        vertical-align: middle;\n",
       "    }\n",
       "\n",
       "    .dataframe tbody tr th {\n",
       "        vertical-align: top;\n",
       "    }\n",
       "\n",
       "    .dataframe thead th {\n",
       "        text-align: right;\n",
       "    }\n",
       "</style>\n",
       "<table border=\"1\" class=\"dataframe\">\n",
       "  <thead>\n",
       "    <tr style=\"text-align: right;\">\n",
       "      <th></th>\n",
       "      <th>Precio (€/kg)</th>\n",
       "      <th>Cantidad Vendida (kg)</th>\n",
       "      <th>id</th>\n",
       "    </tr>\n",
       "  </thead>\n",
       "  <tbody>\n",
       "    <tr>\n",
       "      <th>Precio (€/kg)</th>\n",
       "      <td>1.000000</td>\n",
       "      <td>-0.073944</td>\n",
       "      <td>-0.036675</td>\n",
       "    </tr>\n",
       "    <tr>\n",
       "      <th>Cantidad Vendida (kg)</th>\n",
       "      <td>-0.073944</td>\n",
       "      <td>1.000000</td>\n",
       "      <td>-0.055171</td>\n",
       "    </tr>\n",
       "    <tr>\n",
       "      <th>id</th>\n",
       "      <td>-0.036675</td>\n",
       "      <td>-0.055171</td>\n",
       "      <td>1.000000</td>\n",
       "    </tr>\n",
       "  </tbody>\n",
       "</table>\n",
       "</div>"
      ],
      "text/plain": [
       "                       Precio (€/kg)  Cantidad Vendida (kg)        id\n",
       "Precio (€/kg)               1.000000              -0.073944 -0.036675\n",
       "Cantidad Vendida (kg)      -0.073944               1.000000 -0.055171\n",
       "id                         -0.036675              -0.055171  1.000000"
      ]
     },
     "execution_count": 25,
     "metadata": {},
     "output_type": "execute_result"
    }
   ],
   "source": [
    "df_numericos.corr(method='kendall')"
   ]
  },
  {
   "cell_type": "code",
   "execution_count": 26,
   "metadata": {},
   "outputs": [
    {
     "data": {
      "text/html": [
       "<div>\n",
       "<style scoped>\n",
       "    .dataframe tbody tr th:only-of-type {\n",
       "        vertical-align: middle;\n",
       "    }\n",
       "\n",
       "    .dataframe tbody tr th {\n",
       "        vertical-align: top;\n",
       "    }\n",
       "\n",
       "    .dataframe thead th {\n",
       "        text-align: right;\n",
       "    }\n",
       "</style>\n",
       "<table border=\"1\" class=\"dataframe\">\n",
       "  <thead>\n",
       "    <tr style=\"text-align: right;\">\n",
       "      <th></th>\n",
       "      <th>Precio (€/kg)</th>\n",
       "      <th>Cantidad Vendida (kg)</th>\n",
       "      <th>id</th>\n",
       "    </tr>\n",
       "  </thead>\n",
       "  <tbody>\n",
       "    <tr>\n",
       "      <th>Precio (€/kg)</th>\n",
       "      <td>1.000000</td>\n",
       "      <td>-0.109109</td>\n",
       "      <td>-0.057322</td>\n",
       "    </tr>\n",
       "    <tr>\n",
       "      <th>Cantidad Vendida (kg)</th>\n",
       "      <td>-0.109109</td>\n",
       "      <td>1.000000</td>\n",
       "      <td>-0.080302</td>\n",
       "    </tr>\n",
       "    <tr>\n",
       "      <th>id</th>\n",
       "      <td>-0.057322</td>\n",
       "      <td>-0.080302</td>\n",
       "      <td>1.000000</td>\n",
       "    </tr>\n",
       "  </tbody>\n",
       "</table>\n",
       "</div>"
      ],
      "text/plain": [
       "                       Precio (€/kg)  Cantidad Vendida (kg)        id\n",
       "Precio (€/kg)               1.000000              -0.109109 -0.057322\n",
       "Cantidad Vendida (kg)      -0.109109               1.000000 -0.080302\n",
       "id                         -0.057322              -0.080302  1.000000"
      ]
     },
     "execution_count": 26,
     "metadata": {},
     "output_type": "execute_result"
    }
   ],
   "source": [
    "df_numericos.corr(method='spearman') # no sigue una correlacion lineal (ejemplo edad - compra de tecnología)"
   ]
  },
  {
   "cell_type": "code",
   "execution_count": 27,
   "metadata": {},
   "outputs": [
    {
     "data": {
      "text/plain": [
       "-0.07394350955380263"
      ]
     },
     "execution_count": 27,
     "metadata": {},
     "output_type": "execute_result"
    }
   ],
   "source": [
    "df_numericos['Precio (€/kg)'].corr(df_numericos['Cantidad Vendida (kg)'], method='kendall')"
   ]
  },
  {
   "cell_type": "markdown",
   "metadata": {},
   "source": [
    "## Seleccionar Variables según su Tipología"
   ]
  },
  {
   "cell_type": "code",
   "execution_count": 30,
   "metadata": {},
   "outputs": [],
   "source": [
    "df=pd.read_excel('/Users/jimenacambronero/Desktop/Proyectos para Portfolio/PythonPracticas/Datos/Frutos_Secos_unicos.xlsx')"
   ]
  },
  {
   "cell_type": "code",
   "execution_count": 31,
   "metadata": {},
   "outputs": [
    {
     "data": {
      "text/html": [
       "<div>\n",
       "<style scoped>\n",
       "    .dataframe tbody tr th:only-of-type {\n",
       "        vertical-align: middle;\n",
       "    }\n",
       "\n",
       "    .dataframe tbody tr th {\n",
       "        vertical-align: top;\n",
       "    }\n",
       "\n",
       "    .dataframe thead th {\n",
       "        text-align: right;\n",
       "    }\n",
       "</style>\n",
       "<table border=\"1\" class=\"dataframe\">\n",
       "  <thead>\n",
       "    <tr style=\"text-align: right;\">\n",
       "      <th></th>\n",
       "      <th>Nombre Cliente</th>\n",
       "      <th>Tipo Producto</th>\n",
       "      <th>Precio (€/kg)</th>\n",
       "      <th>Cantidad Vendida (kg)</th>\n",
       "      <th>Fecha Venta</th>\n",
       "      <th>Provincia Cliente</th>\n",
       "      <th>id</th>\n",
       "      <th>Completado</th>\n",
       "    </tr>\n",
       "  </thead>\n",
       "  <tbody>\n",
       "    <tr>\n",
       "      <th>0</th>\n",
       "      <td>Mas y Mas</td>\n",
       "      <td>Almendras</td>\n",
       "      <td>4.54</td>\n",
       "      <td>1212</td>\n",
       "      <td>29/3/23</td>\n",
       "      <td>Cádiz</td>\n",
       "      <td>389932</td>\n",
       "      <td>Si</td>\n",
       "    </tr>\n",
       "    <tr>\n",
       "      <th>1</th>\n",
       "      <td>Mercadona</td>\n",
       "      <td>Nueces</td>\n",
       "      <td>5.84</td>\n",
       "      <td>591</td>\n",
       "      <td>5/12/23</td>\n",
       "      <td>Sevilla</td>\n",
       "      <td>389933</td>\n",
       "      <td>Si</td>\n",
       "    </tr>\n",
       "    <tr>\n",
       "      <th>2</th>\n",
       "      <td>Alcampo</td>\n",
       "      <td>Cacahuetes</td>\n",
       "      <td>2.69</td>\n",
       "      <td>2831</td>\n",
       "      <td>26/7/23</td>\n",
       "      <td>Madrid</td>\n",
       "      <td>389934</td>\n",
       "      <td>Si</td>\n",
       "    </tr>\n",
       "  </tbody>\n",
       "</table>\n",
       "</div>"
      ],
      "text/plain": [
       "  Nombre Cliente Tipo Producto  Precio (€/kg)  Cantidad Vendida (kg)  \\\n",
       "0      Mas y Mas     Almendras           4.54                   1212   \n",
       "1      Mercadona        Nueces           5.84                    591   \n",
       "2        Alcampo    Cacahuetes           2.69                   2831   \n",
       "\n",
       "  Fecha Venta Provincia Cliente      id Completado  \n",
       "0     29/3/23             Cádiz  389932         Si  \n",
       "1     5/12/23           Sevilla  389933         Si  \n",
       "2     26/7/23            Madrid  389934         Si  "
      ]
     },
     "execution_count": 31,
     "metadata": {},
     "output_type": "execute_result"
    }
   ],
   "source": [
    "df.head(3)"
   ]
  },
  {
   "cell_type": "code",
   "execution_count": 32,
   "metadata": {},
   "outputs": [
    {
     "data": {
      "text/html": [
       "<div>\n",
       "<style scoped>\n",
       "    .dataframe tbody tr th:only-of-type {\n",
       "        vertical-align: middle;\n",
       "    }\n",
       "\n",
       "    .dataframe tbody tr th {\n",
       "        vertical-align: top;\n",
       "    }\n",
       "\n",
       "    .dataframe thead th {\n",
       "        text-align: right;\n",
       "    }\n",
       "</style>\n",
       "<table border=\"1\" class=\"dataframe\">\n",
       "  <thead>\n",
       "    <tr style=\"text-align: right;\">\n",
       "      <th></th>\n",
       "      <th>Precio (€/kg)</th>\n",
       "      <th>Cantidad Vendida (kg)</th>\n",
       "      <th>id</th>\n",
       "    </tr>\n",
       "  </thead>\n",
       "  <tbody>\n",
       "    <tr>\n",
       "      <th>0</th>\n",
       "      <td>4.54</td>\n",
       "      <td>1212</td>\n",
       "      <td>389932</td>\n",
       "    </tr>\n",
       "    <tr>\n",
       "      <th>1</th>\n",
       "      <td>5.84</td>\n",
       "      <td>591</td>\n",
       "      <td>389933</td>\n",
       "    </tr>\n",
       "    <tr>\n",
       "      <th>2</th>\n",
       "      <td>2.69</td>\n",
       "      <td>2831</td>\n",
       "      <td>389934</td>\n",
       "    </tr>\n",
       "    <tr>\n",
       "      <th>3</th>\n",
       "      <td>6.70</td>\n",
       "      <td>516</td>\n",
       "      <td>389935</td>\n",
       "    </tr>\n",
       "    <tr>\n",
       "      <th>4</th>\n",
       "      <td>6.14</td>\n",
       "      <td>1283</td>\n",
       "      <td>389936</td>\n",
       "    </tr>\n",
       "    <tr>\n",
       "      <th>...</th>\n",
       "      <td>...</td>\n",
       "      <td>...</td>\n",
       "      <td>...</td>\n",
       "    </tr>\n",
       "    <tr>\n",
       "      <th>295</th>\n",
       "      <td>9.75</td>\n",
       "      <td>2367</td>\n",
       "      <td>390227</td>\n",
       "    </tr>\n",
       "    <tr>\n",
       "      <th>296</th>\n",
       "      <td>3.82</td>\n",
       "      <td>1951</td>\n",
       "      <td>390228</td>\n",
       "    </tr>\n",
       "    <tr>\n",
       "      <th>297</th>\n",
       "      <td>5.22</td>\n",
       "      <td>2811</td>\n",
       "      <td>390229</td>\n",
       "    </tr>\n",
       "    <tr>\n",
       "      <th>298</th>\n",
       "      <td>8.07</td>\n",
       "      <td>473</td>\n",
       "      <td>390230</td>\n",
       "    </tr>\n",
       "    <tr>\n",
       "      <th>299</th>\n",
       "      <td>5.80</td>\n",
       "      <td>1081</td>\n",
       "      <td>390231</td>\n",
       "    </tr>\n",
       "  </tbody>\n",
       "</table>\n",
       "<p>300 rows × 3 columns</p>\n",
       "</div>"
      ],
      "text/plain": [
       "     Precio (€/kg)  Cantidad Vendida (kg)      id\n",
       "0             4.54                   1212  389932\n",
       "1             5.84                    591  389933\n",
       "2             2.69                   2831  389934\n",
       "3             6.70                    516  389935\n",
       "4             6.14                   1283  389936\n",
       "..             ...                    ...     ...\n",
       "295           9.75                   2367  390227\n",
       "296           3.82                   1951  390228\n",
       "297           5.22                   2811  390229\n",
       "298           8.07                    473  390230\n",
       "299           5.80                   1081  390231\n",
       "\n",
       "[300 rows x 3 columns]"
      ]
     },
     "execution_count": 32,
     "metadata": {},
     "output_type": "execute_result"
    }
   ],
   "source": [
    "df.select_dtypes('number')"
   ]
  },
  {
   "cell_type": "code",
   "execution_count": 33,
   "metadata": {},
   "outputs": [
    {
     "data": {
      "text/plain": [
       "Precio (€/kg)                 5.598333\n",
       "Cantidad Vendida (kg)      1616.950000\n",
       "id                       390081.500000\n",
       "dtype: float64"
      ]
     },
     "execution_count": 33,
     "metadata": {},
     "output_type": "execute_result"
    }
   ],
   "source": [
    "df.select_dtypes('number').mean()"
   ]
  }
 ],
 "metadata": {
  "kernelspec": {
   "display_name": "Python 3",
   "language": "python",
   "name": "python3"
  },
  "language_info": {
   "codemirror_mode": {
    "name": "ipython",
    "version": 3
   },
   "file_extension": ".py",
   "mimetype": "text/x-python",
   "name": "python",
   "nbconvert_exporter": "python",
   "pygments_lexer": "ipython3",
   "version": "3.9.13"
  }
 },
 "nbformat": 4,
 "nbformat_minor": 2
}
